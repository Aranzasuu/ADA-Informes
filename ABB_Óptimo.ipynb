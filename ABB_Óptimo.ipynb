{
  "nbformat": 4,
  "nbformat_minor": 0,
  "metadata": {
    "colab": {
      "provenance": [],
      "collapsed_sections": [],
      "authorship_tag": "ABX9TyN2kpOhs5kJuIYvbc/u9SSM",
      "include_colab_link": true
    },
    "kernelspec": {
      "name": "python3",
      "display_name": "Python 3"
    },
    "language_info": {
      "name": "python"
    }
  },
  "cells": [
    {
      "cell_type": "markdown",
      "metadata": {
        "id": "view-in-github",
        "colab_type": "text"
      },
      "source": [
        "<a href=\"https://colab.research.google.com/github/Aranzasuu/ADA-Informes/blob/main/ABB_%C3%93ptimo.ipynb\" target=\"_parent\"><img src=\"https://colab.research.google.com/assets/colab-badge.svg\" alt=\"Open In Colab\"/></a>"
      ]
    },
    {
      "cell_type": "markdown",
      "source": [
        "# **1. DESCRIPCIÓN DEL PROBLEMA**\n",
        "\n",
        "### **↪ PROBLEMA DE OPTIMIZACIÓN**\n",
        "\n",
        "▹ Los problemas de optimización buscan minimizar o maximizar el valor de una variable. Pero pongamonos en el caso que un programa que se configura para realizar una traducción de inglés a español. Para una palabra debe estar ligado a su traducción en el idioma especificado, teniendo en cuenta que cada palabra es buscada con distintas frecuencias, ¿Cómo podemos solucionar este problema ordenando una cantidad de palabras y mínimizar el tiempo de búsqueda?\n",
        "\n",
        "▹La razón por la que este problema se considera de **optimización** es porque el objetivo es **minimizar** el costo esperado de búsqueda, la cual corresponde a la cantidad de nodos que se visitan al realizar la búsqueda.\n",
        "\n",
        "> $$Costo Esperado = \\sum_{i}p_ic_i $$\n",
        "\n",
        "\n",
        "\n",
        "**↪ 𝙴𝚗𝚝𝚛𝚊𝚍𝚊:** Para la entrada tenemos varios valores que corresponden a:\n",
        "\n",
        "- *Una secuencia ordenada de n claves $K = (k_1, k_2, ... , k_n)$*\n",
        "> **IMPORTANTE:** $k_1 < k_2 < ... < k_n$\n",
        "- *Donde cada elemento de $K$ tiene una probabilidad $p_i$ de ser buscada.*\n",
        "> $$\\sum_{i=1}^{n}p_i + \\sum_{j=0}^{n}q_i = 1$$\n",
        "- *Tenemos que tener en cuenta que existen claves representadas con $d_i$ que corresponden a las búsquedas fallidas y estas tienen una probabilidad de $q_i$ de ser buscada.*\n",
        "> La **búsquedas fallidas** son aquellos valores que se buscan y no están contempladas en el árbol, es decir no se encuentran en el conjunto $K$.\n",
        "\n",
        "\n",
        "**↪ 𝚂𝚊𝚕𝚒𝚍𝚊:** La construcción de un árbol de búsqueda óptimo, es decir que minimiza la cantidad esperada de nodos visitados (costo esperado)."
      ],
      "metadata": {
        "id": "5rJ3NbLVBJ2S"
      }
    },
    {
      "cell_type": "markdown",
      "source": [
        "---"
      ],
      "metadata": {
        "id": "XfuV1_qe2IaC"
      }
    },
    {
      "cell_type": "markdown",
      "source": [
        "# **2. DESCRIPCIÓN DEL ALGORITMO**\n",
        "\n",
        "### **↪ SOLUCIÓN:** ÁRBOL BINARIO DE BÚSQUEDA ÓPTIMO\n",
        "\n",
        "▹ Un **árbol binario de búsqueda** corresponde a una estructura conformada por nodos (que normalmente tiene asociada un valor \"*key*\"). Estos siempre tienen una raíz, subárbol izquierdo y derecho, donde en el lado izquierdo corresponden a los nodos con valor menor a la raíz y el lado derecho corresponden a lo nodos con valor mayor a la raíz.\n",
        "\n",
        "> ![image](https://upload.wikimedia.org/wikipedia/commons/thumb/3/36/Binary_tree_%28oriented_digraph%29.png/192px-Binary_tree_%28oriented_digraph%29.png)\n",
        "\n",
        "▹ Pero, con el **árbol binario de búsqueda óptimo** se busca organizar el árbol de tal manera que minimice la cantidad de nodos visitados cuando se realice la búsqueda de alguna palabra.\n",
        "\n",
        "> ![image](https://programmerclick.com/images/944/246e43dd815623752cb37b8339985598.JPEG)\n",
        "\n",
        "Para implementar esta solución podemos realizarla de distintas formas, es por esto que aquí se implementará las siguientes soluciones:\n",
        "\n",
        "- Forma Recursiva\n",
        "- Acercamiento Bottom-Up\n",
        "\n",
        "Donde se mostrará el costo esperado y la imagen del árbol correspodiente a la entrada entregada.\n"
      ],
      "metadata": {
        "id": "UTmDzDrD2F3q"
      }
    },
    {
      "cell_type": "code",
      "source": [
        "# Importación de las librerías\n",
        "import matplotlib.pyplot as plt\n",
        "import math\n",
        "import datetime\n",
        "import seaborn as sns\n",
        "from timeit import repeat\n",
        "import numpy as np\n",
        "import random\n",
        "from termcolor import colored"
      ],
      "metadata": {
        "id": "1knev7GkAyVe"
      },
      "execution_count": 9,
      "outputs": []
    },
    {
      "cell_type": "markdown",
      "source": [
        "### **GENERADOR DE INSTANCIAS**"
      ],
      "metadata": {
        "id": "rLQCK5jdCCab"
      }
    },
    {
      "cell_type": "code",
      "source": [
        "def optimal_bst_instance_generator(n):\n",
        "    keys = sorted(random.sample(range(1, 100), n))\n",
        "    arr = np.random.random(n*2+1)\n",
        "    arr /= arr.sum()\n",
        "    \n",
        "    p = list(arr[:n]) # Probabilidad de las claves\n",
        "    q = arr[n:] # Probabilidad de las claves ficticias\n",
        "    return keys, p, q\n",
        "    \n",
        "keys, p, q = optimal_bst_instance_generator(10)"
      ],
      "metadata": {
        "id": "0kMdr7kaCFGv"
      },
      "execution_count": 13,
      "outputs": []
    },
    {
      "cell_type": "markdown",
      "source": [
        "## **2.1 SOLUCIÓN RECURSIVA**\n",
        "\n",
        "▹ Para calcular el costo óptimo de forma recursiva podemos utilizar la siguiente fórmula:\n",
        "\n",
        "> $$optCost(i,j) = \\sum_{k=i}^{j}frec[k] + min_{r=1}^{j}[optCost(i,r-1) + optCost(r+1,j)]$$\n",
        "\n",
        "▹ Con esto se necesita los índices $i$ y $j$ desde $0 ⟶ n-1$. Un punto a considerar es que al no guardar las soluciondes de los subproblemas, en cada iteración debe volver a calcularlos, así aumentando considerablemente la complejidad del algoritmo, lo que optimiza es la memoria, además el árbol puede ser modificado.\n",
        "\n",
        "▹ Para calcular $optcost(i,j)$ asumimos que la $r$ se toma como raíz y calculamos el mínimo entre $opt(i,r-1) + opt(r+1,j)$ para todo $i ≤ r ≤ j$. Aquí para cada subproblema estamos eligiendo un nodo como raíz. Pero en realidad el nivel de raíz de subproblema y todos sus nodos descendientes será 1 mayor que el nivel de la raíz del problema padre. Por lo tanto, se debe agregar la frecuencia de todos los nodos excepto $r$ que explica el descenso en su nivel en comparación con el nivel asumido en el subproblema. Es decir, que "
      ],
      "metadata": {
        "id": "_OzGK0V-4ZTf"
      }
    },
    {
      "cell_type": "code",
      "source": [
        "def optCost(freq, i, j):\n",
        "    if j < i:\n",
        "        return 0\n",
        "    if j == i:\n",
        "        return freq[i]\n",
        "    fsum = Sum(freq, i, j)\n",
        "\n",
        "    Min = 999999999999\n",
        "\n",
        "    for r in range(i, j + 1):\n",
        "        cost = (optCost(freq, i, r - 1) +\n",
        "                optCost(freq, r + 1, j))\n",
        "        if cost < Min:\n",
        "            Min = cost\n",
        "\n",
        "    return Min + fsum\n",
        "\n",
        "def optimalSearchTree(keys, freq, n):\n",
        "    return optCost(freq, 0, n - 1)\n",
        " \n",
        "def Sum(freq, i, j):\n",
        "    s = 0\n",
        "    for k in range(i, j + 1):\n",
        "        s += freq[k]\n",
        "    return s\n",
        "\n",
        "keys = [10, 12, 20]\n",
        "freq = [34, 8, 50]\n",
        "n = len(keys)\n",
        "print(\"El costo óptimo del ABB >>\", optimalSearchTree(keys, freq, n))"
      ],
      "metadata": {
        "colab": {
          "base_uri": "https://localhost:8080/"
        },
        "id": "S-NQJsEG_VVj",
        "outputId": "bff11488-6833-4026-d779-ffb4128edfae"
      },
      "execution_count": 14,
      "outputs": [
        {
          "output_type": "stream",
          "name": "stdout",
          "text": [
            "El costo óptimo del ABB >> 142\n"
          ]
        }
      ]
    },
    {
      "cell_type": "markdown",
      "source": [
        "## **EJEMPLO PASO A PASO (VERBOSE = TRUE)**"
      ],
      "metadata": {
        "id": "IhC0h4k2A3ay"
      }
    },
    {
      "cell_type": "markdown",
      "source": [
        "## **2.2 SOLUCIÓN ACERCAMIENTO BOTTOM-UP**\n"
      ],
      "metadata": {
        "id": "sq66nYje9tCK"
      }
    },
    {
      "cell_type": "code",
      "source": [
        "INT_MAX = 2147483647\n",
        "\n",
        "def optimalSearchTree(keys, freq, n):\n",
        "    cost = [[0 for x in range(n)]\n",
        "               for y in range(n)]\n",
        "\n",
        "    for i in range(n):\n",
        "        cost[i][i] = freq[i]\n",
        " \n",
        "    for L in range(2, n + 1):\n",
        "        for i in range(n - L + 2):\n",
        "            j = i + L - 1\n",
        "            off_set_sum = sum(freq, i, j)\n",
        "\n",
        "            if i >= n or j >= n: break\n",
        "\n",
        "            cost[i][j] = INT_MAX\n",
        "\n",
        "            for r in range(i, j + 1):\n",
        "                c = 0\n",
        "                if (r > i): c += cost[i][r - 1]\n",
        "                if (r < j): c += cost[r + 1][j]\n",
        "                c += off_set_sum\n",
        "                if (c < cost[i][j]): cost[i][j] = c\n",
        "    return cost[0][n - 1]\n",
        "\n",
        "def sum(freq, i, j):\n",
        " \n",
        "    s = 0\n",
        "    for k in range(i-1, j): \n",
        "      s += freq[k]\n",
        "    return s\n",
        "\n",
        "keys = [10, 12, 20]\n",
        "freq = [34, 8, 50]\n",
        "n = len(keys)\n",
        "print(\"El costo óptimo del ABB >>\", optimalSearchTree(keys, freq, n))\n",
        "     "
      ],
      "metadata": {
        "colab": {
          "base_uri": "https://localhost:8080/"
        },
        "id": "6LjO7AWY92c-",
        "outputId": "9ad20b3d-f574-4b9e-ff39-c9f251fd51c3"
      },
      "execution_count": 15,
      "outputs": [
        {
          "output_type": "stream",
          "name": "stdout",
          "text": [
            "El costo óptimo del ABB >> 142\n"
          ]
        }
      ]
    },
    {
      "cell_type": "markdown",
      "source": [
        "## **EJEMPLO PASO A PASO (VERBOSE = TRUE)**"
      ],
      "metadata": {
        "id": "8sWdwsYsA9ct"
      }
    },
    {
      "cell_type": "markdown",
      "source": [
        "# **3. CORRECTITUD** \n",
        "\n",
        "(sólo el de bottom-up)"
      ],
      "metadata": {
        "id": "B9mTjZ61BGDa"
      }
    },
    {
      "cell_type": "markdown",
      "source": [
        "# **4. TIEMPO DE EJECUCIÓN**\n",
        "\n",
        "(bottom-up y recursivo)"
      ],
      "metadata": {
        "id": "RlQJiHZEBIej"
      }
    },
    {
      "cell_type": "markdown",
      "source": [
        "# **5. EXPERIMENTOS**"
      ],
      "metadata": {
        "id": "6b892H73BM-N"
      }
    }
  ]
}
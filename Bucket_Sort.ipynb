{
  "nbformat": 4,
  "nbformat_minor": 0,
  "metadata": {
    "colab": {
      "provenance": [],
      "collapsed_sections": [],
      "authorship_tag": "ABX9TyMhqEL5zD3kOuM5Bj9gzZRS",
      "include_colab_link": true
    },
    "kernelspec": {
      "name": "python3",
      "display_name": "Python 3"
    },
    "language_info": {
      "name": "python"
    }
  },
  "cells": [
    {
      "cell_type": "markdown",
      "metadata": {
        "id": "view-in-github",
        "colab_type": "text"
      },
      "source": [
        "<a href=\"https://colab.research.google.com/github/Aranzasuu/ADA-Informes/blob/main/Bucket_Sort.ipynb\" target=\"_parent\"><img src=\"https://colab.research.google.com/assets/colab-badge.svg\" alt=\"Open In Colab\"/></a>"
      ]
    },
    {
      "cell_type": "markdown",
      "source": [
        "# **1. PROBLEMA DE ORDENAMIENTO**\n",
        "\n",
        "A lo largo del curso hemos visto distintos problemas de ordenamiento que surgen normalmente en la ciencia de computación, como también hemos visto distintas soluciones.\n",
        "\n",
        "![image](https://i.imgur.com/aAwSof4.png)\n",
        "\n",
        "## DATOS\n",
        "**${↪}$ 𝙴𝚗𝚝𝚛𝚊𝚍𝚊:** Una secuencia de $n$ elementos, $[a_1,a_2,a_3,...,a_n]$, es decir que va desde el elemento 1 hasta el $n$ (total de elementos), teniendo en cuenta que pertenecen al conjunto de los reales.\n",
        "\n",
        "**${↪}$ 𝚂𝚊𝚕𝚒𝚍𝚊:** Corresponde a la misma secuencia de entrada $[a_1',a_2',a_3',...,a_n']$, pero esta vez ordenada de menor a mayor, tal que $a_1 ≤ a_2 ≤ a_3 ≤ ... ≤ a_n$."
      ],
      "metadata": {
        "id": "6zn4tza1X1tU"
      }
    },
    {
      "cell_type": "markdown",
      "source": [
        "# **2. ALGORITMO BUCKET SORT**\n",
        "\n",
        "Corresponde a un algoritmo de ordenamiento que distribuye todos los elementos a ordenar entre un número finito de casilleros. Cada casillero solo puede contener los elementos que cumplan unas determinadas condiciones. En el ejemplo esas condiciones son intervalos de números.\n",
        "\n",
        "![image](https://upload.wikimedia.org/wikipedia/commons/3/39/Bucket_sort_2.png)\n",
        "\n",
        "## **VENTAJAS**\n",
        "\n",
        "- Es estable, cuando existen claves iguales se preserva el orden existente\n",
        "\n",
        "- El tiempo para clasificar los elementos es constante, las claves repetidas entran a un mismo casillero.\n",
        "\n",
        "## **DESVENTAJAS**\n",
        "\n",
        "- El tiempo para clasificar los elementos en el peor de los casos es $O(n log(n))$.\n",
        "\n",
        "- Se necesita una gran cantidad de memoria extra.\n",
        "\n",
        "## DATOS\n",
        "\n",
        "**${↪}$ 𝙴𝚗𝚝𝚛𝚊𝚍𝚊:** Una lista o arreglo con un total de n elementos (n ∈ ℝ).\n",
        "\n",
        "**${↪}$ 𝚂𝚊𝚕𝚒𝚍𝚊:** El mismo arreglo pero con los elementos ordenados.\n",
        "\n",
        "Al igual que muchos algoritmos, el bucket sort se utiliza como solución a los problemas de ordenamiento, pero es mucho más útil cuando la entrada se distribuye uniformemente en un rango. \n",
        "\n",
        "Un ejemplo de esto es ordenar elementos entre un rango de 0.0 a 1.0. \n",
        "\n",
        "## **PROCESO ALGORITMO**\n",
        "\n",
        "1. Se divide el rango de los elementos en $n$ sub-intervalos de igual tamaño. Cada subintervalo se asocia a un balde o **bucket**.\n",
        "2. Se recorre la secuencia y se van colocando los elementos *ordenados* en sus buckets correspondiente.\n",
        "\n",
        "3. Al finalizar, se concatenan los buckets generando la secuencia ordenada."
      ],
      "metadata": {
        "id": "W0lCEZalbQcS"
      }
    },
    {
      "cell_type": "code",
      "source": [
        "# Importación de las librerías\n",
        "import matplotlib.pyplot as plt\n",
        "import math\n",
        "import datetime\n",
        "from timeit import repeat\n",
        "import numpy as np\n",
        "import random\n",
        "from termcolor import colored"
      ],
      "metadata": {
        "id": "TOjqygGVB5vl"
      },
      "execution_count": 166,
      "outputs": []
    },
    {
      "cell_type": "code",
      "source": [
        "def insertionSort(b):\n",
        "    for i in range(1, len(b)):\n",
        "        up = b[i]\n",
        "        j = i - 1\n",
        "        while j >= 0 and b[j] > up: \n",
        "            b[j + 1] = b[j]\n",
        "            j -= 1\n",
        "        b[j + 1] = up  \n",
        "    return b  \n",
        "              \n",
        "def bucket_sort(input_list, verbose):\n",
        "\n",
        "    # Encontramos el valor máximo dentro de la lista y lo utilizamos como el largo \n",
        "    # de la lista para determinar que valor en la lista va en cual bucket.\n",
        "\n",
        "    max_value = max(input_list)\n",
        "    size = max_value/len(input_list)\n",
        "\n",
        "    # Creamos n buckets vacíos donde n es igual al largo de la lista de entrada\n",
        "\n",
        "    buckets_list= []\n",
        "    for x in range(len(input_list)):\n",
        "        buckets_list.append([])\n",
        "\n",
        "    # Ponemos los elementos de la lista dentro de los distintos buckets basados\n",
        "    # en el tamaño.\n",
        "    if verbose:\n",
        "      print(\"\\n--- CREACIÓN BUCKETS ---\\n\")\n",
        "    for i in range(len(input_list)):\n",
        "        j = int (input_list[i] / size)\n",
        "        if verbose:\n",
        "          print(\"posición >>\", j)\n",
        "        if j != len (input_list):\n",
        "            buckets_list[j].append(input_list[i])\n",
        "            if verbose:\n",
        "              print(str(buckets_list[:j-1]),\",\",colored(f\"{str(buckets_list[j])}\",\"green\"),str(buckets_list[j+1:]))\n",
        "        else:\n",
        "            buckets_list[len(input_list) - 1].append(input_list[i])\n",
        "            if verbose:\n",
        "              print(str(buckets_list[:j-1]),\",\",colored(f\"{str(buckets_list[j-1])}\",\"green\"),str(buckets_list[j:]))\n",
        "\n",
        "    # Ordenamos los elementos dentro de los buckets utilizando Insertion Sort\n",
        "    # Sort elements within the buckets using Insertion Sort\n",
        "    for z in range(len(input_list)):\n",
        "        insertionSort(buckets_list[z])\n",
        "        if verbose:\n",
        "          if z == 0:\n",
        "            print(\"\\n--- INSERTION SORT ---\\n\")\n",
        "            print(\"Bucket inicial >>\", buckets_list)\n",
        "          else:\n",
        "            print(\"Bucket n°\",z,\">>\",buckets_list[z])\n",
        "          \n",
        "    if verbose:\n",
        "        print(\"\\n\")\n",
        "        \n",
        "    # Concatenamos los buckets con los elementos ordenandos dentro de una sola lista.\n",
        "\n",
        "    final_output = []\n",
        "    if verbose:\n",
        "      print(\"--- CONCATENACIÓN ---\\n\")\n",
        "    for x in range(len(input_list)):\n",
        "        final_output = final_output + buckets_list[x]\n",
        "        if verbose:\n",
        "          print(\"Concatenación n°\",x+1,final_output)\n",
        "    if verbose:\n",
        "      print(\"\\n\")\n",
        "    return final_output\n",
        "\n",
        "# ENTRADA Y SALIDA\n",
        "x = [9.8 , 0.6 , 10.1 , 1.9 , 3.07 , 3.04 , 5.0 , 8.0 , 4.8 , 7.68]\n",
        "print('ORIGINAL LIST >>',end=\" \")\n",
        "print(x)\n",
        "sorted_list = bucket_sort(x, verbose = False)\n",
        "print('SORTED LIST >>',end=\" \")\n",
        "print(sorted_list)"
      ],
      "metadata": {
        "id": "3nBPaVAhYBop",
        "colab": {
          "base_uri": "https://localhost:8080/"
        },
        "outputId": "10776276-2233-419d-d1dc-5fd91b60ce59"
      },
      "execution_count": 187,
      "outputs": [
        {
          "output_type": "stream",
          "name": "stdout",
          "text": [
            "ORIGINAL LIST >> [9.8, 0.6, 10.1, 1.9, 3.07, 3.04, 5.0, 8.0, 4.8, 7.68]\n",
            "SORTED LIST >> [0.6, 1.9, 3.04, 3.07, 4.8, 5.0, 7.68, 8.0, 9.8, 10.1]\n"
          ]
        }
      ]
    },
    {
      "cell_type": "markdown",
      "source": [
        "## **EJEMPLO PASO A PASO**\n",
        "\n",
        "Para poder entender mejor la ejecucuión del algoritmo, veamos un ejemplo paso a paso.\n",
        "\n",
        "**${↪}$ 𝙴𝚗𝚝𝚛𝚊𝚍𝚊:** $[0.7, 0.9, 0.5, 0.8, 0.17, 0.4, 1.0, 0.15, 0.7]$\n",
        "\n",
        "**${↪}$ 𝚂𝚊𝚕𝚒𝚍𝚊:** $[0.15, 0.17, 0.4, 0.5, 0.7, 0.7, 0.8, 0.9, 1.0]$"
      ],
      "metadata": {
        "id": "ydSWRZ0bTpml"
      }
    },
    {
      "cell_type": "code",
      "source": [
        "arreglo = [0.7, 0.9, 0.5, 0.8, 0.17, 0.4, 1.0, 0.15, 0.7]\n",
        "print(\"ORIGINAL LIST >>\", colored(arreglo, 'cyan', attrs=['bold']))\n",
        "sort_list = bucket_sort(arreglo, verbose = True)\n",
        "print(\"SORTED LIST >>\", colored(sort_list,'cyan', attrs=['bold']))"
      ],
      "metadata": {
        "colab": {
          "base_uri": "https://localhost:8080/"
        },
        "id": "YEgqrnYZT9GM",
        "outputId": "6cb966c2-ce8e-415e-c5c1-64e6764ef412"
      },
      "execution_count": 188,
      "outputs": [
        {
          "output_type": "stream",
          "name": "stdout",
          "text": [
            "ORIGINAL LIST >> \u001b[1m\u001b[36m[0.7, 0.9, 0.5, 0.8, 0.17, 0.4, 1.0, 0.15, 0.7]\u001b[0m\n",
            "\n",
            "--- CREACIÓN BUCKETS ---\n",
            "\n",
            "posición >> 6\n",
            "[[], [], [], [], []] , \u001b[32m[0.7]\u001b[0m [[], []]\n",
            "posición >> 8\n",
            "[[], [], [], [], [], [], [0.7]] , \u001b[32m[0.9]\u001b[0m []\n",
            "posición >> 4\n",
            "[[], [], []] , \u001b[32m[0.5]\u001b[0m [[], [0.7], [], [0.9]]\n",
            "posición >> 7\n",
            "[[], [], [], [], [0.5], []] , \u001b[32m[0.8]\u001b[0m [[0.9]]\n",
            "posición >> 1\n",
            "[] , \u001b[32m[0.17]\u001b[0m [[], [], [0.5], [], [0.7], [0.8], [0.9]]\n",
            "posición >> 3\n",
            "[[], [0.17]] , \u001b[32m[0.4]\u001b[0m [[0.5], [], [0.7], [0.8], [0.9]]\n",
            "posición >> 9\n",
            "[[], [0.17], [], [0.4], [0.5], [], [0.7], [0.8]] , \u001b[32m[0.9, 1.0]\u001b[0m []\n",
            "posición >> 1\n",
            "[] , \u001b[32m[0.17, 0.15]\u001b[0m [[], [0.4], [0.5], [], [0.7], [0.8], [0.9, 1.0]]\n",
            "posición >> 6\n",
            "[[], [0.17, 0.15], [], [0.4], [0.5]] , \u001b[32m[0.7, 0.7]\u001b[0m [[0.8], [0.9, 1.0]]\n",
            "\n",
            "--- INSERTION SORT ---\n",
            "\n",
            "Bucket inicial >> [[], [0.17, 0.15], [], [0.4], [0.5], [], [0.7, 0.7], [0.8], [0.9, 1.0]]\n",
            "Bucket n° 1 >> [0.15, 0.17]\n",
            "Bucket n° 2 >> []\n",
            "Bucket n° 3 >> [0.4]\n",
            "Bucket n° 4 >> [0.5]\n",
            "Bucket n° 5 >> []\n",
            "Bucket n° 6 >> [0.7, 0.7]\n",
            "Bucket n° 7 >> [0.8]\n",
            "Bucket n° 8 >> [0.9, 1.0]\n",
            "\n",
            "\n",
            "--- CONCATENACIÓN ---\n",
            "\n",
            "Concatenación n° 1 []\n",
            "Concatenación n° 2 [0.15, 0.17]\n",
            "Concatenación n° 3 [0.15, 0.17]\n",
            "Concatenación n° 4 [0.15, 0.17, 0.4]\n",
            "Concatenación n° 5 [0.15, 0.17, 0.4, 0.5]\n",
            "Concatenación n° 6 [0.15, 0.17, 0.4, 0.5]\n",
            "Concatenación n° 7 [0.15, 0.17, 0.4, 0.5, 0.7, 0.7]\n",
            "Concatenación n° 8 [0.15, 0.17, 0.4, 0.5, 0.7, 0.7, 0.8]\n",
            "Concatenación n° 9 [0.15, 0.17, 0.4, 0.5, 0.7, 0.7, 0.8, 0.9, 1.0]\n",
            "\n",
            "\n",
            "SORTED LIST >> \u001b[1m\u001b[36m[0.15, 0.17, 0.4, 0.5, 0.7, 0.7, 0.8, 0.9, 1.0]\u001b[0m\n"
          ]
        }
      ]
    },
    {
      "cell_type": "markdown",
      "source": [
        "# **3. CORRECTITUD**\n",
        "\n",
        "## **3.1 Insertion Sort**\n",
        "\n",
        "El algoritmo *insertion sort* ordenado dentro del mismo arreglo los elementos, sin la necesidad de crear un auxiliar.\n",
        "\n",
        "## Prueba del Teorema\n",
        "\n",
        "Previamente observamos que en cada iteración agregamos un nuevo elemento y lo insertamos en la posición correspondiente.\n",
        "\n",
        "Para probarlo utilizaremos la **propiedad invariante de bucle**:\n",
        "\n",
        "- El arreglo que utilizamos para realizar el algoritmo, contiene los mismos elementos, ya que sólo se mueven durante la ejecución pero no cambian. \n",
        "\n",
        "> **Incialización:** Al comienzo de la primera iteración, los datos desde la posición 0 hasta i-1 cumplen la propiedad ya que estos no cambian en el proceso.\n",
        ">\n",
        "> **Mantención:** En cada iteración se cumple la propiedad, ya que los elementos siguen siendo los mismos con la diferencia de que están en distinto orden, es decir los elementos mayores del arreglo están ordenados de mayor a menor.\n",
        "\n",
        "## **3.2 Bucket Sort**\n",
        "\n",
        "Para poder probar la correctitud del bucket sort, utilizaremos **inducción matemática**, para probarla debemos:\n",
        "\n",
        "1. Probar $P(n)$ para un caso base, por ejemplo $P(1)$\n",
        "\n",
        "2. Probar que si $P(m)$ es cierto $m < n$, entonces $P(n)$ también lo es.\n",
        "\n",
        "> **Caso Base:** Van haber casos en los que el bucket tendrá sólo un elemento, por lo que se asume que están ordenados, además que los buckets contendrán elementos menores a los buckets que le siguen.\n",
        ">\n",
        "> **Caso Promedio:** Por lo que para $P(m)$ al utilizar insertionSort nos aseguramos que los buckets contienen los mismo elementos pero ordenados de menor a mayor.\n",
        "\n"
      ],
      "metadata": {
        "id": "hZAYZsCEVyqp"
      }
    },
    {
      "cell_type": "markdown",
      "source": [
        "# **4. TIEMPO DE EJECUCIÓN**\n",
        "\n",
        "## **4.1 INSERTION SORT**\n",
        "\n",
        "> **Mejor caso:** Corresponde cuando el arreglo está ordenado, ejecutándose el ciclo únicamente n veces (n = total de elementos), sin necesidad de intercambiar posiciones, ya que sólo recorre una vez.\n",
        ">\n",
        "> $$T(n) = O(n)$$\n",
        ">\n",
        "> **Caso promedio:** Este se da cuando los elementos no están en orden ascendiente ni descendiente.\n",
        ">\n",
        "> $$T(n) = O(n^2)$$\n",
        ">\n",
        "> **Peor caso:** Este sucede cuando los elementos están ordenados de manera contraria a como serán ordenados, cada elemento tendrá que ser comparado con todos los elementos anteriores.\n",
        ">\n",
        "> $$T(n) = O(n^2)$$\n",
        "\n",
        "## **4.2 BUCKET SORT**\n",
        "\n",
        "Excluyendo el tiempo tomado por el insertion sort, bucket sort toma tiempo lineal. Así debemos cuantificar cuanto tiempo toman las n llamadas a insertion sort.\n",
        "\n",
        "![image](https://i.imgur.com/tnKDYsv.jpg)\n",
        "\n",
        "Pero, dependiendo el caso, no tienen la misa complejidad:\n",
        "\n",
        "> **Mejor Caso:** El promedio y el mejor caso corresponde al mismo tiempo de ejecución. Corresponde cuando los elementos están distribuidos aleatoriamente, así dando resultados muy eficientes.\n",
        "> $$T(n) = O(n + k)$$\n",
        ">\n",
        "> Donde n corresponde al número de elementos y k el rango de valores.\n",
        ">\n",
        "> **Peor Caso:** El peor caso se produce cuando muchos elementos están muy cerca y se agrupan en el mismo bucket. Esto elimina todas las ventajas de dividir las entradas en cubos.\n",
        "> $$T(n) = O(n^2)$$\n",
        ">\n",
        "> Donde n corresponde al número de elementos."
      ],
      "metadata": {
        "id": "L-RLzsl9e2O8"
      }
    },
    {
      "cell_type": "markdown",
      "source": [
        "# **5. EXPERIMENTACIÓN**"
      ],
      "metadata": {
        "id": "HsPpwGfHnWfV"
      }
    },
    {
      "cell_type": "markdown",
      "source": [
        "## **ALGORITMO RADIX SORT**"
      ],
      "metadata": {
        "id": "UJZ3w_1Bqq-t"
      }
    },
    {
      "cell_type": "code",
      "source": [
        "def countingSort(arr, exp1):\n",
        "    n = len(arr)\n",
        "    output = [0] * (n)\n",
        "    count = [0] * (10)\n",
        " \n",
        "    for i in range(0, n):\n",
        "        index = arr[i] // exp1\n",
        "        count[index % 10] += 1\n",
        "\n",
        "    for i in range(1, 10):\n",
        "        count[i] += count[i - 1]\n",
        "\n",
        "    i = n - 1\n",
        "    while i >= 0:\n",
        "        index = arr[i] // exp1\n",
        "        output[count[index % 10] - 1] = arr[i]\n",
        "        count[index % 10] -= 1\n",
        "        i -= 1\n",
        "\n",
        "    i = 0\n",
        "    for i in range(0, len(arr)):\n",
        "        arr[i] = output[i]\n",
        " \n",
        "def radixSort(arr):\n",
        "    max1 = max(arr)\n",
        "    exp = 1\n",
        "\n",
        "    while max1 / exp >= 1:\n",
        "        countingSort(arr, exp)\n",
        "        exp *= 10\n",
        "    return arr\n",
        "\n",
        "arr = [170, 45, 75, 90, 802, 24, 2, 66]\n",
        "print(\"ORIGINAL LIST >>\", arr)\n",
        "sorted = radixSort(arr)\n",
        "print(\"SORTED LIST >> \", sorted)\n"
      ],
      "metadata": {
        "colab": {
          "base_uri": "https://localhost:8080/"
        },
        "id": "ZAC4i_UsogCL",
        "outputId": "3a11b5fb-4016-4317-f90c-e0a24023984c"
      },
      "execution_count": 169,
      "outputs": [
        {
          "output_type": "stream",
          "name": "stdout",
          "text": [
            "ORIGINAL LIST >> [170, 45, 75, 90, 802, 24, 2, 66]\n",
            "SORTED LIST >>  [2, 24, 45, 66, 75, 90, 170, 802]\n"
          ]
        }
      ]
    },
    {
      "cell_type": "markdown",
      "source": [
        "## **ALGORITMO COUNTING SORT**"
      ],
      "metadata": {
        "id": "5qprVYKXw5a7"
      }
    },
    {
      "cell_type": "code",
      "source": [
        "def count_sort(arr):\n",
        "    max_element = int(max(arr))\n",
        "    min_element = int(min(arr))\n",
        "    range_of_elements = max_element - min_element + 1\n",
        "\n",
        "    count_arr = [0 for _ in range(range_of_elements)]\n",
        "    output_arr = [0 for _ in range(len(arr))]\n",
        "\n",
        "    for i in range(0, len(arr)):\n",
        "        count_arr[arr[i]-min_element] += 1\n",
        "\n",
        "    for i in range(1, len(count_arr)):\n",
        "        count_arr[i] += count_arr[i-1]\n",
        "\n",
        "    for i in range(len(arr)-1, -1, -1):\n",
        "        output_arr[count_arr[arr[i] - min_element] - 1] = arr[i]\n",
        "        count_arr[arr[i] - min_element] -= 1\n",
        "\n",
        "    for i in range(0, len(arr)):\n",
        "        arr[i] = output_arr[i]\n",
        " \n",
        "    return arr\n",
        "\n",
        "arr = [-5, -10, 0, -3, 8, 5, -1, 10]\n",
        "print(\"ORIGINAL LIST >>\",arr)\n",
        "ans = count_sort(arr)\n",
        "print(\"SORTED LSIT >>\",str(ans))"
      ],
      "metadata": {
        "colab": {
          "base_uri": "https://localhost:8080/"
        },
        "id": "TaejkM-BwcXw",
        "outputId": "e1669ae8-e101-40c3-bd17-2e8d9ecd6aca"
      },
      "execution_count": 170,
      "outputs": [
        {
          "output_type": "stream",
          "name": "stdout",
          "text": [
            "ORIGINAL LIST >> [-5, -10, 0, -3, 8, 5, -1, 10]\n",
            "SORTED LSIT >> [-10, -5, -3, -1, 0, 5, 8, 10]\n"
          ]
        }
      ]
    },
    {
      "cell_type": "markdown",
      "source": [
        "## **5.1 Gráfica Tiempo de Ejecución Bucket Sort v/s Radix Sort v/s Counting Sort**\n",
        "\n",
        "> Con valores altos\n"
      ],
      "metadata": {
        "id": "IfTt-5_Pq0KA"
      }
    },
    {
      "cell_type": "code",
      "source": [
        "w=[]; r=[]; y=[]; y1=[];\n",
        "\n",
        "for j in range(1,500):\n",
        "\n",
        "  e = random.sample(range(1, 1000), j)\n",
        "\n",
        "  bu = repeat(setup=\"from __main__ import bucket_sort\", stmt=f\"bucket_sort({e},{False})\", repeat=1, number=10)\n",
        "  ra = repeat(setup=\"from __main__ import radixSort\", stmt=f\"radixSort({e})\", repeat=1, number=10)\n",
        "  cs = repeat(setup=\"from __main__ import count_sort\", stmt=f\"count_sort({e})\", repeat=1, number=10)\n",
        "\n",
        "  w.append(j)\n",
        "  r.append(bu)\n",
        "  y.append(ra)\n",
        "  y1.append(cs)\n",
        "\n",
        "\n",
        "plt.plot(w,r)\n",
        "plt.plot(w,y)\n",
        "plt.plot(w,y1)\n",
        "plt.legend([\"BucketSort\",\"RadixSort\",\"CountingSort\"])\n",
        "\n",
        "plt.xlabel('n')\n",
        "plt.ylabel('time in ms')\n",
        "plt.title('Comparation All Algorithms')\n",
        "plt.show()"
      ],
      "metadata": {
        "colab": {
          "base_uri": "https://localhost:8080/",
          "height": 295
        },
        "id": "eLSbnhnSq9Bw",
        "outputId": "a7513480-1e6d-46df-d06b-0a89263b9f4b"
      },
      "execution_count": 180,
      "outputs": [
        {
          "output_type": "display_data",
          "data": {
            "text/plain": [
              "<Figure size 432x288 with 1 Axes>"
            ],
            "image/png": "[encoded data removed]"
          },
          "metadata": {
            "needs_background": "light"
          }
        }
      ]
    },
    {
      "cell_type": "markdown",
      "source": [
        "## **5.2 Gráfica Tiempo de Ejecución Bucket Sort v/s Radix Sort v/s Counting Sort**\n",
        "\n",
        "> Con valores bajos"
      ],
      "metadata": {
        "id": "97AEQ9WF6dUT"
      }
    },
    {
      "cell_type": "code",
      "source": [
        "w=[]; r=[]; y=[]; y1=[];\n",
        "\n",
        "for j in range(1,100):\n",
        "\n",
        "  e = random.sample(range(1, 1000), j)\n",
        "\n",
        "  bu = repeat(setup=\"from __main__ import bucket_sort\", stmt=f\"bucket_sort({e},{False})\", repeat=1, number=10)\n",
        "  ra = repeat(setup=\"from __main__ import radixSort\", stmt=f\"radixSort({e})\", repeat=1, number=10)\n",
        "  cs = repeat(setup=\"from __main__ import count_sort\", stmt=f\"count_sort({e})\", repeat=1, number=10)\n",
        "\n",
        "  w.append(j)\n",
        "  r.append(bu)\n",
        "  y.append(ra)\n",
        "  y1.append(cs)\n",
        "\n",
        "\n",
        "plt.plot(w,r)\n",
        "plt.plot(w,y)\n",
        "plt.plot(w,y1)\n",
        "plt.legend([\"BucketSort\",\"RadixSort\",\"CountingSort\"])\n",
        "\n",
        "plt.xlabel('n')\n",
        "plt.ylabel('time in ms')\n",
        "plt.title('Comparation All Algorithms')\n",
        "plt.show()"
      ],
      "metadata": {
        "colab": {
          "base_uri": "https://localhost:8080/",
          "height": 295
        },
        "id": "8Kjfvrpj6dK3",
        "outputId": "9eec7b8e-704e-4f2e-dc6b-f7f79a2d29ce"
      },
      "execution_count": 179,
      "outputs": [
        {
          "output_type": "display_data",
          "data": {
            "text/plain": [
              "<Figure size 432x288 with 1 Axes>"
            ],
            "image/png": "[encoded data removed]"
          },
          "metadata": {
            "needs_background": "light"
          }
        }
      ]
    },
    {
      "cell_type": "markdown",
      "source": [
        "- Como podemos observar, cuando el rango de valores es **bajo**, el mejor algoritmo entre estos 3 es el *Bucket Sort*, mientras que en valores más **altos**, el mejor algoritmo corresponde al *counting sort* aunque no haya mucha diferencia con el *Radix Sort*."
      ],
      "metadata": {
        "id": "gl3dJwOg6tu6"
      }
    },
    {
      "cell_type": "markdown",
      "source": [
        "## **ALGORITMO BUBBLE SORT**"
      ],
      "metadata": {
        "id": "q5Ya3Qx1wy84"
      }
    },
    {
      "cell_type": "code",
      "source": [
        "def bubble_sort(a):\n",
        "    n = len(a)\n",
        "    T = 0\n",
        "\n",
        "    for i in range(1,n+1):\n",
        "        already_sorted = True\n",
        "\n",
        "        for j in range(n - i):\n",
        "            T +=1\n",
        "            if a[j] > a[j + 1]:\n",
        "                a[j], a[j + 1] = a[j + 1], a[j]\n",
        "\n",
        "                already_sorted = False\n",
        "\n",
        "        if already_sorted:\n",
        "            break\n",
        "\n",
        "    return a, T\n",
        "\n",
        "A = [5,8,7,1,3]\n",
        "print(\"ORIGINAL LIST >> \",A)\n",
        "A, counter = bubble_sort(A)\n",
        "print(\"SORTED LIST >>\",A)\n",
        "print(\"COMPARACIONES >>\", counter)"
      ],
      "metadata": {
        "colab": {
          "base_uri": "https://localhost:8080/"
        },
        "id": "jmwhcnNZtsC9",
        "outputId": "5cac897c-0c75-4737-fc7c-fd52ee8a0b89"
      },
      "execution_count": 172,
      "outputs": [
        {
          "output_type": "stream",
          "name": "stdout",
          "text": [
            "ORIGINAL LIST >>  [5, 8, 7, 1, 3]\n",
            "SORTED LIST >> [1, 3, 5, 7, 8]\n",
            "COMPARACIONES >> 10\n"
          ]
        }
      ]
    },
    {
      "cell_type": "markdown",
      "source": [
        "## **ALGORITMO HEAP SORT**"
      ],
      "metadata": {
        "id": "KLA-yN5Lx3nE"
      }
    },
    {
      "cell_type": "code",
      "source": [
        "def heapify(arr, n, i):\n",
        "    largest = i\n",
        "    l = 2 * i + 1\n",
        "    r = 2 * i + 2\n",
        " \n",
        "    if l < n and arr[i] < arr[l]:\n",
        "        largest = l\n",
        " \n",
        "    if r < n and arr[largest] < arr[r]:\n",
        "        largest = r\n",
        " \n",
        "    if largest != i:\n",
        "        (arr[i], arr[largest]) = (arr[largest], arr[i]) \n",
        "        heapify(arr, n, largest)\n",
        " \n",
        "def heapSort(arr):\n",
        "    n = len(arr)\n",
        " \n",
        "    for i in range(n // 2 - 1, -1, -1):\n",
        "        heapify(arr, n, i)\n",
        " \n",
        "    for i in range(n - 1, 0, -1):\n",
        "        (arr[i], arr[0]) = (arr[0], arr[i])\n",
        "        heapify(arr, i, 0)\n",
        "    return arr\n",
        " \n",
        "arr = [12, 11, 13, 5, 6, 7]\n",
        "print(\"ORIGINAL LIST >>\",arr)\n",
        "ans = heapSort(arr)\n",
        "print(\"SORTED LIST >>\",ans)\n"
      ],
      "metadata": {
        "colab": {
          "base_uri": "https://localhost:8080/"
        },
        "id": "OKwjroITxPFu",
        "outputId": "01dd3483-6a1c-42d7-dfd5-37e5340731af"
      },
      "execution_count": 173,
      "outputs": [
        {
          "output_type": "stream",
          "name": "stdout",
          "text": [
            "ORIGINAL LIST >> [12, 11, 13, 5, 6, 7]\n",
            "SORTED LIST >> [5, 6, 7, 11, 12, 13]\n"
          ]
        }
      ]
    },
    {
      "cell_type": "markdown",
      "source": [
        "## **ALGORITMO INSERTION SORT**"
      ],
      "metadata": {
        "id": "NpsaRdpbx836"
      }
    },
    {
      "cell_type": "code",
      "source": [
        "def insertionSort(arr):\n",
        "    comp = 0\n",
        "    vuelta = 1\n",
        "\n",
        "    for i in range(1, len(arr)):\n",
        "        key = arr[i]\n",
        "        j = i-1\n",
        "        while j >=0 and key < arr[j]:\n",
        "            arr[j+1] = arr[j]\n",
        "            j -= 1\n",
        "            comp += 1\n",
        "        arr[j+1] = key\n",
        "\n",
        "    return arr, comp\n",
        "\n",
        "arr = [20,14,3,8,7]\n",
        "print(\"ORIGINAL LIST >>\", arr)\n",
        "ans, comp = insertionSort(arr)\n",
        "print(\"SORTED LIST >>\", arr)\n",
        "print(\"COMPARACIONES >>\", comp)"
      ],
      "metadata": {
        "colab": {
          "base_uri": "https://localhost:8080/"
        },
        "id": "Z0Jig3C4x3G5",
        "outputId": "6e7de6c9-36d0-41a7-d6b5-132e97773107"
      },
      "execution_count": 174,
      "outputs": [
        {
          "output_type": "stream",
          "name": "stdout",
          "text": [
            "ORIGINAL LIST >> [20, 14, 3, 8, 7]\n",
            "SORTED LIST >> [3, 7, 8, 14, 20]\n",
            "COMPARACIONES >> 8\n"
          ]
        }
      ]
    },
    {
      "cell_type": "markdown",
      "source": [
        "## **ALGORITMO MERGE SORT**"
      ],
      "metadata": {
        "id": "WBppFdomyi_f"
      }
    },
    {
      "cell_type": "code",
      "source": [
        "def merge(arr, l, m, r):\n",
        "    n1 = m - l + 1\n",
        "    n2 = r - m\n",
        "\n",
        "    L = [0] * (n1)\n",
        "    R = [0] * (n2)\n",
        " \n",
        "    for i in range(0, n1):\n",
        "        L[i] = arr[l + i]\n",
        " \n",
        "    for j in range(0, n2):\n",
        "        R[j] = arr[m + 1 + j]\n",
        "\n",
        "    i = 0\n",
        "    j = 0\n",
        "    k = l\n",
        " \n",
        "    while i < n1 and j < n2:\n",
        "        if L[i] <= R[j]:\n",
        "            arr[k] = L[i]\n",
        "            i += 1\n",
        "        else:\n",
        "            arr[k] = R[j]\n",
        "            j += 1\n",
        "        k += 1\n",
        "\n",
        "    while i < n1:\n",
        "        arr[k] = L[i]\n",
        "        i += 1\n",
        "        k += 1\n",
        "\n",
        "    while j < n2:\n",
        "        arr[k] = R[j]\n",
        "        j += 1\n",
        "        k += 1\n",
        " \n",
        "def mergeSort(arr, l, r):\n",
        "    if l < r:\n",
        "        m = l+(r-l)//2\n",
        "        mergeSort(arr, l, m)\n",
        "        mergeSort(arr, m+1, r)\n",
        "        merge(arr, l, m, r)\n",
        "\n",
        "arr = [12, 11, 13, 5, 6, 7]\n",
        "n = len(arr)\n",
        "print(\"ORIGINAL LIST >> \",end=\"[ \")\n",
        "for i in range(n):\n",
        "    print(\"%d\" % arr[i],end=\" \")\n",
        "print(\"]\")\n",
        "mergeSort(arr, 0, n-1)\n",
        "print(\"\\nSORTED LIST >> \",end=\"[ \")\n",
        "for i in range(n):\n",
        "    print(\"%d\" % arr[i],end=\" \")\n",
        "print(\"]\")"
      ],
      "metadata": {
        "colab": {
          "base_uri": "https://localhost:8080/"
        },
        "id": "b3a_rgswyi1-",
        "outputId": "3867d267-b902-4324-f5ec-bfbf7f853295"
      },
      "execution_count": 175,
      "outputs": [
        {
          "output_type": "stream",
          "name": "stdout",
          "text": [
            "ORIGINAL LIST >> [ 12 11 13 5 6 7 ]\n",
            "\n",
            "SORTED LIST >> [ 5 6 7 11 12 13 ]\n"
          ]
        }
      ]
    },
    {
      "cell_type": "markdown",
      "source": [
        "## **ALGORITMO QUICK SORT**"
      ],
      "metadata": {
        "id": "aGx4adxYy8W4"
      }
    },
    {
      "cell_type": "code",
      "source": [
        "def partition(l, r, nums):\n",
        "\n",
        "    pivot, ptr = nums[r], l\n",
        "    for i in range(l, r):\n",
        "        if nums[i] <= pivot:\n",
        "            nums[i], nums[ptr] = nums[ptr], nums[i]\n",
        "            ptr += 1\n",
        "\n",
        "    nums[ptr], nums[r] = nums[r], nums[ptr]\n",
        "    return ptr\n",
        " \n",
        "def quicksort(l, r, nums):\n",
        "    if len(nums) == 1:\n",
        "        return nums\n",
        "    if l < r:\n",
        "        pi = partition(l, r, nums)\n",
        "        quicksort(l, pi-1, nums)\n",
        "        quicksort(pi+1, r, nums)\n",
        "    return nums\n",
        " \n",
        "example = [2, 5, 6, 1, 4, 6, 2, 4, 7, 8]\n",
        "print(\"ORIGINAL LIST >>\",example)\n",
        "print(\"SORTED LIST >>\",quicksort(0, len(example)-1, example))"
      ],
      "metadata": {
        "colab": {
          "base_uri": "https://localhost:8080/"
        },
        "id": "XoUYkKxlzM4O",
        "outputId": "9f2b834a-4d68-413f-a6f3-6fed0d0aebac"
      },
      "execution_count": 176,
      "outputs": [
        {
          "output_type": "stream",
          "name": "stdout",
          "text": [
            "ORIGINAL LIST >> [2, 5, 6, 1, 4, 6, 2, 4, 7, 8]\n",
            "SORTED LIST >> [1, 2, 2, 4, 4, 5, 6, 6, 7, 8]\n"
          ]
        }
      ]
    },
    {
      "cell_type": "markdown",
      "source": [
        "## **5.3 Gráfica comparativa de todos los algoritmos**\n",
        "\n",
        "> Con valores altos\n",
        "\n"
      ],
      "metadata": {
        "id": "7j3sv80k0Az6"
      }
    },
    {
      "cell_type": "code",
      "source": [
        "w=[]; r=[]; y=[]; y1=[]; y2=[]; y3=[]; y4=[]; y5=[]; y6=[]\n",
        "\n",
        "for j in range(1,500):\n",
        "\n",
        "  e = random.sample(range(1, 1000), j)\n",
        "\n",
        "  bu = repeat(setup=\"from __main__ import bucket_sort\", stmt=f\"bucket_sort({e},{False})\", repeat=1, number=10)\n",
        "  ra = repeat(setup=\"from __main__ import radixSort\", stmt=f\"radixSort({e})\", repeat=1, number=10)\n",
        "  bbl = repeat(setup=\"from __main__ import bubble_sort\", stmt=f\"bubble_sort({e})\", repeat=1, number=10)\n",
        "  cs = repeat(setup=\"from __main__ import count_sort\", stmt=f\"count_sort({e})\", repeat=1, number=10)\n",
        "  hp = repeat(setup=\"from __main__ import heapSort\", stmt=f\"heapSort({e})\", repeat=1, number=10)\n",
        "  ins = repeat(setup=\"from __main__ import insertionSort\", stmt=f\"insertionSort({e})\", repeat=1, number=10)\n",
        "  mrg = repeat(setup=\"from __main__ import mergeSort\", stmt=f\"mergeSort({e},{0},{len(e)-1})\", repeat=1, number=10)\n",
        "  qs = repeat(setup=\"from __main__ import quicksort\", stmt=f\"quicksort({0},{len(e)-1},{e})\", repeat=1, number=10)\n",
        "\n",
        "  w.append(j)\n",
        "  r.append(bu)\n",
        "  y.append(ra)\n",
        "  y1.append(bbl)\n",
        "  y2.append(cs)\n",
        "  y3.append(hp)\n",
        "  y4.append(ins)\n",
        "  y5.append(mrg)\n",
        "  y6.append(qs)\n",
        "\n",
        "plt.plot(w,r)\n",
        "plt.plot(w,y)\n",
        "plt.plot(w,y1)\n",
        "plt.plot(w,y2)\n",
        "plt.plot(w,y3)\n",
        "plt.plot(w,y4)\n",
        "plt.plot(w,y5)\n",
        "plt.plot(w,y6)\n",
        "plt.legend([\"BucketSort\",\"RadixSort\",\"BubbleSort\",\"CountingSort\",\"HeapSort\",\"InsertionSort\",\"MergeSort\",\"QuickSort\"])\n",
        "\n",
        "plt.xlabel('n')\n",
        "plt.ylabel('time in ms')\n",
        "plt.title('Comparation All Algorithms')\n",
        "plt.show()"
      ],
      "metadata": {
        "colab": {
          "base_uri": "https://localhost:8080/",
          "height": 295
        },
        "id": "zgxlH8W00li2",
        "outputId": "71683913-e1f7-4a75-d065-449413eba9b5"
      },
      "execution_count": 181,
      "outputs": [
        {
          "output_type": "display_data",
          "data": {
            "text/plain": [
              "<Figure size 432x288 with 1 Axes>"
            ],
            "image/png": "[encoded data removed]"
          },
          "metadata": {
            "needs_background": "light"
          }
        }
      ]
    },
    {
      "cell_type": "markdown",
      "source": [
        "## **Gráfica comparativa de todos los algoritmos**\n",
        "\n",
        "> Con valores bajos"
      ],
      "metadata": {
        "id": "rMqtGkv_7h4u"
      }
    },
    {
      "cell_type": "code",
      "source": [
        "w=[]; r=[]; y=[]; y1=[]; y2=[]; y3=[]; y4=[]; y5=[]; y6=[]\n",
        "\n",
        "for j in range(1,100):\n",
        "\n",
        "  e = random.sample(range(1, 1000), j)\n",
        "\n",
        "  bu = repeat(setup=\"from __main__ import bucket_sort\", stmt=f\"bucket_sort({e},{False})\", repeat=1, number=10)\n",
        "  ra = repeat(setup=\"from __main__ import radixSort\", stmt=f\"radixSort({e})\", repeat=1, number=10)\n",
        "  bbl = repeat(setup=\"from __main__ import bubble_sort\", stmt=f\"bubble_sort({e})\", repeat=1, number=10)\n",
        "  cs = repeat(setup=\"from __main__ import count_sort\", stmt=f\"count_sort({e})\", repeat=1, number=10)\n",
        "  hp = repeat(setup=\"from __main__ import heapSort\", stmt=f\"heapSort({e})\", repeat=1, number=10)\n",
        "  ins = repeat(setup=\"from __main__ import insertionSort\", stmt=f\"insertionSort({e})\", repeat=1, number=10)\n",
        "  mrg = repeat(setup=\"from __main__ import mergeSort\", stmt=f\"mergeSort({e},{0},{len(e)-1})\", repeat=1, number=10)\n",
        "  qs = repeat(setup=\"from __main__ import quicksort\", stmt=f\"quicksort({0},{len(e)-1},{e})\", repeat=1, number=10)\n",
        "\n",
        "  w.append(j)\n",
        "  r.append(bu)\n",
        "  y.append(ra)\n",
        "  y1.append(bbl)\n",
        "  y2.append(cs)\n",
        "  y3.append(hp)\n",
        "  y4.append(ins)\n",
        "  y5.append(mrg)\n",
        "  y6.append(qs)\n",
        "\n",
        "plt.plot(w,r)\n",
        "plt.plot(w,y)\n",
        "plt.plot(w,y1)\n",
        "plt.plot(w,y2)\n",
        "plt.plot(w,y3)\n",
        "plt.plot(w,y4)\n",
        "plt.plot(w,y5)\n",
        "plt.plot(w,y6)\n",
        "plt.legend([\"BucketSort\",\"RadixSort\",\"BubbleSort\",\"CountingSort\",\"HeapSort\",\"InsertionSort\",\"MergeSort\",\"QuickSort\"])\n",
        "\n",
        "plt.xlabel('n')\n",
        "plt.ylabel('time in ms')\n",
        "plt.title('Comparation All Algorithms')\n",
        "plt.show()"
      ],
      "metadata": {
        "colab": {
          "base_uri": "https://localhost:8080/",
          "height": 295
        },
        "id": "6Me265RA7iBg",
        "outputId": "6d81421e-a941-4408-c6f4-bc9fcf79b7c5"
      },
      "execution_count": 182,
      "outputs": [
        {
          "output_type": "display_data",
          "data": {
            "text/plain": [
              "<Figure size 432x288 with 1 Axes>"
            ],
            "image/png": "[encoded data removed]"
          },
          "metadata": {
            "needs_background": "light"
          }
        }
      ]
    },
    {
      "cell_type": "markdown",
      "source": [
        "- Como podemos observar de ambos gráficos, donde se comparan con otros algoritmos de ordenamiento vistos en el curso, cuando los valores son de un rango alto (0 - 500) el mejor algoritmo corresponde entre el *Counting Sort* y el *Quick Sort*, mientras que los valores corresponde a un rango más bajo (0 - 100) el *Quick Sort* y el *Bucket Sort* son los más eficientes."
      ],
      "metadata": {
        "id": "CyOx0OpR71eb"
      }
    }
  ]
}
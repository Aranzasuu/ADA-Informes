{
  "nbformat": 4,
  "nbformat_minor": 0,
  "metadata": {
    "colab": {
      "provenance": [],
      "collapsed_sections": [],
      "authorship_tag": "ABX9TyNmiBwXS3Iutiy15KOb0bWV",
      "include_colab_link": true
    },
    "kernelspec": {
      "name": "python3",
      "display_name": "Python 3"
    },
    "language_info": {
      "name": "python"
    }
  },
  "cells": [
    {
      "cell_type": "markdown",
      "metadata": {
        "id": "view-in-github",
        "colab_type": "text"
      },
      "source": [
        "<a href=\"https://colab.research.google.com/github/Aranzasuu/ADA-Informes/blob/main/Algoritmo_Kruskal.ipynb\" target=\"_parent\"><img src=\"https://colab.research.google.com/assets/colab-badge.svg\" alt=\"Open In Colab\"/></a>"
      ]
    },
    {
      "cell_type": "markdown",
      "source": [
        "---\n",
        "# **CONCEPTOS BASE**\n",
        "\n",
        "### **1. Grafos**\n",
        "\n",
        "↪ Los grafos son un conjunto de nodos y aristas conectados entre sí. \n",
        "Consiste en un TDA, compuesto de nodos (también llamados vértices) y un conjunto de arcos (aristas) que establecen relaciones entre los nodos.\n",
        "\n",
        "> ![image](https://i.imgur.com/sODJ76l.png)\n",
        "\n",
        "\\\\\n",
        "\n",
        "### **2. Árbol recubridor**\n",
        "\n",
        "↪ Un árbol de expansión es un subconjunto de un grafo conexo G, donde todas las aristas están conectadas y no debe tener ningún ciclo. La imagen de la izquierda corresponde\n",
        "\n",
        "> ![image](https://upload.wikimedia.org/wikipedia/commons/thumb/6/65/Connexe_et_pas_connexe.svg/400px-Connexe_et_pas_connexe.svg.png)\n",
        "\n",
        "\\\\\n",
        "\n",
        "### Entonces, ¿Qué es un **árbol recubridor mínimo**?\n",
        "\n",
        "↪ Una propiedad que interesa conocer de los grafos es si para todo par de vértices hay un camino que los una. Si el grafo cumple con esta propiedad podemos decir que el grafo es conexo.\n",
        "\n",
        "> ### **¿Qué es un árbol?**\n",
        ">\n",
        "> Un árbol, en una red, es un subconjunto G’ del grafo G que está conectado y sin ciclos. Los árboles tienen dos propiedades importantes:\n",
        "- Todo árbol de $n$ vértices contiene exactamente $n - 1$ aristas.\n",
        "- Si se añade una arista a un árbol, se obtiene un ciclo.\n",
        "- El objetivo de este árbol consiste en buscar un árbol que abarque todos los vértices del grafo y que la suma de las aristas sea mínima.\n",
        "\n",
        "---\n",
        "\n",
        "\n"
      ],
      "metadata": {
        "id": "MKeabfu06Tlh"
      }
    },
    {
      "cell_type": "markdown",
      "source": [
        "# **1. PROBLEMA DE OPTIMIZACIÓN**\n",
        "\n",
        "> **↪ PROBLEMA:** El problema consiste en encontrar una solución utilizando el árbol recubridor mínimo, es decir que dado un grafo convexo G = (V, A) no dirigido y ponderado con pesos positivos, calcular un subgrafo conexo T ⊆ G conecte todos los vértices del grafo G y que la **suma** de los pesos de las aristas seleccionadas sea **mínima**.\n",
        ">\n",
        "> **↪ SOLUCIÓN:** Este subgrafo es necesariamente un árbol: árbol generador minimal o árbol de recubrimiento mínimo.\n",
        "\n",
        "El árbol recubridor es un subconjunto $T$ del grafo que debe satisfacer estas propiedades:\n",
        "\n",
        "- T no debe contener ningún ciclo\n",
        "- Por cada par $(w,v)$ de vértices debe existir un camino entre $v$ y $w$.\n",
        "- Un árbol recubridor de $n$ nodos tiene $n - 1$ arcos.\n",
        "\n",
        "\\\\\n",
        "\n",
        "**APLICACIONES**\n",
        "1. Diseño de redes telefónicas.\n",
        "2. Problema del viajante de comercio.\n",
        "3. Construcción de una red ferroviaria."
      ],
      "metadata": {
        "id": "tcuXl2IVk7z3"
      }
    },
    {
      "cell_type": "markdown",
      "source": [
        "#**2. ALGORITMO KRUSKAL**\n",
        "\n",
        "> **↪ ENTRADA:** Grafo conectado no dirigido G = (V,E) y un costo real $c_e$ para cada arco e en E.\n",
        ">\n",
        "> **↪ SALIDA:** Un árbol recubridor T en E de G con el mínimo coste $sum$(e en T) $ c_e$.\n",
        "\n",
        "\\\\\n",
        "\n",
        "Kruskal creó un algoritmo para encontrar un árbol recubridor mínimo en un grafo ponderado y convexo. Este algoritmo de la teoría de grafos busca un subconjunto de aristas que incluyen todos los vértices formando un árbol y donde todos los valores de las aristas de este son mínimas. Si el grafo no es convexo, busca un bosque de expandido mínimo. Este algoritmo es un ejemplo de algoritmo voraz que funciona de la siguiente manera:\n",
        "\n",
        "- Se crea un bosque B (conjunto de árboles), donde cada vértice del grafo es un árbol separado\n",
        "- Se crea un conjunto C que contenga a todas las aristas del grafo\n",
        "- Mientras C es no vacío:\n",
        "  - Eliminar una arista de peso mínimo de C.\n",
        "  - Si esa arista conecta dos árboles diferentes se añade al bosque, combinando los dos árboles en un solo árbol.\n",
        "  - En caso contrario, se desecha la arista.\n",
        "\n",
        "\\\\\n",
        "\n",
        "Al acabar el algoritmo, el bosque tiene un solo componente, el cual forma un árbol de expansión mínimo del grafo.\n",
        "\n",
        "En un árbol de expansión mínimo se cumple que la cantidad de aristas del árbol es la cantidad de nodos – 1.\n",
        "\n",
        "\\\\\n",
        "\n",
        "## **Subestructura Óptima**\n",
        "Un árbol óptimo contiene subárboles óptimos. Sea **T** un árbol recubridor mínimo de **G = (V,E)**. Al remover un arco **(u,v)** en **T** particiona en dos árboles **T1** y **T2**. Entonces **T1** es un árbol recubridor mínimo de **G1 = (V1,E1)** y **T2** es de **G2 = (V2,E2)**.\n",
        "\n",
        "Dado esto, la suma de costos corresponde a:\n",
        "\n",
        "$$ w(t)= w(T1) + w(T2) + w(w,v)$$\n",
        "\n",
        "\\\\\n",
        "\n",
        "## **Procedimiento del algoritmo**\n",
        "\n",
        "- Ordenar en forma ascendente según el peso de cada arista\n",
        "- Se marca la arista con menor peso como la arista inicial de la ruta mínima (en caso de empate elija una arbitrariamente)\n",
        "- De las aristas restantes, se selecciona la que tenga menor peso, si hay más de una, se elige cualquiera de ellas.\n",
        "- Repetir el paso 3 siempre que la arista elegida no forme un ciclo con las ya seleccionadas\n",
        "- El proceso termina cuando tenemos todos los nodos del grafo en alguna de las aristas marcadas, es decir, cuando tenemos seleccionadas n-1 aristas, siendo n el número de nodos o vértices del grafo."
      ],
      "metadata": {
        "id": "vBIeKAif5h63"
      }
    },
    {
      "cell_type": "markdown",
      "source": [
        "## **2.1 CÓDIGO**\n",
        "\n",
        "Este algoritmo corresponde a la implementación utilizando la estructura de datos *union-find* (o también conocido como *conjunto disjunto*) que reduce considerablemente el tiempo de ejecución del algoritmo.\n",
        "\n",
        "\\\\\n",
        "## **Operaciones**\n",
        "\n",
        "**1.** ***find(i)*** ⇒ Dado un elemento $i$ retorna el elemento representativos del conjunto que contiene a $i$, si no lo encuentra vuelve a buscar ya que es recursiva. ⇒ O(log n)\n",
        "\n",
        "**2.** ***union(a,b)*** ⇒ Une los conjuntos dinámicos que contienen a $a$ y $b$. Se destruyen los conjuntos que los contengan previamente. ⇒ O(log n)"
      ],
      "metadata": {
        "id": "erOLRAD_ofN2"
      }
    },
    {
      "cell_type": "code",
      "source": [
        "# IMPORTACIÓN DE LAS LIBRERIAS A UTILIZAR\n",
        "\n",
        "import networkx as nx\n",
        "import matplotlib.pyplot as plt\n",
        "import random\n",
        "import math\n",
        "import datetime\n",
        "import seaborn as sns\n",
        "from timeit import repeat\n",
        "import numpy as np\n",
        "from termcolor import colored"
      ],
      "metadata": {
        "id": "0fhD5-79htYM"
      },
      "execution_count": 5,
      "outputs": []
    },
    {
      "cell_type": "code",
      "source": [
        "# GENERADOR DE GRAFOS\n",
        "\n",
        "# Crea un grafo de tipo array de arrays\n",
        "# que contiene [i, j, peso]\n",
        "# siendo i y j los nodos conectados\n",
        "\n",
        "def graph_instance_creator(V):\n",
        "  graph = []\n",
        "  for i in range(V):\n",
        "    for j in range(i+1, V):\n",
        "      graph.append([i, j, random.randint(1, 500)])\n",
        "  \n",
        "  return graph\n",
        "\n",
        "# GRAFO A MODO NETWORKX\n",
        "\n",
        "# Recibe un grafo de tipo array\n",
        "# Retorna un nx.Graph de la libreria networkx\n",
        "\n",
        "def graph_to_nxgraph(graph):\n",
        "  nxgraph = nx.Graph()\n",
        "  for i in graph:\n",
        "    nxgraph.add_edge(i[0], i[1], weight=i[2])\n",
        "  return nxgraph"
      ],
      "metadata": {
        "id": "FZ6ulqqnpYYF"
      },
      "execution_count": 6,
      "outputs": []
    },
    {
      "cell_type": "code",
      "source": [
        "def find(parent, i):\n",
        "  if parent[i] == i: # si es igual, retorna el conjunto\n",
        "    return i\n",
        "  else:\n",
        "    return find(parent, parent[i])  # recursión para seguir buscando\n",
        "\n",
        "def union(parent, x, y):\n",
        "  parent[x] = y  # Se unen los dos subárboles\n",
        "\n",
        "\n",
        "def kruskalMST(G, visualize):\n",
        "  A = [] # variable auxiliar que contiene al árbol recubridor\n",
        "  i = 0 # índice auxiliar para poder recorrer el grafo\n",
        "\n",
        "  G = sorted(G, key = lambda nodo: nodo[2]) # Ordenamos el grafo de menor a mayor\n",
        "  parent = [] # auxiliar para recorrer cada subárbol\n",
        "\n",
        "  for node in range(len(G)):\n",
        "    parent.append(node)\n",
        "\n",
        "  # Recorremos cada una de las conexiones\n",
        "  while i < len(G) - 1:\n",
        "    u, v, w = G[i]\n",
        "    i += 1\n",
        "    # Buscamos los padres de cada nodo y se verifica que no se genere un ciclo\n",
        "    x = find(parent, u)\n",
        "    y = find(parent, v)\n",
        "    \n",
        "    # Si no es cíclico, se agrega a nuestra variable T\n",
        "    if (x != y):\n",
        "      A.append([u,v,w])\n",
        "      union(parent, x, y)\n",
        "\n",
        "  # Calculamos el coste mínimo del árbol recubridor mínimo\n",
        "  cost = 0 \n",
        "  for arco in A:\n",
        "     cost += arco[2]\n",
        "\n",
        "  # Para visualizar el grafo\n",
        "  if visualize == True:\n",
        "    A_to_networkx = graph_to_nxgraph(A)\n",
        "    pos = nx.spring_layout(A_to_networkx)\n",
        "    labels = nx.get_edge_attributes(A_to_networkx,'weight')\n",
        "    nx.draw_networkx_edge_labels(A_to_networkx,pos,edge_labels=labels,font_size=10)\n",
        "    nx.draw(A_to_networkx, pos, with_labels = True, node_size=800, font_color=\"white\", font_size=14, font_weight=\"black\", width  =2.0, edge_color =\"green\")\n",
        "\n",
        "  return A, cost\n",
        "\n",
        "#Ejemplo\n",
        "n = random.randint(4,8)\n",
        "G = graph_instance_creator(n)\n",
        "\n",
        "print(\"Grafo original >>\", G)\n",
        "print(\"Total de nodos >>\", n)\n",
        "print(\"Total de vertices >>\", len(G))\n",
        "\n",
        "A, coste = kruskalMST(G, visualize = False)\n",
        "print(\"\\nÁrbol mínimo recubridor >>\", A)\n",
        "print(\"Total de nodos >>\", len(A) + 1)\n",
        "print(\"Cantidad de vertices >>\", len(A))\n",
        "print(\"\\n\\nCosto final >>\", coste)"
      ],
      "metadata": {
        "colab": {
          "base_uri": "https://localhost:8080/"
        },
        "id": "NXVvRSXlwBNb",
        "outputId": "22ef3574-b79b-4195-914e-5e2e40baea1e"
      },
      "execution_count": 7,
      "outputs": [
        {
          "output_type": "stream",
          "name": "stdout",
          "text": [
            "Grafo original >> [[0, 1, 64], [0, 2, 195], [0, 3, 476], [0, 4, 89], [0, 5, 308], [0, 6, 41], [1, 2, 139], [1, 3, 473], [1, 4, 264], [1, 5, 200], [1, 6, 224], [2, 3, 177], [2, 4, 105], [2, 5, 408], [2, 6, 395], [3, 4, 322], [3, 5, 328], [3, 6, 151], [4, 5, 270], [4, 6, 107], [5, 6, 127]]\n",
            "Total de nodos >> 7\n",
            "Total de vertices >> 21\n",
            "\n",
            "Árbol mínimo recubridor >> [[0, 6, 41], [0, 1, 64], [0, 4, 89], [2, 4, 105], [5, 6, 127], [3, 6, 151]]\n",
            "Total de nodos >> 7\n",
            "Cantidad de vertices >> 6\n",
            "\n",
            "\n",
            "Costo final >> 577\n"
          ]
        }
      ]
    },
    {
      "cell_type": "markdown",
      "source": [
        "## **2.2 Visualización árbol**"
      ],
      "metadata": {
        "id": "zvDulK5W1Arc"
      }
    },
    {
      "cell_type": "code",
      "source": [
        "n = random.randint(4,10)\n",
        "G = graph_instance_creator(n)\n",
        "print(\"Grafo original >>\",G,\"\\n\")\n",
        "A, c = kruskalMST(G, visualize = True)\n",
        "print(\"Árbol mínimo recubridor encontrado >>\", A,\"\\n\")"
      ],
      "metadata": {
        "colab": {
          "base_uri": "https://localhost:8080/",
          "height": 337
        },
        "id": "XBrYzpOo1K6G",
        "outputId": "53ba4aa2-fdfc-4e39-bfa0-a65627b279d4"
      },
      "execution_count": 8,
      "outputs": [
        {
          "output_type": "stream",
          "name": "stdout",
          "text": [
            "Grafo original >> [[0, 1, 349], [0, 2, 14], [0, 3, 57], [0, 4, 141], [0, 5, 305], [1, 2, 307], [1, 3, 488], [1, 4, 173], [1, 5, 293], [2, 3, 325], [2, 4, 259], [2, 5, 500], [3, 4, 70], [3, 5, 255], [4, 5, 257]] \n",
            "\n",
            "Árbol mínimo recubridor encontrado >> [[0, 2, 14], [0, 3, 57], [3, 4, 70], [1, 4, 173], [3, 5, 255]] \n",
            "\n"
          ]
        },
        {
          "output_type": "display_data",
          "data": {
            "text/plain": [
              "<Figure size 432x288 with 1 Axes>"
            ],
            "image/png": "[encoded data removed]"
          },
          "metadata": {}
        }
      ]
    },
    {
      "cell_type": "markdown",
      "source": [
        "## **2.3 EJEMPLO**\n",
        "\n",
        "↪ Para entender de mejor manera el funcionamiento del algoritmo, veremos un pequeño ejemplo paso a paso.\n",
        "\n",
        "↪ Este es el grafo original. Los números de las aristas indican su peso. Ninguna de las aristas está resaltada.\n",
        "\n",
        "**COLORES**\n",
        "- Línea roja: parte de la solución.\n",
        "- Línea azul: solución subproblema.\n",
        "- Línea naranja: se descarta.\n",
        "\n",
        "> ![image](https://i.imgur.com/aDt8tpm.png)\n",
        "\n",
        "**↪ AD** y **CE** son las aristas más cortas y no forman ciclos, con peso 5, cómo se dijo anteriormente si existen 2 con la misma cantidad, se escoge una arbitrariamente, por lo que resaltamos **AD**.\n",
        "\n",
        "> ![image](https://i.imgur.com/MEYBA0R.png)\n",
        "\n",
        "**↪** Repetimos el mismo proceso anterior, escogiendo **CE** ya que es la arista más pequeña y no se forma un ciclo, por lo que se resalta como segunda arista.\n",
        "\n",
        "> ![image](https://i.imgur.com/v9ix1ov.png)\n",
        "\n",
        "**↪** La siguiente arista a escoger es **DF**, con peso 6, se resalta utilizando el mismo método.\n",
        "\n",
        "> ![image](https://i.imgur.com/S3GylI5.png)\n",
        "\n",
        "**↪** Las siguientes aristas más pequeñas son **AB** y **BE**, ambas con peso 7. **AB** se elige arbitrariamente y se resalta. La arista **BD** se resalta en naranjo, ya que este formaría el ciclo **ABD** si se hubiera elegido.\n",
        "\n",
        "> ![image](https://i.imgur.com/Z1gci6e.png)\n",
        "\n",
        "**↪** El proceso continúa marcando las aristas, **BE** con peso 7. Muchas otra aristas se marcan con naranjo en este paso: **BC** (formando el ciclo **BCE**), **DE** (formando el ciclo **DEBA**), y **FE** (formando el ciclo **FEBAD**).\n",
        "\n",
        "> ![image](https://i.imgur.com/jvnonGQ.png)\n",
        "\n",
        "**↪** Finalmente, el proceso termina con la arista **EG** de peso 9, y se ha encontrado el árbol expandido mínimo con peso total de **39**.\n",
        "\n",
        "> ![image](https://i.imgur.com/PQGgSaN.png)"
      ],
      "metadata": {
        "id": "DIV3XF6-6MPG"
      }
    },
    {
      "cell_type": "markdown",
      "source": [
        "# **3. CORRECTITUD**\n",
        "\n",
        "↪ Sea $G$ un grafo ponderado conectado. Sea $H$ $=$ $T_m$ el subgrafo producido por el algoritmo. Por construcción es claro que $T_0$, $T_1$, $...$,$T_m$ $=$ $H$ son todos acíclicos: Por lo tanto $H$ es bosque.\n",
        "\n",
        "\\\\\n",
        "\n",
        "### **Afirmación**: \n",
        "\n",
        "$H$ está conectado. Probaremos esto usando el argumento de la contradicción.\n",
        "\n",
        "↪ Suponga que $H$ es desconectado. Entonces hay al menos dos árboles desconectados en el bosque $H$. Como $G$ está conectado, hay una secuencia de aristas $e_1$, $e_2$,$...$,$e_n$ $\\notin$ $H$ = $T_m$ que conectan los vértices de un par de árboles desconectados en el bosque. Entonces $T_m$ $\\cup$ {$e_1$} es acíclico, lo cual es una contradicción ya que el algoritmo no se detendría en $i$$=$$m$.\n",
        "\n",
        "Entonces $H$ es un árbol de expansión de $G$. Basta mostrar que es mínimo.\n",
        "\n",
        "Probamos lo siguiente por **inducción**: si $F$ es el conjunto de aristas elegido en cualquier etapa del algoritmo, entonces hay un árbol de expansión mínimo que contiene $F$.\n",
        "\n",
        "\\\\\n",
        "\n",
        "> **Nota:** Esta prueba por inducción completa la prueba de corrección ya que en algún momento $F$ es $H$.\n",
        "\n",
        "\\\\\n",
        "\n",
        "### **Caso Base:** \n",
        "\n",
        "↪ Claramente, la proposición es verdadera si $F$ está vacía: cualquier árbol de expansión mínimo servirá.\n",
        "\n",
        "### **Caso Inductivo:**\n",
        "\n",
        "↪ Ahora suponga que $F$ contiene $n$ $\\geq$ $0$ aristas y la proposición es verdadera. Sea $T$ $=$ $(V,E)$ un árbol de expansión mínimo que contiene $F$.\n",
        "\n",
        "↪ Si $E$ $=$ $F$ entonces hemos terminado. Así que suponga que $F$ $\\subset$ $E$ y, por lo tanto, el algoritmo no está terminado. Necesitamos mostrar que cuando el algoritmo agrega otra arista $e$ a $F$, hay un árbol de expansión mínimo que contiene $F$ $\\cup$ {$e$}.\n",
        "\n",
        "↪ Si la siguiente arista $e$ agregada por el algoritmo está en $E$, entonces la proposición es verdadera para $F$ $\\cup$ {$e$} y estaríamos listos por inducción.\n",
        "\n",
        "↪ De lo contrario, hay un ciclo $C$ en $T$ $\\cup$ {$e$}, el nuevo borde agregado entre los vértices de un árbol crea un ciclo, además, hay otra arista $e'$ $\\in$ $C$ tal que $e'$ no está en $F$, ya que $F$ $\\cup$ {$e$} debe ser acíclico, dado que $e'$ no fue elegido por el algoritmo, $peso(e')$ $\\geq$ $peso(e)$.\n",
        "\n",
        "↪ Entonces $T'$ $=$ ($V$, ($E$ $\\setminus${$e'$}) $\\cup$ {$e$}) es un árbol de expansión. La suma de los pesos en $T'$ es la suma de los pesos en $T$ más $(peso(e) - peso(e'))$ $\\leq$ $0$.\n",
        "\n",
        "↪ Entonces $T'$ tiene una suma de pesos que es menor o igual que la suma de pesos en $T$. Pero $T$ tiene un peso mínimo; entonces $T'$ es un $MST$. Entonces terminamos por inducción ya que $T'$ es un árbol de expansión mínimo que contiene $F$ $\\cup$ {$e$}."
      ],
      "metadata": {
        "id": "pAcmgNo5okua"
      }
    },
    {
      "cell_type": "markdown",
      "source": [
        "# **4. TIEMPO DE EJECUCIÓN**\n",
        "\n",
        "Podemos separar el algoritmo en *implementación directa* y *con la estructura de datos Union-Find*\n",
        "\n",
        "\\\\\n",
        "\n",
        "**1. Implementación directa**\n",
        "\n",
        "En primer lugar, el algoritmo ordena los arcos de forma decreciente según su costo asociado, esta operación tiene un costo de **O(E log V)**, siendo E el número de arcos y V el de nodos.\n",
        "\n",
        "Para el loop que agrega arcos a nuestra solución:\n",
        "\n",
        "- El ciclo realiza E iteraciones. Cada iteración es responsable de revisar si el arco $e = (u,v)$ puede ser agregado a la solución y que tenemo hasta el momento (no tiene un ciclo).\n",
        "\n",
        "- La agregación de un arco $e$ solamente crea un ciclo si **ya existe un camino de u a v**. Esta operación puede ser realizada en tiempo lineal usando cualquier algoritmo de búsqueda en grafos empezando desde **v**. Al existir **V** nodos a considerar en este análisis, dentro del ciclo tenemos un aporte de O(V).\n",
        "\n",
        "Por lo tanto, el tiempo de ejecución del algoritmo implementado de forma directa es de **O(VE)**.\n",
        "\n",
        "\\\\\n",
        "\n",
        "**2. Implementación Union-Find**\n",
        "\n",
        "En esta implementación se analiza paso a paso el procedimiento para determinar el tiempo de ejecución:\n",
        "\n",
        "$$T_{sort}(E) + O(V) * T_{Make-Set} + O(E)(T_{Find} + T_{Union}) = O(Elog(E)+E_α(V))$$\n",
        "\n",
        "Análisis del tiempo de ejecución del algoritmo:\n",
        "\n",
        "- La ordenación de las aristas lleva tiempo **O(E log(E))**\n",
        "- Tras la ordenación, iteramos por todas las aristas E y aplicamos el algoritmo de union-find.\n",
        "- Las operaciones de búsqueda y unión pueden tardar como máximo **O(log(V)).\n",
        "- Por lo tanto, la complejidad total es de **O(Elog(E) + Elog(V))**.\n",
        "- El valor de E puede ser como máximo O(2V), por lo que O(log(V)) es O(log(E)) igual. \n",
        "\n",
        "Por lo tanto, la complejidad temporal global de la implementación union-find es **O(Elog(E)) u O(Elog(V))**."
      ],
      "metadata": {
        "id": "dpTJtmTSopjn"
      }
    },
    {
      "cell_type": "markdown",
      "source": [
        "# **5. EXPERIMENTACIÓN**"
      ],
      "metadata": {
        "id": "5LQE7av46Wsp"
      }
    },
    {
      "cell_type": "markdown",
      "source": [
        "## **5.1 Tiempo de ejecución algoritmo Krukal**\n",
        "\n",
        "↪ En el siguiente experimento, analizaremos el tiempo de ejecución del algoritmo de kruskal a medida que aumentan la cantidad de nodos en un rango de $[5,100]$."
      ],
      "metadata": {
        "id": "GZ3K6nEN3meu"
      }
    },
    {
      "cell_type": "code",
      "source": [
        "x=[]; y =[]\n",
        "\n",
        "#sns.set(rc={'figure.figsize':(12,8)})\n",
        "\n",
        "for j in range(5,100):\n",
        "\n",
        "  G = graph_instance_creator(j)\n",
        "  n = len(G)\n",
        "\n",
        "  l = repeat(setup=\"from __main__ import kruskalMST\", stmt=f\"kruskalMST({G},{False})\", repeat=1, number=10)\n",
        "  x.append(n)\n",
        "  y.append(l)\n",
        "\n",
        "plt.plot(x,y)\n",
        "plt.legend([\"Kuskal Algorithm\"])\n",
        "\n",
        "plt.xlabel('n')\n",
        "plt.ylabel('time in ms')\n",
        "plt.title('Tiempo Ejecución Kruskal')\n",
        "plt.show()"
      ],
      "metadata": {
        "colab": {
          "base_uri": "https://localhost:8080/",
          "height": 295
        },
        "id": "vmqAs0sB4CT9",
        "outputId": "0d1a5cc2-d2be-41e7-f10a-0b73396dcdb3"
      },
      "execution_count": 12,
      "outputs": [
        {
          "output_type": "display_data",
          "data": {
            "text/plain": [
              "<Figure size 432x288 with 1 Axes>"
            ],
            "image/png": "[encoded data removed]"
          },
          "metadata": {
            "needs_background": "light"
          }
        }
      ]
    },
    {
      "cell_type": "markdown",
      "source": [
        "### **CONCLUSIÓN**\n",
        "\n",
        "↪ Como podemos observar en el gráfico, la curva se comporta de forma logarítmica y creciente, por lo que nuestro análisis del tiempo de ejecución en el punto 4 es correcta."
      ],
      "metadata": {
        "id": "-gdihAFZ7F22"
      }
    },
    {
      "cell_type": "markdown",
      "source": [
        "## **5.2 Comparación v/s algoritmo Prim**\n",
        "\n",
        "↪ En el siguiente experimento realizaremos una comparativa entre el algoritmo kruskal y el algoritmo prim, tomando en cuenta la característica del tiempo de ejecución."
      ],
      "metadata": {
        "id": "wO3J1Zzr7a0I"
      }
    },
    {
      "cell_type": "code",
      "source": [
        "import networkx as nx\n",
        "import matplotlib.pyplot as plt\n",
        "import sys\n",
        "from collections import defaultdict\n",
        "\n",
        "class Prim:\n",
        "    def __init__(self, nodes, edges) -> None:\n",
        "        self.nodes = nodes\n",
        "        self.edges = edges\n",
        "    \n",
        "    def mst(self, start_node):\n",
        "        num_nodes = len(self.nodes)\n",
        "        mst_edges = defaultdict(int)\n",
        "        edge_weight = defaultdict(int) \n",
        "        node_neighbors = defaultdict(set) \n",
        "        visited = set()  \n",
        "        visited.add(start_node)\n",
        "        count = 1 \n",
        "\n",
        "        for (u, v, w) in self.edges:\n",
        "            node_neighbors[u].add(v)\n",
        "            node_neighbors[v].add(u)\n",
        "            edge_weight[(u, v)] = edge_weight[(v, u)] = w\n",
        "            \n",
        "        while count != num_nodes:\n",
        "            min_weight = sys.maxsize\n",
        "            cur_node, next_node = None, None\n",
        "            for u in visited:\n",
        "                for v in node_neighbors[u]:\n",
        "                    if v not in visited and edge_weight[(u, v)] < min_weight:\n",
        "                        min_weight = edge_weight[(u, v)]\n",
        "                        cur_node = u\n",
        "                        next_node = v     \n",
        "            visited.add(next_node)\n",
        "            count += 1\n",
        "            if cur_node != None and next_node != None:\n",
        "                mst_edges[(cur_node, next_node)] = min_weight\n",
        "        return mst_edges\n",
        "\n",
        "nodes = [0, 1, 2, 3, 4, 5]\n",
        "edges = [(0, 1, 6), (0, 2, 1), (0, 3, 5), (1, 2, 5), (1, 4, 3), (2, 3, 5), (2, 4, 6), (2, 5, 4), (3, 5, 2), (4, 5, 6)]\n",
        "start_node = 0 \n",
        "mst_edges = Prim(nodes, edges).mst(start_node)\n",
        "G = nx.Graph()\n",
        "G.add_nodes_from(nodes)\n",
        "G.add_weighted_edges_from(edges)"
      ],
      "metadata": {
        "id": "O4e0R1yY7zH5"
      },
      "execution_count": 15,
      "outputs": []
    },
    {
      "cell_type": "code",
      "source": [
        "x=[]; y =[]; z = []\n",
        "\n",
        "for j in range(5,100):\n",
        "\n",
        "  G = graph_instance_creator(j)\n",
        "  n = len(G)\n",
        "\n",
        "  l = repeat(setup=\"from __main__ import kruskalMST\", stmt=f\"kruskalMST({G},{False})\", repeat=1, number=10)\n",
        "  m = repeat(setup=\"from __main__ import Prim\", stmt=f\"Prim({G},{False})\", repeat=1, number=10)\n",
        "\n",
        "  x.append(n)\n",
        "  y.append(l)\n",
        "\n",
        "plt.plot(x,y)\n",
        "plt.plot(x,z)\n",
        "plt.legend([\"Kuskal Algorithm\", \"Prim Algorithm\"])\n",
        "\n",
        "plt.xlabel('n')\n",
        "plt.ylabel('time in ms')\n",
        "plt.title('Tiempo Ejecución Kruskal v/s Prim')\n",
        "plt.show()"
      ],
      "metadata": {
        "id": "C-_CMwxl8Vlb"
      },
      "execution_count": null,
      "outputs": []
    },
    {
      "cell_type": "markdown",
      "source": [
        "### **CONCLUSIÓN**\n",
        "\n",
        "↪\n",
        "\n",
        "Algunas de las diferencias entre el algoritmo de Prim y el Kruskal son:\n",
        "\n",
        "1. Prim → Comienza a construir MST desde cualquier vértices del gráfico\n",
        "  \n",
        "  Kruskal → Comienza a construir a partir del vértice que tiene el peso mínimo en el gráfico.\n",
        "\n",
        "2. Prim → Atraviesa un nodo más de una vez para obtener la distancia mínima.\n",
        "\n",
        "  Kruskal → Atraviesa un nodo sólo una vez.\n",
        "\n",
        "3. Prim → El algoritmo de Prim tiene una complejidad de tiempo de O(V2), siendo V el número de vértices y se puede mejorar hasta O(E log V) usando montones de Fibonacci.\n",
        "\n",
        "  Kruskal → La complejidad temporal del algoritmo de Kruskal es O(E log V), siendo V el número de vértices.\n",
        "\n",
        "4. Prim → El algoritmo de Prim proporciona un componente conectado y funciona solo en un gráfico conectado.\n",
        "\n",
        "  Kruskal → El algoritmo de Kruskal puede generar bosques (componentes desconectados) en cualquier instante y puede funcionar en componentes desconectados.\n",
        "\n",
        "5. Prim → El algoritmo de Prim se ejecuta más rápido en gráficos densos.\n",
        "\n",
        "  Kruskal → El algoritmo de Kruskal se ejecuta más rápido en gráficos dispersos.\n",
        "\n",
        "6. Prim → Genera el árbol de expansión mínimo a partir del vértice raíz.\n",
        "\n",
        "  Kruskal → Genera el árbol de expansión mínimo a partir del borde menos ponderado.\n",
        "\n",
        "7. Prim → Las aplicaciones del algoritmo de prim son el problema del vendedor ambulante, la red de carreteras y las vías férreas que conectan todas las ciudades, etc.\n",
        "\n",
        "  Kruskal → as aplicaciones del algoritmo Kruskal son la conexión LAN, la red de TV, etc.\n",
        "\n",
        "8. Prim → El algoritmo de Prim prefiere estructuras de datos de lista.\n",
        "\n",
        "  Kruskal → El algoritmo de Kruskal prefiere estructuras de datos en heap.\n",
        "\n",
        "\n"
      ],
      "metadata": {
        "id": "SvNJBKOJ8vay"
      }
    }
  ]
}
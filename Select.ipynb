{
  "nbformat": 4,
  "nbformat_minor": 0,
  "metadata": {
    "colab": {
      "provenance": [],
      "collapsed_sections": [],
      "authorship_tag": "ABX9TyOXXGgNEa8ga2ev0AyFdt8X",
      "include_colab_link": true
    },
    "kernelspec": {
      "name": "python3",
      "display_name": "Python 3"
    },
    "language_info": {
      "name": "python"
    }
  },
  "cells": [
    {
      "cell_type": "markdown",
      "metadata": {
        "id": "view-in-github",
        "colab_type": "text"
      },
      "source": [
        "<a href=\"https://colab.research.google.com/github/Aranzasuu/ADA-Informes/blob/main/Select.ipynb\" target=\"_parent\"><img src=\"https://colab.research.google.com/assets/colab-badge.svg\" alt=\"Open In Colab\"/></a>"
      ]
    },
    {
      "cell_type": "markdown",
      "source": [
        "# **1. Descripción del problema**\n",
        "\n",
        "![image](https://yosoytuprofe.20minutos.es/wp-content/uploads/2021/10/grafico-de-barras-1024x576.png?crop=1)\n",
        "\n",
        "##${↪}$ **PROBLEMA DE SELECCIÓN**\n",
        "\n",
        "La estadística de orden es una herramienta fundamental en la estadística, el objetivo es encontrar el k-ésimo menor elemento en un conjunto, a esto se le llama estadístico de orden k, donde incluye casos como para encontrar el mínimo, máximo y la mediana.\n",
        "\n",
        "Es por esto que el problema de la seleción está directamente relacionado con esto.\n",
        "\n",
        "**${↪}$ 𝙴𝚗𝚝𝚛𝚊𝚍𝚊:** Conjunto de $n$ elementos diferentes no ordenados A más un índice $i$.\n",
        "\n",
        "**${↪}$ 𝚂𝚊𝚕𝚒𝚍𝚊:** Elemento $x$ perteneciente de A, que es menor a exactamente $i - 1$ elementos de A.\n",
        "\n",
        "# **2. ALGORITMO SELECT**\n",
        "\n",
        "Corresponde a un algoritmo recursivo, que tiene la capacidad de encontrar un estadístico de orden i-ésimo. Donde con la ayuda del algoritmo $Pivot Selection$ escoge el pivote para poder implementar la función $Partition$ y encontrar el elemento buscado.\n",
        "\n",
        "**¿Pero cómo funciona?**\n",
        "\n",
        "1. Debemos tener claro el elemento que debemos buscar $(i$: corresponde a la posición del i-ésimo elemento$)$ y llamamos a la función $Pivot-Selection$ donde dividimos el conjunto de n elementos en n/5 grupos de 5 elementos cada uno (el último grupo queda con menos elementos).\n",
        "\n",
        "2. Con la ayuda del algoritmo $Insertion Sort$ ordenamos cada grupo y luego encontramos la mediana de cada uno. Así obteniendo un conjunto compuesto sólo de las medianas.\n",
        "\n",
        "3. Se aplica recursivamente la función $PivotSelection$ para encontrar la mediana $m$ de las medianas calculadas con anterioridad.\n",
        "\n",
        "4. Ya teniendo nuestra $m$, se le asignará ese valor como pivote para realizar la partición.\n",
        "\n",
        "5. Si nuestra $i$ es el mismo que $q$ (posición del pivote) retornamos el valor. En caso que $i < q$ continuamos con la parte izquierda del arreglo $[0...q]$, en caso contrario continuamos con la parte derecha del arreglo $[q+1...n]$.\n",
        "\n",
        "6. Finalmente como la función $Select$ es recursiva, repetimos el proceso hasta encontrar el elemento buscado.\n",
        "\n",
        "## **2.1 CÓDIGO**\n",
        "\n",
        "A continuación, el código implementa el algoritmo para poder solucionar el problema de selección."
      ],
      "metadata": {
        "id": "RL-EApNjZ230"
      }
    },
    {
      "cell_type": "code",
      "source": [
        "# Importación de las librerías a utilizar\n",
        "import matplotlib.pyplot as plt\n",
        "import math\n",
        "import datetime\n",
        "from statistics import median_low\n",
        "from timeit import repeat\n",
        "import numpy as np\n",
        "import random\n",
        "from termcolor import colored"
      ],
      "metadata": {
        "id": "g_GSdp7ZKTY4"
      },
      "execution_count": 2,
      "outputs": []
    },
    {
      "cell_type": "code",
      "source": [
        "def insertionSort(b):\n",
        "    for i in range(1, len(b)):\n",
        "        up = b[i]\n",
        "        j = i - 1\n",
        "        while j >= 0 and b[j] > up: \n",
        "            b[j + 1] = b[j]\n",
        "            j -= 1\n",
        "        b[j + 1] = up  \n",
        "    return b "
      ],
      "metadata": {
        "id": "KBvOs_KQKUzN"
      },
      "execution_count": 1,
      "outputs": []
    },
    {
      "cell_type": "code",
      "source": [
        "def crearGrupos(A):\n",
        "  n = len(A)\n",
        "  aux = []\n",
        "  grupos = []\n",
        "\n",
        "  for i in range(n):\n",
        "    aux.append(A[i])\n",
        "    if(len(aux) % 5 == 0):\n",
        "      grupos.append(aux)\n",
        "      aux = [] \n",
        "  \n",
        "  if len(aux) < 5 and len(aux) > 0:\n",
        "    grupos.append(aux)\n",
        "\n",
        "  return grupos\n",
        "    "
      ],
      "metadata": {
        "id": "_R9UTOEWe7vK"
      },
      "execution_count": 3,
      "outputs": []
    },
    {
      "cell_type": "code",
      "source": [
        "def calcularMediana(A):\n",
        "  medianas = []\n",
        "  # ordeno los grupos\n",
        "  for i in range(len(A)):\n",
        "    A[i] = insertionSort(A[i])\n",
        "  \n",
        "  for j in range(len(A)):\n",
        "    medianas.append(median_low(A[j]))\n",
        "  return medianas\n",
        "\n"
      ],
      "metadata": {
        "id": "HGPIarubjEEy"
      },
      "execution_count": 4,
      "outputs": []
    },
    {
      "cell_type": "code",
      "source": [
        "def partition(A, low, high, pivot):\n",
        "    p = A[pivot]\n",
        "    A[high - 1], A[pivot] = A[pivot], A[high - 1]\n",
        "    i = low - 1\n",
        "    for j in range(low, high):\n",
        "        if A[j] <= p:\n",
        "            i += 1\n",
        "            A[i], A[j] = A[j], A[i]\n",
        "    return i"
      ],
      "metadata": {
        "id": "4dIGc4pQTMUi"
      },
      "execution_count": 5,
      "outputs": []
    },
    {
      "cell_type": "code",
      "source": [
        "def PivotSelection(A):\n",
        "  if len(A) == 1: return A[0]\n",
        "\n",
        "  # dividir el conjunto n en grupos de 5 elementos\n",
        "  grupos = crearGrupos(A)\n",
        "\n",
        "  # guardamos las medianas\n",
        "  medianas = calcularMediana(grupos)\n",
        "\n",
        "  return PivotSelection(medianas)"
      ],
      "metadata": {
        "id": "q0vyRbFuT-wO"
      },
      "execution_count": 12,
      "outputs": []
    },
    {
      "cell_type": "code",
      "source": [
        "def Select(A, low, high, i):\n",
        "\n",
        "  if i > 0 and i <= high - low + 1:\n",
        "    par = PivotSelection(A)  # pivote para la partición\n",
        "  # par = partition(A,0,len(A),pivot) # posición del pivote\n",
        "\n",
        "    if i - low == par - 1: return A[par]\n",
        "\n",
        "    # el pivote es menor\n",
        "    if par - low > i - 1: return Select(A, low, par - 1, i)\n",
        "  return Select(A, par + 1, high, i - par + low - 1)\n",
        "\n",
        "  \n",
        "\n",
        "A = [8,5,1,9,7,10,2,4,3,6]\n",
        "i = 1\n",
        "min = Select(A, 0, len(A), i)\n",
        "print(\"resultado >>\", min)\n",
        "\n",
        "\n",
        "\n"
      ],
      "metadata": {
        "id": "PQJKayFrc_6_"
      },
      "execution_count": null,
      "outputs": []
    },
    {
      "cell_type": "markdown",
      "source": [
        "## **2.2 EJEMPLO**\n",
        "\n",
        "Para poder entender de mejor manera el funcionamiento de este algoritmo, vamos a ver un ejemplo paso a paso:\n",
        "\n",
        "**${↪}$ 𝙴𝚗𝚝𝚛𝚊𝚍𝚊:** $[8,5,1,9,7,10,2,4,3,6]$\n",
        "\n",
        "**${↪}$ 𝚂𝚊𝚕𝚒𝚍𝚊:** $1$\n",
        "\n",
        "Supongamos que estamos buscando el menor elemento, por lo que nuestra $i = 1$.\n",
        "\n",
        "1. Dividimos el arreglo en grupos de 5 elementos, como podemos observar el arreglo tiene 10 elementos, por lo que ningún subarreglo tendrá menos de 5 elementos:\n",
        "\n",
        "> $[8,5,1,9,7]$ $;$ $[10,2,4,3,6]$\n",
        "\n",
        "2. Con la función $Insertion Sort$ ordenamos los grupos:\n",
        "\n",
        "> $[1,5,7,8,9]$ $;$ $[2,3,4,6,10]$\n",
        "\n",
        "3. Debemos obtener la mediana de los grupos, así teniendo:\n",
        "\n",
        "> $[7,4]$\n",
        "\n",
        "4. Aplicamos recursivamente la función $PivotSelection$ para encontrar la mediana $m$ de las medianas obtenidas con anterioridad, las ordenamos y la buscamos:\n",
        "\n",
        "> $[$**4**$,7]$\n",
        "\n",
        "5. Obteniendo como pivote $q = 4$ para particionar la entrada con la función $Partition$:\n",
        "\n",
        "> $[1,2,3,4,8,5,9,7,10,6]$\n",
        "\n",
        "6. Como buscamos el menor $(i < q)$, continuamos con la parte izquierda, así repitiendo el proceso ya que es recursivo, así también ordenando:\n",
        "\n",
        "> $[1,2,3,4]$\n",
        "\n",
        "7. Calculamos nuevamente el pivote $q = 2$, como es menor continuamos con la parte izquierda, teniendo como menor $= 1$ y finalmente retornandolo:\n",
        "\n",
        "> $[1,2]$ ${↦}$ $[1]$"
      ],
      "metadata": {
        "id": "n9SPy8yNKVEE"
      }
    },
    {
      "cell_type": "markdown",
      "source": [
        "# **3. CORRECTITUD**\n",
        "\n",
        "Para poder comprobar la correctitud de Select, utilizaremos **inducción matemática**, para probarla debemos:\n",
        "\n",
        "1. Probar $P(n)$ para un caso base, por ejemplo $P(1)$\n",
        "\n",
        "2. Probar que si $P(m)$ es cierto $m < n$, entonces $P(n)$ también lo es.\n",
        "\n",
        "> **Caso Base:** En el caso que el conjunto contenga sólo un elemento, se asume que ese único elemento es el menor, ya que $A[low] = A[high]$\n",
        ">\n",
        "> **Caso Promedio:** En el caso que el conjunto tenga más de un elemento, se debe calcular la(s) mediana(s) para poder realizar el proceso de partición. Al ser recursivo se llegará al punto de obtener el caso base, así retornando el elemento buscado. Donde:\n",
        ">\n",
        "> En el caso que el índice buscado sea menor a la partición $(q)$, debemos poceder desde el lado izquierdo tomando en cuenta al pivote. $A[low...q]$\n",
        ">\n",
        "> En el caso contrario, debemos proceder del lado derecho al pivote. $A[q+1...high]$\n",
        ">\n",
        "> Así probando la correctitud del algoritmo."
      ],
      "metadata": {
        "id": "pFO2aFIwsj6C"
      }
    },
    {
      "cell_type": "markdown",
      "source": [
        "# **4. TIEMPO DE EJECUCIÓN**\n",
        "\n",
        "La complejidad de este algoritmo corresponde a:\n",
        "\n",
        "> $T(n) = T(n/5) + T(7n/10) + O(n)$\n",
        "\n",
        "Donde dividir el arreglo en n/5 grupos toma una complejidad de $O(n)$. Para buscar la mediana de forma recursiva toma un tiempo de T(n/5). Particionar el arreglo según la mediana tiene una complejidad de O(n). En el peor de los casos, 3n/10 son los menores, pero en este caso se utilizará la parte compuesto por el 7n/10 del conjunto.\n",
        "\n",
        "Por inducción matemática quedaría algo asi:\n",
        "\n",
        "$$T(n) =$$\\begin{cases}\n",
        "  O(1)  & \\\\\n",
        "  T(\\frac{n}{5}) + T(\\frac{7n}{10}+6) + O(n) & \\\n",
        "\\end{cases}\n",
        ">\n",
        "> $T(n) ≤ a*n + T(7n/10) + T(n/5)$\n",
        ">\n",
        "> $c * n ≤ cn/5 + 7cn/10 + a*n$\n",
        ">\n",
        "> $c*n ≤ 9cn/10 + a*n$\n",
        ">\n",
        "> $c*n ≤ 9*(cn/10) + a*n$\n",
        ">\n",
        "> $cn/10 ≤ a*n$\n",
        ">\n",
        "> $T(n) = O(n)$\n",
        "\n",
        "Concluyendo así que el tiempo de ejecucuión del algoritmo es lineal, es decir $O(n)$."
      ],
      "metadata": {
        "id": "9cW2EyqEtcPu"
      }
    },
    {
      "cell_type": "markdown",
      "source": [
        "# **5. EXPERIMENTACIÓN**"
      ],
      "metadata": {
        "id": "HxNtDoactlV_"
      }
    }
  ]
}
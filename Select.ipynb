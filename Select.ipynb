{
  "nbformat": 4,
  "nbformat_minor": 0,
  "metadata": {
    "colab": {
      "provenance": [],
      "collapsed_sections": [],
      "authorship_tag": "ABX9TyMzuRVZE+MwjFr+Q98LSZ95",
      "include_colab_link": true
    },
    "kernelspec": {
      "name": "python3",
      "display_name": "Python 3"
    },
    "language_info": {
      "name": "python"
    }
  },
  "cells": [
    {
      "cell_type": "markdown",
      "metadata": {
        "id": "view-in-github",
        "colab_type": "text"
      },
      "source": [
        "<a href=\"https://colab.research.google.com/github/Aranzasuu/ADA-Informes/blob/main/Select.ipynb\" target=\"_parent\"><img src=\"https://colab.research.google.com/assets/colab-badge.svg\" alt=\"Open In Colab\"/></a>"
      ]
    },
    {
      "cell_type": "markdown",
      "source": [
        "# **1. Descripción del problema**\n",
        "\n",
        "![image](https://yosoytuprofe.20minutos.es/wp-content/uploads/2021/10/grafico-de-barras-1024x576.png?crop=1)\n",
        "\n",
        "##${↪}$ **PROBLEMA DE SELECCIÓN**\n",
        "\n",
        "La estadística de orden es una herramienta fundamental en la estadística, el objetivo es encontrar el k-ésimo menor elemento en un conjunto, a esto se le llama estadístico de orden k, donde incluye casos como para encontrar el mínimo, máximo y la mediana.\n",
        "\n",
        "Es por esto que el problema de la seleción está directamente relacionado con esto.\n",
        "\n",
        "**${↪}$ 𝙴𝚗𝚝𝚛𝚊𝚍𝚊:** Conjunto de $n$ elementos diferentes no ordenados A más un índice $i$.\n",
        "\n",
        "**${↪}$ 𝚂𝚊𝚕𝚒𝚍𝚊:** Elemento $x$ perteneciente de A, que es menor a exactamente $i - 1$ elementos de A.\n",
        "\n",
        "# **2. ALGORITMO SELECT**\n",
        "\n",
        "Corresponde a un algoritmo recursivo, que tiene la capacidad de encontrar un estadístico de orden i-ésimo. Donde con la ayuda del algoritmo $Pivot Selection$ escoge el pivote para poder implementar la función $Partition$ y encontrar el elemento buscado.\n",
        "\n",
        "**¿Pero cómo funciona?**\n",
        "\n",
        "1. Debemos tener claro el elemento que debemos buscar $(i$: corresponde a la posición del i-ésimo elemento$)$ y llamamos a la función Pivot-Selection donde dividimos el conjunto de n elementos en n/5 grupos de 5 elementos cada uno (el último grupo queda con menos elementos).\n",
        "\n",
        "2. Con la ayuda del algoritmo $Insertion Sort$ ordenamos cada grupo y luego encontramos la mediana de cada uno. Así obteniendo un conjunto compuesto sólo de las medianas.\n",
        "\n",
        "3. Se aplica recursivamente la función $PivotSelection$ para encontrar la mediana $m$ de las medianas calculadas con anterioridad.\n",
        "\n",
        "4. Ya teniendo nuestra $m$, se le asignará ese valor como pivote para realizar la partición.\n",
        "\n",
        "5. Si nuestra $i$ es el mismo que $q$ (posición del pivote) retornamos el valor. En caso que $i < q$ continuamos con la parte izquierda del arreglo $[0...q]$, en caso contrario continuamos con la parte derecha del arreglo $[q+1...n]$.\n",
        "\n",
        "6. Finalmente como la función $Select$ es recursiva, repetimos el proceso hasta encontrar el elemento buscado.\n",
        "\n",
        "## **2.1 CÓDIGO**\n",
        "\n",
        "A continuación, el código implementa el algoritmo para poder solucionar el problema de selección."
      ],
      "metadata": {
        "id": "RL-EApNjZ230"
      }
    },
    {
      "cell_type": "code",
      "source": [
        "# Importación de las librerías a utilizar\n",
        "import matplotlib.pyplot as plt\n",
        "import math\n",
        "import datetime\n",
        "from statistics import median_low\n",
        "from timeit import repeat\n",
        "import numpy as np\n",
        "import random\n",
        "from termcolor import colored"
      ],
      "metadata": {
        "id": "g_GSdp7ZKTY4"
      },
      "execution_count": 88,
      "outputs": []
    },
    {
      "cell_type": "code",
      "source": [
        "def insertionSort(b):\n",
        "    for i in range(1, len(b)):\n",
        "        up = b[i]\n",
        "        j = i - 1\n",
        "        while j >= 0 and b[j] > up: \n",
        "            b[j + 1] = b[j]\n",
        "            j -= 1\n",
        "        b[j + 1] = up  \n",
        "    return b "
      ],
      "metadata": {
        "id": "KBvOs_KQKUzN"
      },
      "execution_count": 2,
      "outputs": []
    },
    {
      "cell_type": "code",
      "source": [
        "def partition(A, p, r, x, verbose):\n",
        "  for i in range(p, r):\n",
        "    if (A[i] == x):\n",
        "      A[r], A[i] = A[i], A[r]\n",
        "      comparisons+=1\n",
        "      break\n",
        "\n",
        "  pivot = A[r]\n",
        "  i = p\n",
        "  for j in range(p,r):\n",
        "    if A[j] <= pivot:\n",
        "      A[j], A[i] = A[i], A[j]\n",
        "      i += 1\n",
        "\n",
        "  A[i], A[r] = A[r], A[i]\n",
        "  return i"
      ],
      "metadata": {
        "id": "4dIGc4pQTMUi"
      },
      "execution_count": 3,
      "outputs": []
    },
    {
      "cell_type": "code",
      "source": [
        "def crearGrupos(A):\n",
        "  n = len(A)\n",
        "  aux = []\n",
        "  grupos = []\n",
        "\n",
        "  for i in range(n):\n",
        "    aux.append(A[i])\n",
        "    if(len(aux) % 5 == 0):\n",
        "      grupos.append(aux)\n",
        "      aux = []\n",
        "\n",
        "  return grupos\n",
        "    "
      ],
      "metadata": {
        "id": "_R9UTOEWe7vK"
      },
      "execution_count": 60,
      "outputs": []
    },
    {
      "cell_type": "code",
      "source": [
        "def calcularMediana(A):\n",
        "  medianas = []\n",
        "  # ordeno los grupos\n",
        "  for i in range(len(A)):\n",
        "    A[i] = insertionSort(A[i])\n",
        "  \n",
        "  for j in range(len(A)):\n",
        "    medianas.append(median_low(A[j]))\n",
        "  return medianas\n",
        "\n"
      ],
      "metadata": {
        "id": "HGPIarubjEEy"
      },
      "execution_count": 92,
      "outputs": []
    },
    {
      "cell_type": "code",
      "source": [
        "def PivotSelection(A):\n",
        "  # dividir el conjunto n en grupos de 5 elementos\n",
        "  grupos = crearGrupos(A)\n",
        "  # guardamos las medianas\n",
        "  medianas = calcularMediana(grupos)\n",
        "  print(medianas)\n",
        "\n",
        "A = [4,2,3,1,5,8,10,6,7,9]\n",
        "PivotSelection(A)\n",
        "\n",
        "\n",
        "\n"
      ],
      "metadata": {
        "colab": {
          "base_uri": "https://localhost:8080/"
        },
        "id": "q0vyRbFuT-wO",
        "outputId": "fd6050e5-dfba-4f85-fe72-77abf8fe22f1"
      },
      "execution_count": 93,
      "outputs": [
        {
          "output_type": "stream",
          "name": "stdout",
          "text": [
            "[3, 8]\n"
          ]
        }
      ]
    },
    {
      "cell_type": "markdown",
      "source": [
        "## **2.2 EJEMPLO**\n",
        "\n",
        "Para poder entender de mejor manera el funcionamiento de este algoritmo, vamos a ver un ejemplo paso a paso:\n",
        "\n",
        "**${↪}$ 𝙴𝚗𝚝𝚛𝚊𝚍𝚊:** $[8,5,1,9,7,10,2,4,3,6]$\n",
        "\n",
        "**${↪}$ 𝚂𝚊𝚕𝚒𝚍𝚊:** $1$\n",
        "\n",
        "Supongamos que estamos buscando el menor elemento, por lo que nuestra $i = 1$.\n",
        "\n",
        "1. Dividimos el arreglo en grupos de 5 elementos, como podemos observar el arreglo tiene 10 elementos, por lo que ningún subarreglo tendrá menos de 5 elementos:\n",
        "\n",
        "> $[8,5,1,9,7]$ $;$ $[10,2,4,3,6]$\n",
        "\n",
        "2. Con la función $Insertion Sort$ ordenamos los grupos:\n",
        "\n",
        "> $[1,5,7,8,9]$ $;$ $[2,3,4,6,10]$\n",
        "\n",
        "3. Debemos obtener la mediana de los grupos, así teniendo:\n",
        "\n",
        "> $[7,4]$\n",
        "\n",
        "4. Aplicamos recursivamente la función $PivotSelection$ para encontrar la mediana $m$ de las medianas obtenidas con anterioridad, las ordenamos y la buscamos:\n",
        "\n",
        "> $[$**4**$,7]$\n",
        "\n",
        "5. Obteniendo como pivote $q = 4$ para particionar la entrada con la función $Partition$:\n",
        "\n",
        "> $[1,2,3,4,8,5,9,7,10,6]$\n",
        "\n",
        "6. Como buscamos el menor $(i < q)$, continuamos con la parte izquierda, así repitiendo el proceso ya que es recursivo, así también ordenando:\n",
        "\n",
        "> $[1,2,3,4]$\n",
        "\n",
        "7. Calculamos nuevamente el pivote $q = 2$, como es menor continuamos con la parte izquierda, teniendo como menor $= 1$ y finalmente retornandolo:\n",
        "\n",
        "> $[1,2]$ ${↦}$ $[1]$"
      ],
      "metadata": {
        "id": "n9SPy8yNKVEE"
      }
    }
  ]
}
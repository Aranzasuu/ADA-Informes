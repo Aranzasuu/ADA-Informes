{
  "nbformat": 4,
  "nbformat_minor": 0,
  "metadata": {
    "colab": {
      "name": "Sub-Arreglo Máximo.ipynb",
      "provenance": [],
      "collapsed_sections": [],
      "authorship_tag": "ABX9TyM3jXIkl7yu7mUgHY6Hdk9m",
      "include_colab_link": true
    },
    "kernelspec": {
      "name": "python3",
      "display_name": "Python 3"
    },
    "language_info": {
      "name": "python"
    }
  },
  "cells": [
    {
      "cell_type": "markdown",
      "metadata": {
        "id": "view-in-github",
        "colab_type": "text"
      },
      "source": [
        "<a href=\"https://colab.research.google.com/github/Aranzasuu/ADA-Informes/blob/main/Sub_Arreglo_M%C3%A1ximo.ipynb\" target=\"_parent\"><img src=\"https://colab.research.google.com/assets/colab-badge.svg\" alt=\"Open In Colab\"/></a>"
      ]
    },
    {
      "cell_type": "markdown",
      "source": [
        "# **1. PROBLEMA DE OPTIMIZACIÓN**\n",
        "\n",
        "El problema del sub-arreglo máximo se categoriza como un problema de optimización y consiste en encontrar el subarray cercano dentro de una matriz unidimensional de números que contiene la suma más grande. El tamaño del problema dependerá del tamaño de la entrada, como en este caso es un arreglo, dependerá de la cantidad de elementos que contenga.\n",
        "\n",
        "![image](https://dsm01pap004files.storage.live.com/y4mhQFzQG0wih3KGAm9HW6lJqQqBnRYxSp_pmI35UrM2fFzsYdplhXX3kVrTfqtwGtxi8z1O5qeZaGQaYWUdeZ4Gq9QD3v2ByYaYsZAf8quuc46RRLZ4oibcZWswmgm4tS58TRGiyHr8w1eifCn3RR8hbwJANkDHusyn_xxKLDN7Jee2tJUMCJW30OtsQi4yw6Mj9BRFdX4ZoIqgzMAcYqeow/arreglo.png?psid=1&width=581&height=148)\n",
        "\n",
        "Algunos puntos a considerar son:\n",
        "\n",
        "- El problema también considera el subarreglo vacío; por convención, la suma de todos los valores del subarreglo vacío es 0.\n",
        "\n",
        "- Si la matriz contiene todos los números no negativos, entonces un subarreglo máximo es el arreglo completo.\n",
        "\n",
        "- Varias submatrices diferentes pueden tener la misma suma máxima.\n",
        "\n",
        "## DATOS:\n",
        "\n",
        "**↪ 𝙴𝚗𝚝𝚛𝚊𝚍𝚊:** Arreglo de números $[a_1 ... a_n]$, que va desde el elemento 1 hasta el n (total de elementos), estos pertenencen al conjunto de los reales. \n",
        "\n",
        "**↪ 𝚂𝚊𝚕𝚒𝚍𝚊:** Sub-arreglo $[a_i ... a_j]$ que contiene los valores que conforman la mayor suma en comparación a cualquier otro sub-arreglo de la matriz original, cabe destacar que los índices i y j $(i < j < n)$ son los índices correspondiente al inicio y final de la matriz original que compone al subarreglo. "
      ],
      "metadata": {
        "id": "CThB2I04t2jW"
      }
    },
    {
      "cell_type": "markdown",
      "source": [
        "# **2. ALGORITMO MÁXIMO SUB-ARREGLO**\n",
        "\n",
        "Este algoritmo se puede implementar como una solución a este problema de optimización, el objetivo es encontrar un arreglo dentro del arreglo original con elementos contiguos, donde la suma de estos elementos sea mayor a cualquier otro subarreglo de elementos contiguos.\n",
        "\n",
        "**↪ 𝙴𝚗𝚝𝚛𝚊𝚍𝚊:** Una lista o arreglo con un total de n elementos (n ∈ ℝ)\n",
        "\n",
        "**↪ 𝚂𝚊𝚕𝚒𝚍𝚊:** Sub-arreglo $[a_i ... a_j]$ que contiene los valores que conforman la mayor suma, la suma correspondiente a los elementos y los índices de estos.\n",
        "\n",
        "Para poder implementar esta solución, utilizaremos el conocido método \"**Divide y vencerás**\", la cual consiste solo en 3 pasos:\n",
        "\n",
        "1. **𝙳𝚒𝚟𝚒𝚍𝚒𝚛** >> A través de la recursividad, dividiremos el arreglo en 2.\n",
        "\n",
        "2. **𝙴𝚗𝚌𝚘𝚗𝚝𝚛𝚊𝚛** >> Buscamos el máximo subarreglo del lado derecho e izquierdo y luego el subarreglo que cruza el punto medio.\n",
        "\n",
        "3. **𝙲𝚘𝚖𝚋𝚒𝚗𝚊𝚛** >> Devuelvemos el subarray máximo entre los 3 subarray encontrados anteriormente.\n",
        "\n",
        "![image](https://dsm01pap004files.storage.live.com/y4mEMSnTX6BxTQfobcrrESqDCLFecsf_x9x2CybBQHIi27ZC8S_8R5HCRBco_AIKUlM0eWb_OVl0v0ZSX-_9SzIwA1TzXr-btMAUK_WxdSOrPgKFVTshRqxxXNWCZk7Y_r-PHiJadQymmZSEEPhQUOrC4tWJXh7WRRQnWMJrZTZb31evcj-ekUDNzHz2EzHGZYq-o70IiX_LKpw7vydEXCv2w/array%20descrp.png?psid=1&width=652&height=172)\n",
        "\n",
        "## **2.1 Explicación maxSubArraySum**\n",
        "\n",
        "Esta función recibe 5 parámetros; el array, el índice incial del arreglo, el índice final, un contador para revisar la cantidad de iteraciones y una flag para el verbose. \n",
        "\n",
        "Esta función es recursiva, donde divide el arreglo en 2 en cada iteración, para buscar el arreglo que maximiza la suma del arreglo original.\n",
        "\n",
        "Cuando se llegue al caso base, es decir cuando el la división deje al arreglo de tamaño 1.\n",
        "\n",
        "Luego, la función retornará el máximo del arreglo izquierdo, derecho y el cruce entre estos dos, es por esto que debe llamar a la función maxCrossingSum para que encuentre el array que maximiza la suma y finalmente retorna los índices del array y la suma."
      ],
      "metadata": {
        "id": "xk0i0FycaAsI"
      }
    },
    {
      "cell_type": "code",
      "source": [
        "# Importación de las librerías\n",
        "import matplotlib.pyplot as plt\n",
        "import math\n",
        "import datetime\n",
        "from timeit import repeat\n",
        "import numpy as np\n",
        "import random\n",
        "from termcolor import colored"
      ],
      "metadata": {
        "id": "siwnO_vB-UeQ"
      },
      "execution_count": 398,
      "outputs": []
    },
    {
      "cell_type": "code",
      "source": [
        "def maxSubArraySum(array, izq, der, verbose=False):\n",
        "    #Mejor caso.\n",
        "    if (izq == der-1):\n",
        "        return izq, der, array[izq]\n",
        "\n",
        "    #Buscar punto medio.\n",
        "    m = (izq + der) // 2\n",
        "\n",
        "    if verbose:\n",
        "      print(\"------------------------------------------------------------------\")\n",
        "      i_cruce, f_cruce, max_cruce = maxsubarraymid(array, izq, m, der, verbose)\n",
        "\n",
        "    i_izq, f_izq, max_izq = maxSubArraySum(array,izq,m,verbose)\n",
        "    i_der, f_der, max_Der = maxSubArraySum(array,m,der,verbose)\n",
        "    i_cruce, f_cruce, max_cruce = maxsubarraymid(array,izq,m,der,verbose)\n",
        "\n",
        "    if(max_izq > max_Der and max_izq > max_cruce):\n",
        "      return i_izq, f_izq, max_izq\n",
        "\n",
        "    elif(max_Der > max_izq and max_Der > max_cruce):\n",
        "        return i_der, f_der, max_Der\n",
        "\n",
        "    else: return i_cruce, f_cruce, max_cruce"
      ],
      "metadata": {
        "id": "83Q4m1FHUYBY"
      },
      "execution_count": 399,
      "outputs": []
    },
    {
      "cell_type": "markdown",
      "source": [
        "## **2.2 Explicación maxCrossingSum**\n",
        "\n",
        "La función recibe 5 parámetros; el array, el índice incial (l), el índice de la mitad del arreglo (m), el índice final (h) y la flag del verbose.\n",
        "\n",
        "1. Busca el arreglo con la suma máxima del lado izquierdo que va desde índice incial hasta la mitad del arreglo original. \n",
        "\n",
        "2. Luego, buscar el arreglo con la suma máxima del lado derecho que va desde el índice de la mitad hasta el índice final del arreglo original.\n",
        "\n",
        "En ambas partes, va recorriendo cada mitad y va sumando cada elemento a la variable *sm*. Para luego retornar el valor de la suma y los índices del subarreglo."
      ],
      "metadata": {
        "id": "C6MWhavmVJ8Z"
      }
    },
    {
      "cell_type": "code",
      "source": [
        "def maxsubarraymid(arr, l, m, h, verbose=False):\n",
        "    \n",
        "    #Elementos de izquierda al medio.\n",
        "    sm = 0\n",
        "    left_sum = float(\"-inf\")\n",
        "    cross_star = m\n",
        "\n",
        "    for i in range(m-1, l-1, -1):\n",
        "        sm += arr[i]\n",
        "        if (sm > left_sum):\n",
        "            left_sum = sm\n",
        "            cross_star = i\n",
        "            if verbose:\n",
        "              print(\"Sub-arreglo izq >>\", colored(f\"{str(arr[cross_star:m])[1:-1]}\",\"blue\"))\n",
        "              print(\"suma izq >>\",left_sum,\"\\n\")\n",
        "\n",
        "    #Elementos del medio a la derecha.\n",
        "    sm = 0\n",
        "    right_sum = float(\"-inf\")\n",
        "    cross_end = m + 1\n",
        "    if verbose:\n",
        "      print()\n",
        "    for i in range(m, h):\n",
        "        sm += arr[i]\n",
        "        if (sm > right_sum):\n",
        "            right_sum = sm\n",
        "            cross_end = i + 1\n",
        "            if verbose:\n",
        "              print(\"Sub-arreglo der >>\",colored(f\"{str(arr[m:cross_end])[1:-1]}\",\"red\"))\n",
        "              print(\"suma der >>\",right_sum,\"\\n\")\n",
        "\n",
        "    #Retorna index de inicio, index final y la suma de los valores del maximo sub-arreglo.\n",
        "    return cross_star,cross_end,right_sum+left_sum"
      ],
      "metadata": {
        "id": "XgTJ1dFoJeq6"
      },
      "execution_count": 403,
      "outputs": []
    },
    {
      "cell_type": "code",
      "source": [
        "#Ejemplo\n",
        "arr = random.sample(range(-100,100), 10)\n",
        "n = len(arr)\n",
        "start,end,max_sum = maxSubArraySum(arr, 0, n-1)\n",
        "\n",
        "print(\"Array Entrada >>\", arr)\n",
        "print(\"Array Salida >>\", arr[start:end])\n",
        "print(\"Índice inicial >>\",start)\n",
        "print(\"Índice final >>\",end-1)\n",
        "print(\"Suma >>\",max_sum)"
      ],
      "metadata": {
        "colab": {
          "base_uri": "https://localhost:8080/"
        },
        "id": "HxDYvSsaVVn3",
        "outputId": "67f32455-bbac-4e44-ca0e-57309d4a044a"
      },
      "execution_count": 404,
      "outputs": [
        {
          "output_type": "stream",
          "name": "stdout",
          "text": [
            "Array Entrada >> [79, -74, 80, 30, -83, 35, 15, -100, -98, 27]\n",
            "Array Salida >> [79, -74, 80, 30]\n",
            "Índice inicial >> 0\n",
            "Índice final >> 3\n",
            "Suma >> 115\n"
          ]
        }
      ]
    },
    {
      "cell_type": "markdown",
      "source": [
        "# **2.3 EJEMPLO**\n",
        "\n",
        "Para poder entender de una mejor manera este algoritmo, veremos un ejemplo y su procedimiento en cada iteración de la recursividad.\n",
        "\n",
        "Entrada: $[-1, 3, 4, -5, 9,-2]$ \n",
        "\n",
        "Salida: Índice incial: 1,  índice final: 4, suma: 11.\n",
        "\n",
        "![image](https://dsm01pap004files.storage.live.com/y4m13OQTfn-_DRAN1KuJY4P-qhacCszVapxI6URQTUYJmlgbUq7u371q-xjHrQy5fv2JMluHFl46mKk-DOzzhukSYoFzIH9Y6U8GbMIP4PSIbhAPuiuTdlZsEF8GCvB4by_7_WMEHkNkphtCKLpHNNKMoRtsAlb7ySKAKjAaCFGwWHloul1X2Qdaal5EIB8NnMPBRaF1j8JHKHK9kqLCAbgPg/arbol.png?psid=1&width=505&height=568)\n",
        "-------\n",
        "------\n",
        "1. Lo primero es llamar a la función *maxSubArraySum*, traspansandole el array y los índices 0 y 5, como tiene más de un elemento, se calcula la mitad y se divide, teniendo así $A_i = [-1, 3, 4]$, este procedimiento se realiza hasta llegar al caso base (array de un elemento) y luego lo retorna.\n",
        "\n",
        "2. Luego, cuando ya tengamos nuestros arreglos de tamaño 1, llamamos a la función *maxCrossingSum* para ir sumando los elementos y encontrar el array del lado derecho, izquierdo y el cruce entre ambos que contenga la suma máxima.\n",
        "\n",
        "3. Finalmente cuando termina todo el proceso, el algoritmo retorna los índices incial y final del subarreglo y el valor de la suma.\n",
        "\n",
        "## **2.4 Algoritmo Paso a Paso (Ejemplo)**"
      ],
      "metadata": {
        "id": "beMx3RfycPIY"
      }
    },
    {
      "cell_type": "code",
      "source": [
        "arr = [-1, 3, 4, -5, 9,-2]\n",
        "n = len(arr)\n",
        "print(\"Arreglo incial >>\", arr,\"\\n\")\n",
        "start,end,max_sum = maxSubArraySum(arr, 0, n, verbose=True)\n",
        "\n",
        "print(\"------------------------------------------------------------------\")\n",
        "print(\"Sub-arreglo máximo >>\", arr[start:end])\n",
        "print(\"indice incial >>\", start)\n",
        "print(\"indice final >>\", end)\n",
        "print(\"Suma final >>\", max_sum)"
      ],
      "metadata": {
        "colab": {
          "base_uri": "https://localhost:8080/"
        },
        "id": "fmNQ2L8umXT8",
        "outputId": "bb2717a0-0552-4234-95c3-9ed5b3018002"
      },
      "execution_count": 405,
      "outputs": [
        {
          "output_type": "stream",
          "name": "stdout",
          "text": [
            "Arreglo incial >> [-1, 3, 4, -5, 9, -2] \n",
            "\n",
            "------------------------------------------------------------------\n",
            "Sub-arreglo izq >> \u001b[34m4\u001b[0m\n",
            "suma izq >> 4 \n",
            "\n",
            "Sub-arreglo izq >> \u001b[34m3, 4\u001b[0m\n",
            "suma izq >> 7 \n",
            "\n",
            "\n",
            "Sub-arreglo der >> \u001b[31m-5\u001b[0m\n",
            "suma der >> -5 \n",
            "\n",
            "Sub-arreglo der >> \u001b[31m-5, 9\u001b[0m\n",
            "suma der >> 4 \n",
            "\n",
            "------------------------------------------------------------------\n",
            "Sub-arreglo izq >> \u001b[34m-1\u001b[0m\n",
            "suma izq >> -1 \n",
            "\n",
            "\n",
            "Sub-arreglo der >> \u001b[31m3\u001b[0m\n",
            "suma der >> 3 \n",
            "\n",
            "Sub-arreglo der >> \u001b[31m3, 4\u001b[0m\n",
            "suma der >> 7 \n",
            "\n",
            "------------------------------------------------------------------\n",
            "Sub-arreglo izq >> \u001b[34m3\u001b[0m\n",
            "suma izq >> 3 \n",
            "\n",
            "\n",
            "Sub-arreglo der >> \u001b[31m4\u001b[0m\n",
            "suma der >> 4 \n",
            "\n",
            "Sub-arreglo izq >> \u001b[34m3\u001b[0m\n",
            "suma izq >> 3 \n",
            "\n",
            "\n",
            "Sub-arreglo der >> \u001b[31m4\u001b[0m\n",
            "suma der >> 4 \n",
            "\n",
            "Sub-arreglo izq >> \u001b[34m-1\u001b[0m\n",
            "suma izq >> -1 \n",
            "\n",
            "\n",
            "Sub-arreglo der >> \u001b[31m3\u001b[0m\n",
            "suma der >> 3 \n",
            "\n",
            "Sub-arreglo der >> \u001b[31m3, 4\u001b[0m\n",
            "suma der >> 7 \n",
            "\n",
            "------------------------------------------------------------------\n",
            "Sub-arreglo izq >> \u001b[34m-5\u001b[0m\n",
            "suma izq >> -5 \n",
            "\n",
            "\n",
            "Sub-arreglo der >> \u001b[31m9\u001b[0m\n",
            "suma der >> 9 \n",
            "\n",
            "------------------------------------------------------------------\n",
            "Sub-arreglo izq >> \u001b[34m9\u001b[0m\n",
            "suma izq >> 9 \n",
            "\n",
            "\n",
            "Sub-arreglo der >> \u001b[31m-2\u001b[0m\n",
            "suma der >> -2 \n",
            "\n",
            "Sub-arreglo izq >> \u001b[34m9\u001b[0m\n",
            "suma izq >> 9 \n",
            "\n",
            "\n",
            "Sub-arreglo der >> \u001b[31m-2\u001b[0m\n",
            "suma der >> -2 \n",
            "\n",
            "Sub-arreglo izq >> \u001b[34m-5\u001b[0m\n",
            "suma izq >> -5 \n",
            "\n",
            "\n",
            "Sub-arreglo der >> \u001b[31m9\u001b[0m\n",
            "suma der >> 9 \n",
            "\n",
            "Sub-arreglo izq >> \u001b[34m4\u001b[0m\n",
            "suma izq >> 4 \n",
            "\n",
            "Sub-arreglo izq >> \u001b[34m3, 4\u001b[0m\n",
            "suma izq >> 7 \n",
            "\n",
            "\n",
            "Sub-arreglo der >> \u001b[31m-5\u001b[0m\n",
            "suma der >> -5 \n",
            "\n",
            "Sub-arreglo der >> \u001b[31m-5, 9\u001b[0m\n",
            "suma der >> 4 \n",
            "\n",
            "------------------------------------------------------------------\n",
            "Sub-arreglo máximo >> [3, 4, -5, 9]\n",
            "indice incial >> 1\n",
            "indice final >> 5\n",
            "Suma final >> 11\n"
          ]
        }
      ]
    },
    {
      "cell_type": "markdown",
      "source": [
        "# **3. CORRECTITUD**\n",
        "\n",
        "## **3.1 CORRECTITUD MaxSubArraySum**\n",
        "La función *MaxSubArraySum* recibe el arreglo de n elementos, con el objetivo de encontrar el subarreglo máximo, retornando los índices $i$ y $j$ tal que  y la suma máxima.\n",
        "\n",
        "## Prueba del Teorema\n",
        "Para poder probar el teorema, utilizaremos la **inducción matemática**, ya que el algoritmo contiene recursividad.\n",
        "\n",
        "Para probar una declaración $P(n)$ en inducción matemática, debemos:\n",
        "\n",
        "1. Probar $P(n)$ para un caso base, por ejemplo P(1)\n",
        "2. Probar que si $P(m)$ es cierto $m < n$, entonces $P(n)$ también lo es.\n",
        "\n",
        "> **Caso Base:** En este caso, el arreglo contiene sólo un elemento, como es el único retornandolo inmediatamente, por lo que podemos deducir que corresponde a la máxima suma que se puede generar.\n",
        ">\n",
        "> **Caso Promedio:** En el caso promedio, la función iterativamente divide el arreglo en 2, teniendo así $a = n/2$ y $b = n/2$. Cómo la función  es recursiva, llegará al caso base, retornando sólo un elemento. Como el algoritmo encuentra la suma máxima y cada arreglo tiene tamaño n/2, se asume que el paso inductivo es correcto ya que $1 < a < b < n$.\n",
        "\n",
        "Cómo el caso base y el caso promedio son correctos y la función retorna un subarreglo que maximiza la suma, el teorema de correctitud es correcto.\n",
        "\n",
        "## **3.2 CORRECTITUD maxsubarraymid**\n",
        "\n",
        "Ya que la función *maxsubarraymid* itera de distinta forma según el caso, para probar el teorema utilizaremos la **propiedad invariante**.\n",
        "\n",
        "> **Inicialización:** Al comienzo de la iteración, las variables de suma para la mitad izquierda y derecha comienzan con el valor de $- ∞$ asegurandonos que antes de revisar los elementos la suma de estos será mayor, así asumiendo que el subarreglo contiene la máxima suma.\n",
        ">\n",
        "> **Mantención:** Durante la iteración, sólo en caso que la suma de los elementos sea mayor a nuestra variable fija (right_sum o left_sum) se irán actualizando, es por esto que en todo momento estará guardada la suma máxima. Retornando la máxima suma entre los 3 casos, la del subarreglo derecho, izquierdo o el cruce en el punto medio.\n",
        "\n"
      ],
      "metadata": {
        "id": "aFFbYvNt33EG"
      }
    },
    {
      "cell_type": "markdown",
      "source": [
        "# **4. TIEMPO DE EJECUCIÓN**\n",
        "\n",
        "#Teorema (tiempo de ejecución)\n",
        "\n",
        "El algoritmo **divide y vencerás** para el problema del sub-arreglo máximo consiste en dividir el arreglo por la mitad por el índice del medio, realizando llamadas recursivas en cada uno de los dos sub-arreglos para encontrar el sub-arreglo máximo en la mitad izquierda y mitad derecha, con esa premisa podemos determinar que: \n",
        "\n",
        "***T(n)=*** \\begin{cases}\n",
        "  O(1)  & n \\text{ es 1} \\\\\n",
        "  2 T(n/2) + O(n) & n \\text{ es más de 1 elemento}\n",
        "\\end{cases}\n",
        "\n",
        "Usando el teorema maestro visto en clases, se puede identificar que corresponde al caso número 1 donde a=b^d, por ende, podemos determinar que el tiempo de complejidad es = **O(n * log(n))**"
      ],
      "metadata": {
        "id": "HL3_aE7N4Z9O"
      }
    },
    {
      "cell_type": "markdown",
      "source": [
        "# **5. EXPERIMENTOS**\n",
        "\n",
        "En esta sección, compararemos a través de gráficos distintos aspectos entre el algoritmo Sub-Arreglo Máximo (forma divide y vencerás) v/s el algoritmo Kadane.\n",
        "\n",
        "# **5.1 Algoritmo Kadane**"
      ],
      "metadata": {
        "id": "463-JCGI4cm6"
      }
    },
    {
      "cell_type": "code",
      "source": [
        "def maxSubArraySumKAD(a,size):\n",
        "      \n",
        "    max_so_far = a[0]\n",
        "    max_ending_here = 0\n",
        "      \n",
        "    for i in range(0, size):\n",
        "        max_ending_here = max_ending_here + a[i]\n",
        "        if max_ending_here < 0:\n",
        "            max_ending_here = 0\n",
        "          \n",
        "        # Do not compare for all elements. Compare only   \n",
        "        # when  max_ending_here > 0\n",
        "        elif (max_so_far < max_ending_here):\n",
        "            max_so_far = max_ending_here\n",
        "              \n",
        "    return max_so_far"
      ],
      "metadata": {
        "id": "jIGDQnXoX08Z"
      },
      "execution_count": 388,
      "outputs": []
    },
    {
      "cell_type": "markdown",
      "source": [
        "## **5.2 Gráfica Tiempo de Ejecución**"
      ],
      "metadata": {
        "id": "w1cGSn6WhEzp"
      }
    },
    {
      "cell_type": "code",
      "source": [
        "w=[]; r=[]; y=[]\n",
        "\n",
        "for j in range(5,500):\n",
        "\n",
        "  e = random.sample(range(1, 1000), j)\n",
        "\n",
        "  l = repeat(setup=\"from __main__ import maxSubArraySum\", stmt=f\"maxSubArraySum({e},{0},{j})\", repeat=1, number=10)\n",
        "  u = repeat(setup=\"from __main__ import maxSubArraySumKAD\", stmt=f\"maxSubArraySumKAD({e},{j})\", repeat=1, number=10)\n",
        "\n",
        "  w.append(j)\n",
        "  r.append(l)\n",
        "  y.append(u)\n",
        "\n",
        "\n",
        "plt.plot(w,r)\n",
        "plt.plot(w,y)\n",
        "plt.legend([\"DivideyVenceras\",\"Kadane\"])\n",
        "\n",
        "plt.xlabel('n')\n",
        "plt.ylabel('time in ms')\n",
        "plt.title('Tiempo Ejecución MaxArray v/s Kadane')\n",
        "plt.show()"
      ],
      "metadata": {
        "colab": {
          "base_uri": "https://localhost:8080/",
          "height": 295
        },
        "id": "cmVwYF_DdYRB",
        "outputId": "61396924-4454-43de-f301-88e6b0243fa6"
      },
      "execution_count": 391,
      "outputs": [
        {
          "output_type": "display_data",
          "data": {
            "text/plain": [
              "<Figure size 432x288 with 1 Axes>"
            ],
            "image/png": "[encoded data removed]"
          },
          "metadata": {
            "needs_background": "light"
          }
        }
      ]
    },
    {
      "cell_type": "markdown",
      "source": [
        "## **5.3 Análisis y Resultados**\n",
        "\n",
        "Si observamos detenidamente el gráfico presentado anteriormente, podemos apreciar una gran diferencia entre el tiempo de ejecución del algoritmo Sub-Arreglo máximo en comparación al algoritmo Kadane. Otro punto a concluir es que el algoritmo Kadane tiene un comportamiento casi lineal, mientral que el Maximo Arreglo tiene una complejidad de O(n * log(n)).\n",
        "\n",
        "Como conclusión final, podemos decir que el algoritmo Kadane es el más óptimo para solucionar este tipo de problemas de optimización."
      ],
      "metadata": {
        "id": "O5HOq2TfheLJ"
      }
    }
  ]
}
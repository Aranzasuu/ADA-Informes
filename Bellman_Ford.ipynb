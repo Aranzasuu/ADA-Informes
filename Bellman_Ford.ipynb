{
  "nbformat": 4,
  "nbformat_minor": 0,
  "metadata": {
    "colab": {
      "provenance": [],
      "collapsed_sections": [],
      "authorship_tag": "ABX9TyPRzFI2ot9iyh2pLlJbKhOp",
      "include_colab_link": true
    },
    "kernelspec": {
      "name": "python3",
      "display_name": "Python 3"
    },
    "language_info": {
      "name": "python"
    }
  },
  "cells": [
    {
      "cell_type": "markdown",
      "metadata": {
        "id": "view-in-github",
        "colab_type": "text"
      },
      "source": [
        "<a href=\"https://colab.research.google.com/github/Aranzasuu/ADA-Informes/blob/main/Bellman_Ford.ipynb\" target=\"_parent\"><img src=\"https://colab.research.google.com/assets/colab-badge.svg\" alt=\"Open In Colab\"/></a>"
      ]
    },
    {
      "cell_type": "markdown",
      "source": [
        "# **1. PROBLEMA DE OPTIMIZACIÓN**\n",
        "\n",
        "El problema consiste en encontrar una solución utilizando un grafo dirigido o no dirigido y ponderado con pesos, calcular un subgrafo conexo T ⊆ G conecte todos los vértices del grafo G y que la **suma** de los pesos de las aristas seleccionadas sea **mínima**.\n",
        "\n",
        "Este problema no necesariamente tiene una única solución.​ Además, tiene diversas aplicaciones. Un ejemplo es encontrar el camino más rápido para ir de una ciudad a otra en un mapa. En este caso, los vértices representarían las ciudades y las aristas las carreteras que las unen, cuya ponderación viene dada por el tiempo que se emplea en atravesarlas.\n",
        "\n",
        "> **↪ ENTRADA:** Un grafo G = (V, A) y sus vértices $v$ ∈ V asigandos con un valor real que corresponde a los pesos de éstos.\n",
        ">\n",
        "> **↪ SALIDA:** Retorna la distancia más corta entre 2 nodos de manera que la suma de los costes de estos nodos que lo constituyen es mínima.\n",
        "\n",
        "Formalmente, dado un grafo ponderado (que es un conjunto $V$ de vértices, un conjunto $E$ de aristas y una función de variable real ponderada $f : E → R$ ) y un elemento $v ∈ V$ encuentra un camino $P$ de $v$ a $v' ∈ V$, tal que:\n",
        "\n",
        "$$\\sum_{p ∈ P} f(p)$$\n",
        "\n",
        "es el mínimo entre todos los caminos que conectan $v$ y $v'$.\n",
        "\n",
        "Los algoritmos más importantes para resolver este problema son:\n",
        "\n",
        "- Algoritmo de Dijkstra: Resuelve el problema de los caminos más cortos desde un único vértice origen hasta todos los otros vértices del grafo.\n",
        "\n",
        "- **Algoritmo de Bellman-Ford**: Resuelve el problema de los caminos más cortos desde un origen, la particularidad de éste es que acepta ponderaciones negativas.\n",
        "\n",
        "- Algoritmo de Búsqueda A*: Resuelve el problema de los caminos más cortos entre un par de vértices usando la heurística para intentar agilizar la búsqueda.\n",
        "\n",
        "- Algoritmo Floyd-Warshall: Resulve el problema entre todos los vértices del grafo.\n",
        "\n",
        "- Algoritmo de Johnson: Resuelve el problema entre todos los vértices y es mejor que Floyd-warshall para grafos de baja densidad.\n",
        "\n",
        "- Teorá pertubacional: Encuentra el peor de los casos del camino más corto a nivel local.\n",
        "\n",
        "**APLICACIONES**\n",
        "\n",
        "Estos algoritmos se aplican para encontrar direcciones de forma automática entre localizaciones físicas, tales como direcciones en mapas.\n",
        "\n",
        "Donde los vértices describen estados, y las aristas posibles transiciones, así usandolos para encontrar una secuencia óptima de opciones para llegar a un estado dado. Por ejemplo, los estados de un puzzle como el cubo rubik.\n"
      ],
      "metadata": {
        "id": "cfrAqiBesrUH"
      }
    },
    {
      "cell_type": "markdown",
      "source": [
        "# **2. ALGORITMO BELLMAN-FORD**\n",
        "\n",
        "Este algoritmo se utiliza para encontrar la distancia más corta desde el vértice único a todos los demás vértices de un grafo ponderado. La diferencia de este algoritmo con los demás es que los pesos pueden tener valores negativos ya que permite detectar la existencia de un ciclo negativo.\n",
        "\n",
        "La programación dinámica se utiliza en este algoritmo. Comienza con un vértice inicial y calcula las distancias entre otros vértices que puede alcanzar una sola arista. \n",
        "\n",
        "> **↪ ENTRADA:** Un grafo G = (V, A) y sus vértices $v$ ∈ V asigandos con un valor real que corresponde a los pesos de estos. Cabe destacar que los pesos pueden ser positivos y negativos.\n",
        ">\n",
        "> **↪ SALIDA:** Retorna la distancia más corta entre el nodo raíz y cualquier otro nodo del grafo.\n",
        "\n",
        "**¿Por qué debemos tener cuidado con los pesos negativos?**\n",
        "\n",
        "Los bordes de peso negativo pueden crear ciclos de peso negativos, es decir, un ciclo que reducirá la distancia total de la trayectoria al volver al mismo punto. \n",
        "\n",
        "**¿Cómo trabaja?**\n",
        "\n",
        "El algoritmo parte de un vértice origen que será ingresado, a diferencia de Dijkstra que utiliza una técnica voraz para seleccionar vértices de menor peso y actualizar sus distancias mediante el paso de relajación, Bellman-Ford simplemente relaja todas las aristas y los hace $|V| - 1$ veces.\n",
        "\n",
        "Para la detección de ciclos negativos realizamos el paso de relajación una vez más y si se obtuvieron mejores resultados es porque existe un ciclo negativo, para verificar porque tenemos un ciclo podemos seguir relajando las veces que queramos y seguiremos obteniendo mejores resultados.\n",
        "\n",
        "La **relajación** es el paso más importante en este algoritmo. Ya que es lo que aumenta la presición de la distancia a cualquier vértice dado. Este funciona cortando continuamente la distancia calculada entre vértices comparando esa distancia con otras distancias conocidas.\n",
        "\n",
        "**Pasos para encontrar la distancia más corta**\n",
        "\n",
        "- Inicializamos el valor de distancaia infinito para cualquier otro vértice y establecer el valor de distancia 0 en el propio nodo de origen.\n",
        "\n",
        "- Debemos visitar cada borde y relajar el camino, en el caso de que este no sea preciso. Para relajar el trazado para vértices y para aristas $u,v$:\n",
        "\n",
        "> Si, $(d(u) + c(u,v) < d(v))$\n",
        ">\n",
        "> $d(v) = d(u) + c(u,v)$\n",
        ">\n",
        "> Esto significa que si la suma del valor de distancia del nodo de origen y el costo de moverse desde el origen al destino es menor que la distancia del vértice de origen. Luego, el valor de distancia del vértice de destino desde el vértice de origen será igual al valor de distancia del origen y el costo de llegar al destino desde el origen.\n",
        "\n",
        "- Si el nuevo valor de distancia es menor que el anterior, debemos actualizar el valor de distancia en cada iteración para las aristas. El valor de distancia a cada nodo es la distancia total desde el vértice inicial hasta ese vértice en particular.\n",
        "\n",
        "- Repetir los pasos anteriores en múltiples iteraciones, para asegurarse de que el resultado obtenido está optimizado.\n",
        "\n",
        "**Subestructura óptima**\n",
        "\n",
        "Tenemos dos situaciones si queremos encontrar el camino más óptimo, teniendo en cuenta $k$ arcos:\n",
        "\n",
        "1. El camino más corto tiene $k-1$ arcos o menos, por lo que basta com encontrar el camino dentro de este rango.\n",
        "\n",
        "2. El camino posee $k$ arcos, por lo que se realiza la subdivisión de los subproblemas.\n",
        "\n",
        "> Función de recurrencia:\n",
        "![image](https://i.imgur.com/lr2G2I1.png)"
      ],
      "metadata": {
        "id": "kcMCv5NTdIkK"
      }
    },
    {
      "cell_type": "markdown",
      "source": [
        "## **2.1 PSEUDOCÓDIGO**\n",
        "\n",
        "```\n",
        "Bellman-Ford (G,s)\n",
        "\n",
        "Inicializar\n",
        "    for cada v perteneciente a V[G]\n",
        "        do d[v] = infinito\n",
        "            p[v] = nulo\n",
        "    p[s] = 0\n",
        "\n",
        "for i=1 to V[G]-1 \n",
        "    do for cada arco (u,v) perteneciente a A[G]\n",
        "        Relajación(u,v,w)\n",
        "        if d[v] > d[u] + w(u,v) then \n",
        "            d[v] = d[u] + w(u,v)\n",
        "            p(v) = u\n",
        "\n",
        "for cada arco (u,v) chequea lazo de peso negativo\n",
        "    do if d[v] > d[u] + w(u,v) then\n",
        "        return FALSO 'el algoritmo no converge\n",
        "return VERDADERO\n",
        "```\n",
        "\n",
        "↪ El algoritmo devuelve un valor booleano si encuentra un circuito o lazo de peso negativo. En caso contrario, calcula y devuele el camino mínimo con su coste. Para cada vértice $v$ perteneciente a $V$, se mantiene el atributo $d[v]$ como cota superior o coste del camino mínimo desde el origen $s$ al vértice $v$."
      ],
      "metadata": {
        "id": "XpYU6QibGIIm"
      }
    },
    {
      "cell_type": "code",
      "source": [
        "# Importación de las librerías\n",
        "import matplotlib.pyplot as plt\n",
        "import math\n",
        "import datetime\n",
        "import seaborn as sns\n",
        "from timeit import repeat\n",
        "import numpy as np\n",
        "import random\n",
        "from termcolor import colored\n",
        "from sys import maxsize"
      ],
      "metadata": {
        "id": "ehmHc6fMpOpy"
      },
      "execution_count": 14,
      "outputs": []
    },
    {
      "cell_type": "code",
      "source": [
        "def is_valid_edge(generated_edges: dict, i: int, j: int):\n",
        "    return i != j and not generated_edges.get((i, j), None) and not generated_edges.get((j, i), None)\n",
        "\n",
        "def instance_generator(n: int):\n",
        "    \"\"\"\n",
        "        Input: cantidad de vértices\n",
        "        Output: una lista que contiene todos los arcos y el número del vértice fuente (la función retorna dos variables).\n",
        "        Los arcos vienen en la forma (i, j, weight), donde i es el vértice origen del arco y j el vértice al que apunta el arco, mientras que weight es su peso.\n",
        "    \"\"\"\n",
        "    graph = []\n",
        "    nodes = random.sample(range(0, n), n)\n",
        "    unvisited_nodes = random.sample(range(0, n), n)\n",
        "    \n",
        "    generated_edges = {}\n",
        "    for i in nodes:\n",
        "        rand = random.sample(nodes, random.randint(1, 3))\n",
        "\n",
        "        for j in rand:\n",
        "            edge = (i, j)\n",
        "            edge_with_weight = (i, j, random.randint(1, 100))\n",
        "            \n",
        "            if generated_edges.get((edge[1], edge[0]), None):\n",
        "                continue\n",
        "            \n",
        "            if i == j:\n",
        "                new_vertice = None\n",
        "                iterations = 0\n",
        "                while new_vertice is None and iterations < 250:\n",
        "                    iterations += 1\n",
        "                    number = random.randint(0, n - 1)\n",
        "                    if is_valid_edge(generated_edges, i, number):\n",
        "                        new_vertice = number\n",
        "\n",
        "                if iterations >= 250:\n",
        "                    return instance_generator(n)\n",
        "                \n",
        "                edge = (i, new_vertice)\n",
        "                edge_with_weight = (i, new_vertice, random.randint(-25, 100)) # -25 y 100 corresponde a los límites de los pesos, puede cambiarlos.\n",
        "            \n",
        "            graph.append(edge_with_weight)\n",
        "            generated_edges[edge] = edge\n",
        "\n",
        "            if edge_with_weight[1] in unvisited_nodes:\n",
        "                unvisited_nodes.remove(edge_with_weight[1])\n",
        "\n",
        "    for i in unvisited_nodes:\n",
        "        valid_edge = False\n",
        "        iterations = 0\n",
        "        while not valid_edge and iterations < 250:\n",
        "            iterations += 1\n",
        "            m = random.randint(0, n - 1)\n",
        "            if is_valid_edge(generated_edges, m, i):\n",
        "                valid_edge = True\n",
        "                edge = (m, i)\n",
        "                edge_with_weight = (m, i, random.randint(-25, 100)) # -25 y 100 corresponde a los límites de los pesos, puede cambiarlos.\n",
        "                graph.append(edge_with_weight)\n",
        "                generated_edges[edge] = edge\n",
        "\n",
        "        if iterations >= 250:\n",
        "            return instance_generator(n)\n",
        "\n",
        "    return graph, graph[0][0]"
      ],
      "metadata": {
        "id": "9qym6Wqisa2h"
      },
      "execution_count": 12,
      "outputs": []
    },
    {
      "cell_type": "code",
      "source": [
        "import networkx as nx\n",
        "\n",
        "def create_graph(edges):\n",
        "  graph = nx.DiGraph()\n",
        "  graph.add_weighted_edges_from(edges)\n",
        "  \n",
        "  return graph"
      ],
      "metadata": {
        "id": "tIfm8zoHruUC"
      },
      "execution_count": 9,
      "outputs": []
    },
    {
      "cell_type": "code",
      "source": [
        "def graph_to_nxdigraph(graph: list, n: int):\n",
        "    \"\"\"\n",
        "        Input: Un grafo en formato list[tuple].\n",
        "        Ej: [(0, 1, 10), (1, 2, 15), (2, 0, 7)].\n",
        "        Output: Un nx.DiGraph de la libreria networkx.\n",
        "    \"\"\"\n",
        "    nxdigraph = nx.DiGraph()\n",
        "    [nxdigraph.add_node(i) for i in range(n)]\n",
        "\n",
        "    for v in graph:\n",
        "        nxdigraph.add_edge(v[0], v[1], weight=v[2])\n",
        "\n",
        "    return nxdigraph"
      ],
      "metadata": {
        "id": "S_uW50_8xBdd"
      },
      "execution_count": 18,
      "outputs": []
    },
    {
      "cell_type": "code",
      "source": [
        "def visualize_graph(lista_grafo, n):\n",
        "    \"\"\"\n",
        "        Input: Un grafo en formato list[tuple].\n",
        "        Ej: [(x1, y1, peso1), (x2, y2, peso2), ...].\n",
        "        Output: No retorna nada. Imprime el grafo.\n",
        "    \"\"\"\n",
        "    grafoNX = graph_to_nxdigraph(lista_grafo, n)\n",
        "    pos = nx.circular_layout(grafoNX)\n",
        "    labels = nx.get_edge_attributes(grafoNX, 'weight')\n",
        "\n",
        "    nx.draw_networkx(grafoNX, pos)\n",
        "    nx.draw_networkx_edge_labels(grafoNX, pos, edge_labels=labels)\n",
        "    plt.show()"
      ],
      "metadata": {
        "id": "GnVm3qSJw4BM"
      },
      "execution_count": 19,
      "outputs": []
    },
    {
      "cell_type": "markdown",
      "source": [
        "## **2.2 ALGORITMO BELLMAN FORD**"
      ],
      "metadata": {
        "id": "Fd78uLmWl5Lh"
      }
    },
    {
      "cell_type": "code",
      "source": [
        "def BellmanFord(graph, V, E, src):\n",
        " \n",
        "    # Inicializamos la distancia de todos los vertices con infinito.\n",
        "    dis = [maxsize] * V\n",
        " \n",
        "    # Inicializamos las distancia del origen con 0\n",
        "    dis[src] = 0\n",
        "\n",
        "    # Relajamos todos los vértices |V| - 1 veces.\n",
        "    # Un camino corto simple desde src a otro vértice\n",
        "    # puede tener como máximo |V| - 1 aristas.\n",
        "    for i in range(V - 1):\n",
        "        for j in range(E):\n",
        "            if dis[graph[j][0]] + graph[j][2] < dis[graph[j][1]]:\n",
        "                dis[graph[j][1]] = dis[graph[j][0]] + graph[j][2]\n",
        "\n",
        "    # Comprobar si hay ciclos de peso negativo. \n",
        "    # El paso anterior garantiza las distancias más cortas \n",
        "    # si el gráfico no contiene un ciclo de peso negativo. \n",
        "    # Si obtenemos un camino más corto, entonces hay un ciclo.\n",
        "\n",
        "    for i in range(E):\n",
        "        x = graph[i][0]\n",
        "        y = graph[i][1]\n",
        "        weight = graph[i][2]\n",
        "        if dis[x] != maxsize and dis[x] + weight < dis[y]:\n",
        "            print(\"Graph contains negative weight cycle\")\n",
        " \n",
        "    print(\"Vertex Distance from Source\")\n",
        "    for i in range(V):\n",
        "        print(\"%d\\t\\t%d\" % (i, dis[i]))\n",
        " \n",
        "V = 5 # Number of vertices in graph\n",
        "E = 8 # Number of edges in graph\n",
        " \n",
        "# Every edge has three values (u, v, w) where\n",
        "# the edge is from vertex u to v. And weight\n",
        "# of the edge is w.\n",
        "graph = [[0, 1, -1], [0, 2, 4], [1, 2, 3],\n",
        "         [1, 3, 2], [1, 4, 2], [3, 2, 5],\n",
        "         [3, 1, 1], [4, 3, -3]]\n",
        "\n",
        "BellmanFord(graph, V, E, 0)\n",
        "print(\"\\n\\nVISUALIZACIÓN GRAFO\")\n",
        "visualize_graph(graph, E)"
      ],
      "metadata": {
        "colab": {
          "base_uri": "https://localhost:8080/",
          "height": 404
        },
        "id": "FW2kzNc0jnt8",
        "outputId": "ae0b8f0f-7f61-474a-cb60-589eb1d4818c"
      },
      "execution_count": 29,
      "outputs": [
        {
          "output_type": "stream",
          "name": "stdout",
          "text": [
            "Vertex Distance from Source\n",
            "0\t\t0\n",
            "1\t\t-1\n",
            "2\t\t2\n",
            "3\t\t-2\n",
            "4\t\t1\n",
            "\n",
            "\n",
            "VISUALIZACIÓN GRAFO\n"
          ]
        },
        {
          "output_type": "display_data",
          "data": {
            "text/plain": [
              "<Figure size 432x288 with 1 Axes>"
            ],
            "image/png": "[encoded data removed]"
          },
          "metadata": {}
        }
      ]
    },
    {
      "cell_type": "markdown",
      "source": [
        "## **2.3 ALGORITMO DE DIJKSTRA**"
      ],
      "metadata": {
        "id": "rx1Tl8DRmBwo"
      }
    },
    {
      "cell_type": "code",
      "source": [
        "class Graph():\n",
        " \n",
        "    def __init__(self, vertices):\n",
        "        self.V = vertices\n",
        "        self.graph = [[0 for column in range(vertices)]\n",
        "                      for row in range(vertices)]\n",
        " \n",
        "    def printSolution(self, dist):\n",
        "        print(\"Vertex \\t Distance from Source\")\n",
        "        for node in range(self.V):\n",
        "            print(node, \"\\t\\t\", dist[node])\n",
        "\n",
        "    def minDistance(self, dist, sptSet):\n",
        " \n",
        "        min = 1e7\n",
        "\n",
        "        for v in range(self.V):\n",
        "            if dist[v] < min and sptSet[v] == False:\n",
        "                min = dist[v]\n",
        "                min_index = v\n",
        " \n",
        "        return min_index\n",
        "\n",
        "def dijkstra(self, src):\n",
        " \n",
        "        dist = [1e7] * self.V\n",
        "        dist[src] = 0\n",
        "        sptSet = [False] * self.V\n",
        " \n",
        "        for cout in range(self.V):\n",
        "            u = self.minDistance(dist, sptSet)\n",
        "            sptSet[u] = True\n",
        "\n",
        "            for v in range(self.V):\n",
        "                if (self.graph[u][v] > 0 and\n",
        "                   sptSet[v] == False and\n",
        "                   dist[v] > dist[u] + self.graph[u][v]):\n",
        "                    dist[v] = dist[u] + self.graph[u][v]\n",
        " \n",
        "        self.printSolution(dist)\n",
        " \n",
        "\n",
        "g = Graph(9)\n",
        "g.graph = [[0, 4, 0, 0, 0, 0, 0, 8, 0],\n",
        "           [4, 0, 8, 0, 0, 0, 0, 11, 0],\n",
        "           [0, 8, 0, 7, 0, 4, 0, 0, 2],\n",
        "           [0, 0, 7, 0, 9, 14, 0, 0, 0],\n",
        "           [0, 0, 0, 9, 0, 10, 0, 0, 0],\n",
        "           [0, 0, 4, 14, 10, 0, 2, 0, 0],\n",
        "           [0, 0, 0, 0, 0, 2, 0, 1, 6],\n",
        "           [8, 11, 0, 0, 0, 0, 1, 0, 7],\n",
        "           [0, 0, 2, 0, 0, 0, 6, 7, 0]\n",
        "           ]\n",
        " \n",
        "g.dijkstra(0)"
      ],
      "metadata": {
        "colab": {
          "base_uri": "https://localhost:8080/"
        },
        "id": "bD8-xwUkmnbG",
        "outputId": "22f1159a-6303-44b6-aebb-5c63651e67af"
      },
      "execution_count": 30,
      "outputs": [
        {
          "output_type": "stream",
          "name": "stdout",
          "text": [
            "Vertex \t Distance from Source\n",
            "0 \t\t 0\n",
            "1 \t\t 4\n",
            "2 \t\t 12\n",
            "3 \t\t 19\n",
            "4 \t\t 21\n",
            "5 \t\t 11\n",
            "6 \t\t 9\n",
            "7 \t\t 8\n",
            "8 \t\t 14\n"
          ]
        }
      ]
    },
    {
      "cell_type": "markdown",
      "source": [
        "## **2.4 EJEMPLO**\n",
        "\n",
        "Para entender de mejor manera como funciona el algoritmo, veremos un ejemplo paso a paso. Como podemos observar en la imagen de nuestro grafo original, contiene 5 nodos, por lo que realizaremos |V| - 1 iteraciones, es decir 4.\n",
        "\n",
        "> ![image](https://www.simplilearn.com/ice9/free_resources_article_thumb/Bellman%20Ford%20Algorithm/Example-of-bellman-ford-algorithm.png)\n",
        "\n",
        "↪ Elija el valor de la ruta 0 para el vértice de origen e infinito para todos los dempas vértices.\n",
        "\n",
        "> ![image](https://www.simplilearn.com/ice9/free_resources_article_thumb/Bellman%20Ford%20Algorithm/Example-of-bellman-ford-algorithm1.png)\n",
        "\n",
        "↪ Si la nueva longitud de trazado calculada es inferior a la longitud de trazado anterior, vaya a la arista vecina del vértice de origen y relaje la longitud del trazado del vértice adyacente.\n",
        "\n",
        "> ![image](https://www.simplilearn.com/ice9/free_resources_article_thumb/Bellman%20Ford%20Algorithm/Example-of-bellman-ford-algorithm2.png)\n",
        "\n",
        "↪ Como se dijo anteriormente, el procedimiento debe repetrise |V|- 1 veces. Esto sucedió porque, en el peor de los casos, la longitud de la ruta de cualquier vértice puede cambiar N veces a una longitud de ruta aún más corta.\n",
        "\n",
        "> ![image](https://www.simplilearn.com/ice9/free_resources_article_thumb/Bellman%20Ford%20Algorithm/Example-of-bellman-ford-algorithm3.png)\n",
        "\n",
        "> ![image](https://www.simplilearn.com/ice9/free_resources_article_thumb/Bellman%20Ford%20Algorithm/Example-of-bellman-ford-algorithm3.png)\n",
        "\n",
        "↪ Como resultado, después de las iteraciones, encontrará sus nuevas longitudes de ruta y puede determinar si el gráfico tiene un ciclo negativo o no.\n",
        "\n",
        "> ![image](https://www.simplilearn.com/ice9/free_resources_article_thumb/Bellman%20Ford%20Algorithm/Example-of-bellman-ford-algorithm5.png)"
      ],
      "metadata": {
        "id": "fRPtop7OdUAp"
      }
    },
    {
      "cell_type": "markdown",
      "source": [
        "# **3. CORRECTITUD**\n",
        "\n",
        "Para poder probar que el algoritmo de Bellman-Ford funciona, utilizaremos **inducción matemática**, donde:\n",
        "\n",
        "1. Probar $P(n)$ para un caso base, por ejemplo $P(1)$.\n",
        "2. Probar que si $P(m)$ es cierto, donde $m<n$, entonces $P(n)$ también lo es.\n",
        "\n",
        "**Teorema:** Sea G un grafo (orientado o no) sin circuitos negativos y $s ∈ V$ un nodo de origen. Al comenzar la k-ésima iteración, el algoritmo de Bellman-Ford determina un camino mínimo de a lo más k − 1 aristas de $s$ a los nodos de G.\n",
        "\n",
        "> **Caso Base:** ($k = 1$) Los camino mínimos de longitud cero desde $s$ son los que van a $s$ y a los nodos no alcanzables desde $s$. Luego el lema vale trivialmente por cómo se inicializaron los valores de ϵ.\n",
        ">\n",
        "> **Paso inductivo:** Supongamos que el lema vale para algún $k ≥ 1$ y veamos que vale para $k+1$. Sea el comienzo de la k-ésima iteración y sea $v ϵ V$. Si existe un camino mínimo de a lo más $k-1$ aristas a $v$, por hipótesis inductiva, el algoritmo ya lo determinó. Supongamos ahora que los camino mínimo a $v$ tienen exactamente $k$ aristas y sea $P$ uno de ellos y $(u,v)$ la última arista de $P$. Por subestructura óptim de camino mínimo, $P' = P -(u,v)$ es un camino mínimo a $u$. Luego, por hipótesis inductiva, $ϵ(u)= 𝝳(s,u) + w(u,v) = w(P) = 𝝳(s,v)$."
      ],
      "metadata": {
        "id": "4sfcCbqodaQR"
      }
    },
    {
      "cell_type": "markdown",
      "source": [
        "# **4. TIEMPO DE EJECUCIÓN**\n",
        "\n",
        "## **4.1 Tiempo de ejecución de Bellman-Ford**\n",
        "\n",
        "- En primer lugar, se realiza el paso de inicialización ⇒ O(V)\n",
        "\n",
        "- Luego, el algoritmo itera $|V| - 1$ los tiempos con cada iteración ⇒ O(1)\n",
        "\n",
        "- Después de $|V| - 1$ de las interacciones. el algoritmo elige todas las aristas y luego llama la función Relax(). Elegir todos los bordes lleva tiempo más la función Relax() ⇒ O(1) + O(E)\n",
        "\n",
        "En **conclusión**, la complejidad para hacer todas la operaciones del algoritmo lleva un tiempo de **O(VE)**\n",
        "\n",
        "## **4.2 Tiempo de ejecución de Dijkstra**\n",
        "\n",
        "Orden de complejidad del algoritmo:\n",
        "\n",
        "$O(|V|²+|A|) = O(|V|²)$, sin utilizar cola de prioridad, $O((|A|+|V|) log |V|) = O(|A| log |V|)$ utilizando cola de prioridad (por ejemplo, un montículo binario o un árbol binario balanceado). Por otro lado, si se utiliza un montículo de Fibonacci, sería $O(|V| log |V|+|A|)$.\n",
        "\n",
        "La complejidad de este algoritmo se puede calcular contando las operaciones realizadas:\n",
        "\n",
        "- El algoritmo consiste en $n-1$ iteraciones, como máximo. En cada iteración, se añade un vértice al conjunto distinguido.\n",
        "\n",
        "- En cada iteración, se identifica el vérticde con la menor etiqueta entre los que no están en $S_k$. El número de estas operaciones está acotado por $n-1$.\n",
        "\n",
        "- Además, se realizan una suma y una comparación para actualizar la etiqueta de cada uno de los vértices que no están en $S_k$.\n",
        "\n",
        "Luego, en cada iteración se realizan a lo más $2(n-1)$ operaciones. Entonces:\n",
        "\n",
        "Teorema: El algoritmo de Dijkstra realiza O(n²) operaciones (sumas y comparaciones) para determinar la longitud del camino más corto entre dos vértices de un grafo ponderado simple, conexo y no dirigido con n vértices.\n",
        "\n",
        "En general:\n",
        "\n",
        "Tiempo de ejecución = $O(|A| * 𝑻_{𝒅𝒌} + |v| * 𝑻_{𝒅𝒎})$\n",
        "\n",
        "$|A|$: Número de aristas\n",
        "\n",
        "$𝑻_{𝒅𝒌}$: Complejidad de disminuir clave\n",
        "\n",
        "$|V|$: Número de vértices\n",
        "\n",
        "$𝑻_{𝒅𝒎}$: Complejidad de extraer mínimo"
      ],
      "metadata": {
        "id": "TXo8KwU9dc5J"
      }
    },
    {
      "cell_type": "markdown",
      "source": [
        "# **5. EXPERIMENTACIÓN**"
      ],
      "metadata": {
        "id": "SqmvL79Vdg-B"
      }
    },
    {
      "cell_type": "markdown",
      "source": [
        "## **DIFERENCIA BELLMAN-FORD V/S DIJKSTRA**\n",
        "\n",
        "![image](https://i.imgur.com/DdUjTBj.png)"
      ],
      "metadata": {
        "id": "RYklfaGuhKue"
      }
    }
  ]
}
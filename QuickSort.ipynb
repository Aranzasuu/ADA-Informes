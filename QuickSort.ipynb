{
  "nbformat": 4,
  "nbformat_minor": 0,
  "metadata": {
    "colab": {
      "provenance": [],
      "collapsed_sections": [],
      "authorship_tag": "ABX9TyM5nkNG3M6W1K2G+uzWAHA6",
      "include_colab_link": true
    },
    "kernelspec": {
      "name": "python3",
      "display_name": "Python 3"
    },
    "language_info": {
      "name": "python"
    }
  },
  "cells": [
    {
      "cell_type": "markdown",
      "metadata": {
        "id": "view-in-github",
        "colab_type": "text"
      },
      "source": [
        "<a href=\"https://colab.research.google.com/github/Aranzasuu/ADA-Informes/blob/main/QuickSort.ipynb\" target=\"_parent\"><img src=\"https://colab.research.google.com/assets/colab-badge.svg\" alt=\"Open In Colab\"/></a>"
      ]
    },
    {
      "cell_type": "markdown",
      "source": [
        "# **1. PROBLEMA DE ORDENAMIENTO**\n",
        "\n",
        "Uno de los problemas fundamentales en la ciencia de la computación es ordenar una lista de elementos. Existe una infinidad de métodos de ordenamiento, algunos son simples e intuitivos y otros como son extremadamente complicados, pero producen resultados mucho más rápido.\n",
        "\n",
        "## DATOS:\n",
        "**${↪}$ 𝙴𝚗𝚝𝚛𝚊𝚍𝚊:** Secuencia de n elementos. $[a_1,a_2,a_3,...,a_n]$, es decir que va desde el 1 hasta total de elementos (n), estos pertenecen al conjunto de los reales.\n",
        "\n",
        "**${↪}$ 𝚂𝚊𝚕𝚒𝚍𝚊:** Permutación ordenada de la secuencia de entrada $[a_1',a_2',a_3',...,a_n']$ tal que $a_1 ≤ a_2 ≤ a_3 ≤ ... ≤ a_n$.\n",
        "\n",
        "\n",
        "![image](https://i.imgur.com/aAwSof4.png)\n"
      ],
      "metadata": {
        "id": "6AEGdHflLfis"
      }
    },
    {
      "cell_type": "markdown",
      "source": [
        "# **2. ALGORITMO QUICKSORT**\n",
        "\n",
        "**${↪}$ 𝙴𝚗𝚝𝚛𝚊𝚍𝚊:** Una lista o arreglo con un total de n elementos (n ∈ ℝ).\n",
        "\n",
        "**${↪}$ 𝚂𝚊𝚕𝚒𝚍𝚊:** El mismo arreglo pero con los elementos ordenados.\n",
        "\n",
        "Este algoritmo se utiliza para resolver problemas de ordenamiento, el objetivo es escoger un elemento como pivote y dividir la matriz dada alrededor del pivote elegido. Para seleccionar el pivote hay diferentes maneras:\n",
        "\n",
        "- Elegir el primer elemento como pivote\n",
        "- Elegir siempre el último elemento como pivote\n",
        "- Elegir un elemento aleatorio como pivote\n",
        "- Elegir la mediana como pivote\n",
        "\n",
        "Para poder implementar esta solución, utilizaremos el método \"Divide y vencerás\":\n",
        "\n",
        "1. 𝙳𝚒𝚟𝚒𝚍ir ${→}$ Debemos dividir el arreglo en 2 con la función Partition, escogiendo el elemento pivote.\n",
        "\n",
        "2. 𝙾𝚛𝚍𝚎𝚗𝚊𝚛 ${→}$ De forma recursiva, llamamos a la función quicksort para ordenar el subarreglo izquierdo al pivote y el subarreglo derecho.\n",
        "\n",
        "# 2.1 Código"
      ],
      "metadata": {
        "id": "akkwKwhVPh9O"
      }
    },
    {
      "cell_type": "code",
      "source": [
        "# Importación de las librerías\n",
        "import matplotlib.pyplot as plt\n",
        "import math\n",
        "import datetime\n",
        "from timeit import repeat\n",
        "import numpy as np\n",
        "import random\n",
        "from termcolor import colored"
      ],
      "metadata": {
        "id": "gHy30WuZTey-"
      },
      "execution_count": 239,
      "outputs": []
    },
    {
      "cell_type": "markdown",
      "source": [
        "## **2.1 Explicación Función $Partition$**\n",
        "\n",
        "El objetivo de esta función es la de ordenar los subarreglos divididos según el pivote elegido. Cabe destacar que el subarreglo izquierdo corresponde a los datos menores o iguales al pivote y el subarreglo derecho contiene a los datos mayores al pivote. Una vez que termina de comparar, el pivote es posicionado entre los dos subarreglos. Esta función retorna el índice de la posición del pivote. Por lo que veremos distintos casos:"
      ],
      "metadata": {
        "id": "1Y9_VSjUYg_4"
      }
    },
    {
      "cell_type": "markdown",
      "source": [
        "## **2.2 Explicación Función quick_sort**\n",
        "\n",
        "Nuestro caso base corresponde cuando el índice inicial es el mismo al índice final del subarreglo, es decir que contiene sólo un elemento. Luego definimos una variable asignandole el resultado de la función $partition$ y llamamos recursivamente la función $quicksort$ para ir diviendo el arreglo en torno al pivote seleccionado, es decir el subarreglo izquierdo comienza del primer elemento hasta el pivote y el subarreglo derecho desde el pivote hasta el final del arreglo."
      ],
      "metadata": {
        "id": "WEn-FdNVR6zi"
      }
    },
    {
      "cell_type": "code",
      "source": [
        "comp = 0"
      ],
      "metadata": {
        "id": "hB2bWheiHwd9"
      },
      "execution_count": 240,
      "outputs": []
    },
    {
      "cell_type": "markdown",
      "source": [
        "### **${▹}$ Primer elemento como pivote**"
      ],
      "metadata": {
        "id": "WKPkx8mIICSK"
      }
    },
    {
      "cell_type": "code",
      "source": [
        "def partitionLow(array, inicial, final, verbose):\n",
        "    low = inicial\n",
        "    high = final\n",
        "    global comp\n",
        "\n",
        "    if verbose:\n",
        "      print(\"\\n****** Función Partition ******\\n\")\n",
        "      print(\"Arreglo a dividir >>\", array)\n",
        "      print(\"pivote >>\", array[low])\n",
        "\n",
        "    for i in range(inicial,high):\n",
        "      comp += 1\n",
        "      if array[i] <= array[high]:\n",
        "        array[i],array[low] = array[low],array[i]\n",
        "        low += 1\n",
        "\n",
        "    array[low], array[high] = array[high], array[low]\n",
        "    if verbose:\n",
        "      print(\"Arreglo después del partition >>\", array,\"\\n\")\n",
        "\n",
        "    return low\n",
        "\n",
        "def QuickSortLow(array, low, high, verbose):\n",
        "  if low >= high:\n",
        "    return\n",
        "  \n",
        "  p = partitionLow(array, low, high,verbose)\n",
        "  if verbose:\n",
        "    print(\"------ Funcion QuickSortLow ------\")\n",
        "    print(\"SubArreglo izq >>\", array[:p-1])\n",
        "    print(\"SubArreglo der >>\", array[p+1:],\"\\n\")\n",
        "  QuickSortLow(array,low, p-1,verbose)\n",
        "  QuickSortLow(array,p+1,high,verbose)"
      ],
      "metadata": {
        "id": "efPlWLTcIW9g"
      },
      "execution_count": 295,
      "outputs": []
    },
    {
      "cell_type": "code",
      "source": [
        "array = random.sample(range(1,100),5)\n",
        "print(colored(f\"Entrada >> {str(array[:])}\",\"blue\"))\n",
        "\n",
        "QuickSortLow(array, 0, len(array) - 1, verbose = False)\n",
        "\n",
        "print(colored(f\"Salida >> {str(array[:])}\",\"red\"))\n",
        "#print(\"contador de comparaciones:\",comp)\n",
        "comp = 0"
      ],
      "metadata": {
        "colab": {
          "base_uri": "https://localhost:8080/"
        },
        "id": "tmb2uu3VKPuk",
        "outputId": "d0b29033-109f-493a-be50-653e8a28225c"
      },
      "execution_count": 296,
      "outputs": [
        {
          "output_type": "stream",
          "name": "stdout",
          "text": [
            "\u001b[34mEntrada >> [20, 38, 75, 98, 93]\u001b[0m\n",
            "\u001b[31mSalida >> [20, 38, 75, 93, 98]\u001b[0m\n"
          ]
        }
      ]
    },
    {
      "cell_type": "markdown",
      "source": [
        "### **${▹}$ Último elemento como pivote**"
      ],
      "metadata": {
        "id": "tx2gUTqFcyce"
      }
    },
    {
      "cell_type": "code",
      "source": [
        "def partitionHigh(array, inicial, final, verbose):\n",
        "  i = inicial\n",
        "  global comp\n",
        "\n",
        "  for j in range(inicial, final):\n",
        "    comp += 1\n",
        "    if array[j] <= array[final]:\n",
        "      i += 1\n",
        "      (array[i], array[j]) = (array[j], array[i])\n",
        "  \n",
        "  (array[i], array[final]) = (array[final], array[i])\n",
        "  return i\n",
        "\n",
        "def QuickSortHigh(array, low, high, verbose):\n",
        "  if low < high:\n",
        "    return\n",
        "  \n",
        "  p = partitionHigh(array, low, high,verbose)\n",
        "  if verbose:\n",
        "    print(\"------ Funcion QuickSortLow ------\")\n",
        "    print(\"SubArreglo izq >>\", array[:p-1])\n",
        "    print(\"SubArreglo der >>\", array[p+1:],\"\\n\")\n",
        "  QuickSortHigh(array,low, p-1,verbose)\n",
        "  QuickSortHigh(array,p+1,high,verbose)"
      ],
      "metadata": {
        "id": "8e5lR9emc_KB"
      },
      "execution_count": 319,
      "outputs": []
    },
    {
      "cell_type": "code",
      "source": [
        "array2 = random.sample(range(1,100),5)\n",
        "print(colored(f\"Entrada >> {str(array[:])}\",\"blue\"))\n",
        "\n",
        "QuickSortHigh(array2, 0, len(array2) - 1, verbose = False)\n",
        "\n",
        "print(colored(f\"Salida >> {str(array2[:])}\",\"red\"))\n",
        "comp = 0"
      ],
      "metadata": {
        "colab": {
          "base_uri": "https://localhost:8080/"
        },
        "id": "AUk0phYKiuTB",
        "outputId": "3b1ca1de-6f9d-4bfd-c6a4-8505f49a8a45"
      },
      "execution_count": 320,
      "outputs": [
        {
          "output_type": "stream",
          "name": "stdout",
          "text": [
            "\u001b[34mEntrada >> [20, 33, 41, 77, 98]\u001b[0m\n",
            "\u001b[31mSalida >> [89, 72, 48, 53, 24]\u001b[0m\n"
          ]
        }
      ]
    },
    {
      "cell_type": "markdown",
      "source": [
        "## **2.3 Ejemplo**\n",
        "\n",
        "Para entender mejor veamos un pequeño ejemplo:\n",
        "\n",
        "${Entrada →}$ $[5,2,1,8,3,9,7]$\n",
        "\n",
        "1. Escogeremos como pivote el primer elemento de la lista $(P = 5)$\n",
        "\n",
        "${izquierda_1}$ (elementos menores que 5)\n",
        "\n",
        "> ![image](https://i.imgur.com/GuZaZGI.jpg)\n",
        "\n",
        "${derecha_1}$ (elementos mayores o iguales a 5)\n",
        "\n",
        "> ![image](https://i.imgur.com/SSI5D0C.jpg)\n",
        "\n",
        "\n",
        "2. El algoritmo se aplica a la sublista izquierda:\n",
        "\n",
        "> ![image](https://i.imgur.com/gnXjBYb.jpg)\n",
        "\n",
        "3. El algoritmo se aplica a la sublista derecha:\n",
        "\n",
        "> ![image](https://i.imgur.com/9Z0a3BM.jpg)\n",
        "\n",
        "4. Lista ordenada final:\n",
        "\n",
        "> ![image](https://i.imgur.com/GngIZkt.jpg)\n",
        "\n",
        "\n",
        "\n",
        "\n"
      ],
      "metadata": {
        "id": "3NDYHglIlZVJ"
      }
    },
    {
      "cell_type": "markdown",
      "source": [
        "## **2.4 Algoritmo Paso a Paso**\n",
        "\n",
        "Ahora con la opción ${verbose}$ podremos ver y entender de mejor manera el proceso de los casos planteados anteriormente.\n",
        "\n",
        "### **${▹}$ Primer elemento como pivote**"
      ],
      "metadata": {
        "id": "9ZKHgnbBlb-f"
      }
    },
    {
      "cell_type": "code",
      "source": [
        "array = random.sample(range(1,100),5)\n",
        "print(colored(f\"Entrada >> {array}\",\"blue\"))\n",
        "\n",
        "QuickSortLow(array, 0, len(array) - 1, verbose = True)\n",
        "\n",
        "print(colored(f\"Salida >> {array}\",\"red\"))\n",
        "print(\"contador de comparaciones:\",comp)\n",
        "comp = 0"
      ],
      "metadata": {
        "colab": {
          "base_uri": "https://localhost:8080/"
        },
        "id": "jpKSo4puPkyZ",
        "outputId": "cb200a79-677f-4c09-d9a9-e863d531ed33"
      },
      "execution_count": 303,
      "outputs": [
        {
          "output_type": "stream",
          "name": "stdout",
          "text": [
            "\u001b[34mEntrada >> [20, 77, 41, 98, 33]\u001b[0m\n",
            "\n",
            "****** Función Partition ******\n",
            "\n",
            "Arreglo a dividir >> [20, 77, 41, 98, 33]\n",
            "pivote >> 20\n",
            "Arreglo después del partition >> [20, 33, 41, 98, 77] \n",
            "\n",
            "------ Funcion QuickSortLow ------\n",
            "SubArreglo izq >> []\n",
            "SubArreglo der >> [41, 98, 77] \n",
            "\n",
            "\n",
            "****** Función Partition ******\n",
            "\n",
            "Arreglo a dividir >> [20, 33, 41, 98, 77]\n",
            "pivote >> 41\n",
            "Arreglo después del partition >> [20, 33, 41, 77, 98] \n",
            "\n",
            "------ Funcion QuickSortLow ------\n",
            "SubArreglo izq >> [20, 33]\n",
            "SubArreglo der >> [98] \n",
            "\n",
            "\u001b[31mSalida >> [20, 33, 41, 77, 98]\u001b[0m\n",
            "contador de comparaciones: 6\n"
          ]
        }
      ]
    },
    {
      "cell_type": "code",
      "source": [
        "array2 = random.sample(range(1,100),5)\n",
        "print(colored(f\"Entrada >> {array2}\",\"blue\"))\n",
        "\n",
        "QuickSortHigh(array2, 0, len(array2) - 1, verbose = True)\n",
        "\n",
        "print(colored(f\"Salida >> {array2}\",\"red\"))\n",
        "print(\"contador de comparaciones:\", comp)\n",
        "comp = 0"
      ],
      "metadata": {
        "colab": {
          "base_uri": "https://localhost:8080/"
        },
        "id": "jY9Hai5PdqUt",
        "outputId": "6a473e28-092a-4f90-e379-a2d9d09a6401"
      },
      "execution_count": 316,
      "outputs": [
        {
          "output_type": "stream",
          "name": "stdout",
          "text": [
            "\u001b[34mEntrada >> [98, 44, 19, 62, 91]\u001b[0m\n",
            "\u001b[31mSalida >> [98, 44, 19, 62, 91]\u001b[0m\n",
            "contador de comparaciones: 0\n"
          ]
        }
      ]
    },
    {
      "cell_type": "markdown",
      "source": [
        "# **3. CORRECTITUD**\n",
        "\n",
        "La correctitud de *Quicksort* se reduce a la correctitud de *Partition*: si *Partition* es correcto, *Quicksort* es también correcto.\n",
        "\n",
        "## **3.1 Teorema 1 (Correctitud función $partition$)**\n",
        "\n",
        "La función tiene como entrada un arreglo en el que la parte izquierda referente al pivote serán lo elementos menores a este, mientras que en la parte derecha serán los elementos mayores.\n",
        "\n",
        "Para realizar la prueba de correctitud utilizaremos la propiedad del bucle invariante.\n",
        "\n",
        "Para establacer la correctitud, usaremos los siguientes invariantes para el inicio de cada iteración:\n",
        "\n",
        "1. si $p ≤ k ≤ i$, entonces $A[k] ≤ x$\n",
        "2. si $i < k < j$, entonces $A[k] > x$\n",
        "3. si k = r, entonces $A[k] = x$\n",
        "\n",
        "![image](https://i.imgur.com/POq8uJY.jpg)\n",
        "\n",
        ">\n",
        "> **Inicialización:** Al comienzo de la primera iteración, $i = p - 1$ y $j = p$. Como no existe $k$ tal que $p ≤ k ≤ i$ o $i < k < j$, los invariantes 1 y 2 son ciertos. El invariante 3 ya que dentro del ciclo se revisa si es mayor/menor o igual, en este caso a x.\n",
        ">\n",
        "> **Mantención:** Consideraremos 2 casos para una iteración dada:\n",
        ">\n",
        "> a. $A[j] > x$\n",
        ">\n",
        "> La iteración no cambia el arreglo y $j$ se incrementa. Al inicio de la nueva iteración tenemos un nuevo $k = j$ para el cual verificar el invariante 2, el cual es cierto porque $A[j] > x$\n",
        ">\n",
        "> ![image](https://i.imgur.com/ML9ZvMI.jpg)\n",
        ">\n",
        "> b. $A[j] ≤ x$\n",
        ">\n",
        "> $A[i + 1]$ se intercambia con $A[j]$ e $i$ se incrementa. No es difícil ver que el invariante se cumple al inicio de la próxima iteración.\n",
        ">\n",
        ">![image](https://i.imgur.com/iUG8vQ9.jpg)\n"
      ],
      "metadata": {
        "id": "2Aqu0p7SlhRk"
      }
    },
    {
      "cell_type": "markdown",
      "source": [
        "## **3.2 Teorema 2 (Correctitud $QuickSort$)**\n",
        "\n",
        "Para probar este segundo teorema utilizaremos la inducción matemática, donde para demostrar una declaración $P(n)$, debemos probar lo siguiente:\n",
        "\n",
        "1. Probar $P(n)$ para un caso base, por ejemplo $P(1)$.\n",
        "2. Probar que si $P(m)$ es cierto, siendo que $m < n$, entonces $P(n)$ si lo es.\n",
        "\n",
        "> **Caso base** ${⇒}$ La función al recibir un arreglo de tamaño 1 (es decir que solo contiene un elemento) automaticamente se asume que está ordenado, por lo que nuestro punto 1 es correcto.\n",
        ">\n",
        "> **Caso General** ${⇒}$ Considerando que nuestra función lo máximo que recibirá será un arreglo de tamaño n, recursivamente irá dividiendo el arreglo en subarreglos, en el mejor caso nuestra $m = {\\frac n2}$ hasta llegar a nuestro caso base, por lo que nuestro segundo punto también es correcto."
      ],
      "metadata": {
        "id": "ELeDhA0v6Zua"
      }
    },
    {
      "cell_type": "markdown",
      "source": [
        "# **4. TIEMPO DE EJECUCIÓN**\n",
        "\n",
        "#**4.1. Teorema (Tiempo de ejecución)**\n",
        "\n",
        "$División$: Dividir la lista en partes menores y mayores que el pivote toma un tiempo de $O(n)$ porque el algoritmo necesita revisar el arreglo, que tiene elementos $O(n)$. Para cada elemento, el algoritmo realiza un número constante de comparaciones.\n",
        "\n",
        "$Subproblemas$:\n",
        "\n",
        "En el peor caso, todos los elementos son menores o mayores que el pivote. En otras palabras, si el pivote es el elemento más pequeño o más grande del arreglo, se necesita tiempo de $T(n-1)$ para resolver los subproblemas porque habrá $(n-1)$ llamadas recursivas al algoritmo que crea subarreglos de tamaño $0$ y $(n-1)$ y luego en el siguiente paso creará subarreglos de tamaño $0$ y $(n-2)$, y así sucesivamente, entonces el peor caso de recurrencia sería:\n",
        "\n",
        "$$T(n) = T\\left({n-1}\\right) + O(n)$$ \n",
        "\n",
        "Basado en el teorema maestro podemos encontrar la solución a esta recurrencia con:\n",
        "\n",
        "$$T(n) = O(n^2)$$\n",
        "\n",
        "> ![image](https://cdn.kastatic.org/ka-perseus-images/7da2ac32779bef669a6f05decb62f219a9132158.png)\n",
        "\n",
        "El mejor caso sera cuando $Partition$ produce dos subproblemas, cada uno de tamaño no más de $(n/2)$, ya que uno es de tamaño $(n/2)$ y uno de tamaño $(n/2)-1$, esto significa que en cada paso, el tamaño del problema se está reduciendo a la mitad. En este caso, Quicksort corre mucho más rápido. La recurrencia para el tiempo de ejecución sería:\n",
        "\n",
        "$$T(n) = 2T\\left(\\frac{n}{2}\\right) + O(n)$$ \n",
        "\n",
        "Basado en el teorema maestro podemos encontrar la solución a esta recurrencia con:\n",
        "\n",
        "$$T(n) = O(nlogn)$$\n",
        "\n",
        "> ![image](https://cdn.kastatic.org/ka-perseus-images/21cd0d70813845d67fbb11496458214f90ad7cb8.png)\n",
        "\n",
        "El caso promedio, se necesita considerar toda la permutación posible del arreglo y calcular el tiempo que toma cada permutación. También podemos tener una idea del caso promedio considerando el caso cuando la $Partition$ pone elementos $O(n/9)$ en un conjunto y elementos $O(9n/10)$ en otro conjunto. La recurrencia para el tiempo de ejecución sería:\n",
        "\n",
        "$$T(n) = T\\left(\\frac{9n}{10}\\right) + T\\left(\\frac{n}{10}\\right) + O(n)$$ \n",
        "\n",
        "Basado en el arbol de recurrencia podemos encontrar la solución a esta recurrencia arrojando:\n",
        "\n",
        "$$T(n) = O(nlogn)$$\n",
        "\n",
        "> ![image](https://cdn.kastatic.org/ka-perseus-images/130b2d2a1fe897253def054f4c3aa7bd94cb6cf2.png)"
      ],
      "metadata": {
        "id": "KTfYhmfAljmA"
      }
    },
    {
      "cell_type": "markdown",
      "source": [
        "# **5. EXPERIMENTOS**"
      ],
      "metadata": {
        "id": "fEwHcAkxlo2B"
      }
    },
    {
      "cell_type": "code",
      "source": [
        "def mergeSort(nlist):\n",
        "    if len(nlist)>1:\n",
        "        mid = len(nlist)//2\n",
        "        lefthalf = nlist[:mid]\n",
        "        righthalf = nlist[mid:]\n",
        "\n",
        "        mergeSort(lefthalf)\n",
        "        mergeSort(righthalf)\n",
        "        i=j=k=0       \n",
        "        while i < len(lefthalf) and j < len(righthalf):\n",
        "            if lefthalf[i] < righthalf[j]:\n",
        "                nlist[k]=lefthalf[i]\n",
        "                i=i+1\n",
        "            else:\n",
        "                nlist[k]=righthalf[j]\n",
        "                j=j+1\n",
        "            k=k+1\n",
        "\n",
        "        while i < len(lefthalf):\n",
        "            nlist[k]=lefthalf[i]\n",
        "            i=i+1\n",
        "            k=k+1\n",
        "\n",
        "        while j < len(righthalf):\n",
        "            nlist[k]=righthalf[j]\n",
        "            j=j+1\n",
        "            k=k+1\n",
        "\n",
        "nlist = [9,-3,5,2,6,8,-6,1,3,11]\n",
        "print(\"Lista Inicial\",nlist)\n",
        "mergeSort(nlist)\n",
        "print(\"Lista Ordenada\",nlist)"
      ],
      "metadata": {
        "colab": {
          "base_uri": "https://localhost:8080/"
        },
        "id": "Sf9xWKbelkFp",
        "outputId": "8633521b-2af3-4a28-af95-c964b5d2345f"
      },
      "execution_count": 317,
      "outputs": [
        {
          "output_type": "stream",
          "name": "stdout",
          "text": [
            "Lista Inicial [9, -3, 5, 2, 6, 8, -6, 1, 3, 11]\n",
            "Lista Ordenada [-6, -3, 1, 2, 3, 5, 6, 8, 9, 11]\n"
          ]
        }
      ]
    },
    {
      "cell_type": "code",
      "source": [
        "def heapify(arr, n, i): \n",
        "    largest = i  \n",
        "    l = 2 * i + 1     \n",
        "    r = 2 * i + 2    \n",
        "  \n",
        "   \n",
        "    if l < n and arr[i] < arr[l]: \n",
        "        largest = l \n",
        "  \n",
        "\n",
        "    if r < n and arr[largest] < arr[r]: \n",
        "        largest = r \n",
        "  \n",
        "    if largest != i: \n",
        "        arr[i],arr[largest] = arr[largest],arr[i]  \n",
        "  \n",
        "        heapify(arr, n, largest) \n",
        "  \n",
        "def heapSort(arr): \n",
        "    n = len(arr) \n",
        "\n",
        "    for i in range(n, -1, -1): \n",
        "        heapify(arr, n, i) \n",
        "\n",
        "    for i in range(n-1, 0, -1): \n",
        "        arr[i], arr[0] = arr[0], arr[i] \n",
        "        heapify(arr, i, 0) \n",
        "  \n",
        "arr = [9,-3,5,2,6,8,-6,1,3,11]\n",
        "print(\"Lista Inicial\",arr)\n",
        "heapSort(arr) \n",
        "print(\"Lista Ordenada\",arr)"
      ],
      "metadata": {
        "colab": {
          "base_uri": "https://localhost:8080/"
        },
        "id": "ysnqUdr6lqq2",
        "outputId": "a4e5559e-58df-4585-a95b-44d1c75039b6"
      },
      "execution_count": 318,
      "outputs": [
        {
          "output_type": "stream",
          "name": "stdout",
          "text": [
            "Lista Inicial [9, -3, 5, 2, 6, 8, -6, 1, 3, 11]\n",
            "Lista Ordenada [-6, -3, 1, 2, 3, 5, 6, 8, 9, 11]\n"
          ]
        }
      ]
    },
    {
      "cell_type": "code",
      "source": [
        "import random\n",
        "import datetime\n",
        "from math import log\n",
        "import matplotlib.pyplot as plt\n",
        "from timeit import repeat\n",
        "%matplotlib inline\n",
        "\n",
        "x=[n for n in range(5,20)] \n",
        "y1=[(n*(n+1))/2 for n in range(5,20)] \n",
        "y2=[2*(n/2) for n in range(5,20)] \n",
        "y=[]; \n",
        "\n",
        "for n in range(5,20):\n",
        "  a = random.sample(range(1, 100), n)\n",
        "  QuickSortLow(a,0,len(a)-1,verbose=False)\n",
        "\n",
        "plt.plot(x,y1)\n",
        "plt.plot(x,y2)\n",
        "plt.legend([\"Peor Caso Teorico\", \"Mejor Caso Teorico\", \"QuickSort, Caso 3\"])\n",
        "\n",
        "plt.xlabel(\"n\")\n",
        "plt.ylabel(\"Número de operaciones\")\n",
        "plt.show()"
      ],
      "metadata": {
        "colab": {
          "base_uri": "https://localhost:8080/",
          "height": 279
        },
        "id": "0GkL6ezulvJB",
        "outputId": "cbe84dff-e621-47d3-8f20-1ff4b73747ca"
      },
      "execution_count": 323,
      "outputs": [
        {
          "output_type": "display_data",
          "data": {
            "text/plain": [
              "<Figure size 432x288 with 1 Axes>"
            ],
            "image/png": "[encoded data removed]"
          },
          "metadata": {
            "needs_background": "light"
          }
        }
      ]
    },
    {
      "cell_type": "code",
      "source": [
        "x=[]; y=[];z=[];e=[]\n",
        "\n",
        "for n in range(5,500):\n",
        "\n",
        "  a = random.sample(range(1, 1000), n)\n",
        "\n",
        "  l = repeat(setup=\"from __main__ import QuickSortLow\", stmt=f\"QuickSortLow({a},{0},{len(a)-1},{False})\", repeat=1, number=10)\n",
        "  t = repeat(setup=\"from __main__ import mergeSort\", stmt=f\"mergeSort({a})\", repeat=1, number=10)\n",
        "\n",
        "  x.append(n)\n",
        "  y.append(l)\n",
        "  z.append(t)\n",
        "\n",
        "plt.plot(x,y)\n",
        "plt.plot(x,z)\n",
        "\n",
        "plt.title('quickSort piv primer vs mergeSort')\n",
        "plt.legend([\"quickSort - Caso 1\",\"mergeSort\"])\n",
        "plt.xlabel('n')\n",
        "plt.ylabel('Tiempo en ms')\n",
        "plt.show()"
      ],
      "metadata": {
        "colab": {
          "base_uri": "https://localhost:8080/",
          "height": 295
        },
        "id": "KE7aVFH0lxMs",
        "outputId": "5661c519-b910-4d02-9273-fde3d57c78bc"
      },
      "execution_count": 328,
      "outputs": [
        {
          "output_type": "display_data",
          "data": {
            "text/plain": [
              "<Figure size 432x288 with 1 Axes>"
            ],
            "image/png": "[encoded data removed]"
          },
          "metadata": {
            "needs_background": "light"
          }
        }
      ]
    },
    {
      "cell_type": "code",
      "source": [
        "x=[]; y=[];z=[];e=[]\n",
        "\n",
        "for n in range(5,500):\n",
        "\n",
        "  a = random.sample(range(1, 1000), n)\n",
        "\n",
        "  l = repeat(setup=\"from __main__ import QuickSortLow\", stmt=f\"QuickSortLow({a},{0},{len(a)-1},{False})\", repeat=1, number=10)\n",
        "  t = repeat(setup=\"from __main__ import QuickSortLow\", stmt=f\"QuickSortLow({a},{2},{len(a)-1},{False})\", repeat=1, number=10)\n",
        "  v = repeat(setup=\"from __main__ import QuickSortLow\", stmt=f\"QuickSortLow({a},{3},{len(a)-1},{False})\", repeat=1, number=10)\n",
        "\n",
        "  x.append(n)\n",
        "  y.append(l)\n",
        "  z.append(t)\n",
        "  e.append(v)\n",
        "\n",
        "\n",
        "plt.plot(x,y)\n",
        "plt.plot(x,z)\n",
        "plt.plot(x,e)\n",
        "plt.legend([\"mergeSort - quicksort piv primero\"])\n",
        "\n",
        "plt.xlabel('n')\n",
        "plt.ylabel('Tiempo en ms')\n",
        "plt.show()"
      ],
      "metadata": {
        "colab": {
          "base_uri": "https://localhost:8080/",
          "height": 282
        },
        "id": "aD9phAFMlzJ0",
        "outputId": "4a1645be-ed1d-470c-d106-2d38f1a71cff"
      },
      "execution_count": 330,
      "outputs": [
        {
          "output_type": "display_data",
          "data": {
            "text/plain": [
              "<Figure size 432x288 with 1 Axes>"
            ],
            "image/png": "[encoded data removed]"
          },
          "metadata": {
            "needs_background": "light"
          }
        }
      ]
    },
    {
      "cell_type": "code",
      "source": [
        "x=[]; y=[];z=[];e=[]\n",
        "\n",
        "for n in range(5,500):\n",
        "\n",
        "  a = random.sample(range(1, 1000), n)\n",
        "\n",
        "  l = repeat(setup=\"from __main__ import mergeSort\", stmt=f\"mergeSort({a})\", repeat=1, number=10)\n",
        "  t = repeat(setup=\"from __main__ import heapSort\", stmt=f\"heapSort({a})\", repeat=1, number=10)\n",
        "  v = repeat(setup=\"from __main__ import QuickSortLow\", stmt=f\"QuickSortLow({a},{0},{len(a)-1},{False})\", repeat=1, number=10)\n",
        "\n",
        "  x.append(n)\n",
        "  y.append(l)\n",
        "  z.append(t)\n",
        "  e.append(v)\n",
        "\n",
        "plt.plot(x,y)\n",
        "plt.plot(x,z)\n",
        "plt.plot(x,e)\n",
        "plt.legend([\"mergeSort\",\"heapSort\",\"quickSort\"])\n",
        "\n",
        "plt.xlabel('n')\n",
        "plt.ylabel('Tiempo en ms')\n",
        "plt.show()"
      ],
      "metadata": {
        "colab": {
          "base_uri": "https://localhost:8080/",
          "height": 279
        },
        "id": "oFG-pE14l0r_",
        "outputId": "177c1325-4d42-44bc-e4af-764836daf129"
      },
      "execution_count": 333,
      "outputs": [
        {
          "output_type": "display_data",
          "data": {
            "text/plain": [
              "<Figure size 432x288 with 1 Axes>"
            ],
            "image/png": "[encoded data removed]"
          },
          "metadata": {
            "needs_background": "light"
          }
        }
      ]
    }
  ]
}
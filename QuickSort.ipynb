{
  "nbformat": 4,
  "nbformat_minor": 0,
  "metadata": {
    "colab": {
      "provenance": [],
      "collapsed_sections": [],
      "authorship_tag": "ABX9TyPd12S+UXsb/OG1qU9Qj+R2",
      "include_colab_link": true
    },
    "kernelspec": {
      "name": "python3",
      "display_name": "Python 3"
    },
    "language_info": {
      "name": "python"
    }
  },
  "cells": [
    {
      "cell_type": "markdown",
      "metadata": {
        "id": "view-in-github",
        "colab_type": "text"
      },
      "source": [
        "<a href=\"https://colab.research.google.com/github/Aranzasuu/ADA-Informes/blob/main/QuickSort.ipynb\" target=\"_parent\"><img src=\"https://colab.research.google.com/assets/colab-badge.svg\" alt=\"Open In Colab\"/></a>"
      ]
    },
    {
      "cell_type": "markdown",
      "source": [
        "# **1. PROBLEMA DE OPTIMIZACIÓN**\n",
        "\n",
        "Uno de los problemas fundamentales en la ciencia de la computación es ordenar una lista de elementos. Existe una infinidad de métodos de ordenamiento, algunos son simples e intuitivos y otros como son extremadamente complicados, pero producen resultados mucho más rápido.\n",
        "\n",
        "## DATOS:\n",
        "**↪ 𝙴𝚗𝚝𝚛𝚊𝚍𝚊:** Secuencia de n elementos. $[a_1,a_2,a_3,...,a_n]$ \n",
        "\n",
        "**↪ 𝚂𝚊𝚕𝚒𝚍𝚊:** Permutación ordenada de la secuencia de entrada $[a_1',a_2',a_3',...,a_n']$ tal que $a_1 < a_2 < a_3 < ... < a_n$."
      ],
      "metadata": {
        "id": "6AEGdHflLfis"
      }
    },
    {
      "cell_type": "markdown",
      "source": [
        "# **2. ALGORITMO QUICKSORT**\n",
        "\n",
        "**↪ 𝙴𝚗𝚝𝚛𝚊𝚍𝚊:** Una lista o arreglo con un total de n elementos (n ∈ ℝ).\n",
        "\n",
        "**↪ 𝚂𝚊𝚕𝚒𝚍𝚊:** El mismo arreglo pero con los elementos ordenados.\n",
        "\n",
        "Este algoritmo se utiliza para resolver problemas de ordenamiento, el objetivo es escoger un elemento como pivote y dividir la matriz dada alrededor del pivote elegido. Para seleccionar el pivote hay diferentes maneras:\n",
        "\n",
        "- Elegir el primer elemento como pivote\n",
        "- Elegir siempre el último elemento como pivote\n",
        "- Elegir un elemento aleatorio como pivote\n",
        "- Elegir la mediana como pivote\n",
        "\n",
        "Para poder implementar esta solución, utilizaremos el método \"Divide y vencerás\":\n",
        "\n",
        "1. 𝙳𝚒𝚟𝚒𝚍ir >> Debemos dividir el arreglo en 2 con la función Partition, escogiendo el elemento pivote.\n",
        "\n",
        "2. 𝙾𝚛𝚍𝚎𝚗𝚊𝚛 >> los subarreglos se ordenan con quicksort, trabajando sobre el mismo arreglo. ponemos el pivote en la posición correcta de manera que los valores menores e iguales queden a la derecha y los mayores a la izquierda\n",
        "\n",
        "# 2.1 Código\n",
        "\n",
        "\n"
      ],
      "metadata": {
        "id": "akkwKwhVPh9O"
      }
    },
    {
      "cell_type": "code",
      "source": [
        "# Importación de las librerías\n",
        "import matplotlib.pyplot as plt\n",
        "import math\n",
        "import datetime\n",
        "from timeit import repeat\n",
        "import numpy as np\n",
        "import random\n",
        "from termcolor import colored"
      ],
      "metadata": {
        "id": "gHy30WuZTey-"
      },
      "execution_count": null,
      "outputs": []
    },
    {
      "cell_type": "markdown",
      "source": [
        "## **2.1 Explicación Función *Partition***\n",
        "\n",
        "El objetivo de las particiones es que dada una matriz y un elemento x como pivote, debemos poner x en su posición correcta en "
      ],
      "metadata": {
        "id": "1Y9_VSjUYg_4"
      }
    },
    {
      "cell_type": "code",
      "source": [
        "def partition(array, start, end):\n",
        "    pivot = array[start]\n",
        "    low = start + 1\n",
        "    high = end\n",
        "\n",
        "    while True:\n",
        "        while low <= high and array[high] >= pivot:\n",
        "            high = high - 1\n",
        "\n",
        "        while low <= high and array[low] <= pivot:\n",
        "            low = low + 1\n",
        "\n",
        "        if low <= high:\n",
        "            array[low], array[high] = array[high], array[low]\n",
        "        else:\n",
        "            break\n",
        "\n",
        "    array[start], array[high] = array[high], array[start]\n",
        "\n",
        "    return high"
      ],
      "metadata": {
        "id": "Gls86WeLOqNE"
      },
      "execution_count": null,
      "outputs": []
    },
    {
      "cell_type": "code",
      "source": [
        "def quick_sort(array, start, end):\n",
        "    if start >= end:\n",
        "        return\n",
        "\n",
        "    p = partition(array, start, end)\n",
        "    quick_sort(array, start, p-1)\n",
        "    quick_sort(array, p+1, end)"
      ],
      "metadata": {
        "id": "cANH_mYETVoy"
      },
      "execution_count": null,
      "outputs": []
    },
    {
      "cell_type": "code",
      "source": [
        "array = [29,99,27,41,66,28,44,78,87,19,31,76,58,88,83,97,12,21,44]\n",
        "\n",
        "quick_sort(array, 0, len(array) - 1)\n",
        "print(array)"
      ],
      "metadata": {
        "colab": {
          "base_uri": "https://localhost:8080/"
        },
        "id": "oF38G9Q0TjIr",
        "outputId": "8f48eda6-72df-4714-ef82-bddfde469b16"
      },
      "execution_count": null,
      "outputs": [
        {
          "output_type": "stream",
          "name": "stdout",
          "text": [
            "[12, 19, 21, 27, 28, 29, 31, 41, 44, 44, 58, 66, 76, 78, 83, 87, 88, 97, 99]\n"
          ]
        }
      ]
    }
  ]
}
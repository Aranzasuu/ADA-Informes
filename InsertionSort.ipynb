{
  "nbformat": 4,
  "nbformat_minor": 0,
  "metadata": {
    "colab": {
      "name": "InsertionSort.ipynb",
      "provenance": [],
      "collapsed_sections": [],
      "authorship_tag": "ABX9TyOfRm1hevdMEOXS28pI/Y1H",
      "include_colab_link": true
    },
    "kernelspec": {
      "name": "python3",
      "display_name": "Python 3"
    },
    "language_info": {
      "name": "python"
    }
  },
  "cells": [
    {
      "cell_type": "markdown",
      "metadata": {
        "id": "view-in-github",
        "colab_type": "text"
      },
      "source": [
        "<a href=\"https://colab.research.google.com/github/Aranzasuu/ADA-Informes/blob/main/InsertionSort.ipynb\" target=\"_parent\"><img src=\"https://colab.research.google.com/assets/colab-badge.svg\" alt=\"Open In Colab\"/></a>"
      ]
    },
    {
      "cell_type": "markdown",
      "source": [
        "# 1. Problema de Ordenamiento\n",
        "\n",
        "**Entrada:** Secuencia de números.\n",
        "\n",
        "**Salida:** Intercambio de los datos de entrada los cuales resultan una secuencia ordenada.\n",
        "\n",
        "\n",
        "\n",
        "\n",
        "\n",
        "\n",
        "\n",
        "\n",
        "\n",
        "\n",
        "\n",
        "\n",
        "\n",
        "\n",
        "\n",
        "\n"
      ],
      "metadata": {
        "id": "OFfF6y4VvrdE"
      }
    },
    {
      "cell_type": "markdown",
      "source": [
        "# 2. Insertion Sort\n",
        "\n",
        "El siguiente código presenta la implementación del código a través un ejemplo.\n",
        "\n",
        "## 2.1 Código"
      ],
      "metadata": {
        "id": "Kd-QO4IuhKqX"
      }
    },
    {
      "cell_type": "code",
      "source": [
        "import random\n",
        "from termcolor import colored\n",
        "import copy\n",
        "\n",
        "def insertionSort(arr, verbose):\n",
        "    comp = 0\n",
        "    vuelta = 1\n",
        "\n",
        "    # Recorremos el arreglo\n",
        "    for i in range(1, len(arr)):\n",
        "        \n",
        "        key = arr[i]\n",
        "        j = i-1\n",
        "\n",
        "        # Intercambiamos hasta encontrar la posición correcta\n",
        "        while j >=0 and key < arr[j]:\n",
        "            arr[j+1] = arr[j]\n",
        "            #if verbose == True:\n",
        "              #print(str(arr[:j])[1:-1],\",\",colored(f\"{str(arr[j:j+2])[1:-1]}\",\"red\"))\n",
        "            j -= 1\n",
        "            comp += 1\n",
        "\n",
        "        arr[j+1] = key\n",
        "    \n",
        "    print(\"Salida : \", arr)\n",
        "    print(\"Cantidad de comparaciones :\", comp)\n",
        "\n",
        "\n",
        "# Ejemplo\n",
        "arr = [20,14,3,8,7]\n",
        "verbose = False\n",
        "print(\"Entrada: \", arr)\n",
        "insertionSort(arr, verbose)"
      ],
      "metadata": {
        "colab": {
          "base_uri": "https://localhost:8080/"
        },
        "id": "JM212WUdf8Gk",
        "outputId": "89fb671b-cd9d-4f22-88b5-6b337bab566f"
      },
      "execution_count": 83,
      "outputs": [
        {
          "output_type": "stream",
          "name": "stdout",
          "text": [
            "Entrada:  [20, 14, 3, 8, 7]\n",
            "Salida :  [3, 7, 8, 14, 20]\n",
            "Cantidad de comparaciones : 8\n"
          ]
        }
      ]
    },
    {
      "cell_type": "markdown",
      "source": [
        "## 2.2 Descripción del Algoritmo\n",
        "\n",
        "En la entrada del algoritmo recibe una lista (o arreglo) ***arr*** con una secuencia de ***n*** elementos que se quieren ordenar. Cabe recalcar que estos se van ordenando dentro del mismo. Teniendo como salida una arreglo con sus elementos ordenados de menor a mayor.\n",
        "\n",
        "> 1. Debemos comparar la clave con el elemento adyacente\n",
        "\n",
        "> 2. En cada comparación, debemos encontrar la posición y crear un espacio, desplazando los elementos hacia la derecha e insertar la clave en la posición correspondiente\n",
        "\n",
        "> 3. Repitiendo así hasta ordenar por completo el arreglo.\n",
        "\n",
        "\n",
        "\n",
        "\n"
      ],
      "metadata": {
        "id": "1SJf6LW92Ucx"
      }
    },
    {
      "cell_type": "markdown",
      "source": [
        "## 2.3 Ejemplo\n",
        "\n",
        "Contemplemos este arreglo:\n",
        "\n",
        "```\n",
        "A = [ 9 , 5 , 1 , 4 , 3 ]\n",
        "```\n",
        "\n",
        "**Paso 1 :**\n",
        "\n",
        "```\n",
        "[ 9 , 5 , 1 , 4 , 3 ]\n",
        "\n",
        "[ 5 , 9 , 1 , 4 , 3 ]\n",
        "\n",
        "A = [ 5 , 9 , 1 , 4 , 3 ]\n",
        "```\n",
        "\n",
        "Consideramos el primer elemento como que ya está ordenado. Por lo que debemos analizar el segundo elemento que debemos almacenar para reposicionarlo.\n",
        "\n",
        "Si el segundo elemento es mayor al primer elemento, debemos colocarlo delante de este.\n",
        "\n",
        "**Paso 2 :**\n",
        "\n",
        "Los dos primeros datos están ordenados, por lo que debemos comparar el tercer elemento. Si el tercer elemento es más pequeño que los dos elementos ordenados, debemos posicionarlo en la primera posición.\n",
        "\n",
        "```\n",
        "[ 14 , 20 , 3 , 8 , 7 ]\n",
        "\n",
        "[ 14 , 3 , 20 , 8 , 7 ]\n",
        "\n",
        "[ 3 , 14 , 20 , 8 , 7 ]\n",
        "\n",
        "A = [ 3 , 14 , 20 , 8 , 7 ]\n",
        "\n",
        "```\n",
        "\n",
        "**Paso 3 :**\n",
        "\n",
        "Tal como en los pasos anteriores debemos seguir comparando el siguiente elemento, en este caso el 8. Debemos ir intercambiando hasta encontrar la posición correcta.\n",
        "\n",
        "```\n",
        "[ 3 , 14 , 20 , 8 , 7 ]\n",
        "\n",
        "[ 3 , 14 , 8 , 20 , 7 ]\n",
        "\n",
        "[ 3 , 8 , 14, 20 , 7 ]\n",
        "\n",
        "A = [ 3 , 8 , 14 , 20 , 7 ]\n",
        "\n",
        "```\n",
        "\n",
        "**Paso 4 :**\n",
        "\n",
        "Por último debemos ordenar el número 7, ya que es menor que el 20, 14 y el 8, así moviendolo hasta su posición correspondiente.\n",
        "\n",
        "```\n",
        "[ 3 , 8 , 14 , 20 , 7 ]\n",
        "\n",
        "[ 3 , 8 , 14 , 7 , 20 ]\n",
        "\n",
        "[ 3 , 8 , 7 , 14 , 20 ]\n",
        "\n",
        "[ 3 , 7 , 8 , 14 , 20 ]\n",
        "\n",
        "A = [ 3, 7 , 8 , 14 , 20 ]\n",
        "\n",
        "```"
      ],
      "metadata": {
        "id": "xoZ0yr78hHu5"
      }
    },
    {
      "cell_type": "markdown",
      "source": [
        "## 2.4 Ejecución del algoritmo paso a paso `(verbose=True)`\n",
        "\n",
        "Usando la opción `verbose=True`, podemos ver lo que ocurre en cada iteración del algoritmo."
      ],
      "metadata": {
        "id": "cvKGtiV65lRZ"
      }
    },
    {
      "cell_type": "code",
      "source": [
        "import random\n",
        "example = random.sample(range(1,100),6)\n",
        "print(\"Entrada :\", example)\n",
        "verbose = True\n",
        "insertionSort(example, verbose)"
      ],
      "metadata": {
        "colab": {
          "base_uri": "https://localhost:8080/"
        },
        "id": "HBhgBFpBXxio",
        "outputId": "8f730d6d-e936-497a-9f24-944d84f29dff"
      },
      "execution_count": 78,
      "outputs": [
        {
          "output_type": "stream",
          "name": "stdout",
          "text": [
            "Entrada : [46, 8, 73, 86, 72, 37]\n",
            " , \u001b[31m46, 46\u001b[0m\n",
            "8, 46, 73 , \u001b[31m86, 86\u001b[0m\n",
            "8, 46 , \u001b[31m73, 73\u001b[0m\n",
            "8, 46, 72, 73 , \u001b[31m86, 86\u001b[0m\n",
            "8, 46, 72 , \u001b[31m73, 73\u001b[0m\n",
            "8, 46 , \u001b[31m72, 72\u001b[0m\n",
            "8 , \u001b[31m46, 46\u001b[0m\n",
            "Salida :  [8, 37, 46, 72, 73, 86]\n",
            "Cantidad de comparaciones : 7\n"
          ]
        }
      ]
    },
    {
      "cell_type": "markdown",
      "source": [
        "# 3. Tiempo de ejecución\n",
        "\n",
        "**Teorema (tiempo de ejecución)**\n",
        "\n",
        "El algoritmo ***insertion sort*** tiene un tiempo de ejecución ***en el peor caso*** de $O(n^2)$.\n",
        "\n",
        "## Prueba del Teorema\n",
        "\n"
      ],
      "metadata": {
        "id": "dM1YalGi5301"
      }
    },
    {
      "cell_type": "markdown",
      "source": [
        "# 4. Correctitud\n",
        "\n",
        "## **Teorema de Correctitud**\n",
        "\n",
        "El algoritmo *insertion sort* ordenado dentro del mismo arreglo los elementos, sin la necesidad de crear un auxiliar.\n",
        "\n",
        "## Prueba del Teorema\n",
        "\n",
        "Previamente observamos que en cada iteración de BubbleSort agregamos un nuevo elemento y lo insertamos en la posición correspondiente.\n",
        "\n",
        "Por lo que probaremos la **propiedad invariante de bucle**:\n",
        "\n",
        "> El arreglo que utilizamos para realizar el algoritmo, contiene los mismos elementos, ya que sólo se mueven durante la ejecución pero no cambian. \n",
        "\n",
        "**Incialización**\n",
        "Al comienzo de la primera iteración, los datos desde la posición 0 hasta i-1 cumplen la propiedad ya que estos no cambian en el proceso.\n",
        "\n",
        "**Mantención**\n",
        "\n",
        "En cada iteración se cumple la propiedad, ya que los elementos siguen siendo los mismos con la diferencia de que están en distinto orden, es decir los elementos mayores del arreglo están ordenados de mayor a menor.\n",
        "\n",
        "**Correctitud**\n",
        "Como la propiedad de invariante es verdad tanto como al inicio del bucle como el final en cada iteración, el arreglo quedará con los mismo elementos y ordenados de menor a mayor."
      ],
      "metadata": {
        "id": "nuxNNF-K_Rjr"
      }
    },
    {
      "cell_type": "markdown",
      "source": [
        "# 5. Experimentos\n",
        "\n",
        "## 5.1 Número de comparaciones\n",
        "\n",
        "\n"
      ],
      "metadata": {
        "id": "MQLKGBEtVXDv"
      }
    }
  ]
}
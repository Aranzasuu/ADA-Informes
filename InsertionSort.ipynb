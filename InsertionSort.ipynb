{
  "nbformat": 4,
  "nbformat_minor": 0,
  "metadata": {
    "colab": {
      "name": "InsertionSort.ipynb",
      "provenance": [],
      "authorship_tag": "ABX9TyPuE31a8p2HsmRm2aOIxs/3",
      "include_colab_link": true
    },
    "kernelspec": {
      "name": "python3",
      "display_name": "Python 3"
    },
    "language_info": {
      "name": "python"
    }
  },
  "cells": [
    {
      "cell_type": "markdown",
      "metadata": {
        "id": "view-in-github",
        "colab_type": "text"
      },
      "source": [
        "<a href=\"https://colab.research.google.com/github/Aranzasuu/ADA-Informes/blob/main/InsertionSort.ipynb\" target=\"_parent\"><img src=\"https://colab.research.google.com/assets/colab-badge.svg\" alt=\"Open In Colab\"/></a>"
      ]
    },
    {
      "cell_type": "markdown",
      "source": [
        "# 1. Problema de Ordenamiento\n",
        "\n",
        "**Entrada:** Secuencia de números.\n",
        "\n",
        "**Salida:** Intercambio de los datos de entrada los cuales resultan una secuencia ordenada.\n",
        "\n",
        "# 2. Insertion Sort\n",
        "\n",
        "La función *insertion sort* corresponde a un algoritmo de ordenamiento la cual al ingresar un dato a la secuencia, lo coloca en la posición correcta en cada iteración.\n",
        "\n",
        "Un ejemplo de esto lo podemos observar en una lista de números.\n",
        "\n",
        "```\n",
        "[ 20 , 14 , 3 , 8 , 7 ]\n",
        "```\n",
        "\n",
        "**Paso 1 :**\n",
        "\n",
        "```\n",
        "[ 20 , 14 , 3 , 8 , 7 ]\n",
        "\n",
        "[ 20 , 20 , 3 , 8 , 7 ]\n",
        "\n",
        "[ 14 , 20 , 3 , 8 , 7 ]\n",
        "```\n",
        "\n",
        "Consideramos el primer elemento como que ya está ordenado. Por lo que debemos analizar el segundo elemento que debemos almacenar para reposicionarlo.\n",
        "\n",
        "Si el segundo elemento es mayor al primer elemento, debemos colocarlo delante de este.\n",
        "\n",
        "**Paso 2 :**\n",
        "\n",
        "Los dos primeros datos están ordenados, por lo que debemos comparar el tercer elemento. Si el tercer elemento es más pequeño que los dos elementos ordenados, debemos posicionarlo en la primera posición.\n",
        "\n",
        "```\n",
        "[ 14 , 20 , 3 , 8 , 7 ]\n",
        "\n",
        "[ 14 , 20 , 20 , 8 , 7 ]\n",
        "\n",
        "[ 14 , 14 , 20 , 8 , 7 ]\n",
        "\n",
        "[ 3 , 14 , 20 , 8 , 7 ]\n",
        "\n",
        "```\n",
        "\n",
        "**Paso 3:**\n",
        "\n",
        "Tal como en los pasos anteriores debemos seguir comparando el siguiente elemento.\n",
        "\n",
        "\n",
        "## Código\n",
        "```\n",
        "def insertionSort(arr):\n",
        "    for i in range(1, len(arr)):\n",
        "        key = arr[i]\n",
        "        j = i-1\n",
        "        while j >=0 and key < arr[j]:\n",
        "            arr[j+1] = arr[j]\n",
        "            j -= 1\n",
        "        arr[j+1] = key\n",
        "```\n",
        "\n",
        "\n",
        "\n",
        "\n",
        "\n",
        "\n",
        "\n",
        "\n",
        "\n",
        "\n",
        "\n",
        "\n",
        "\n",
        "\n",
        "\n"
      ],
      "metadata": {
        "id": "OFfF6y4VvrdE"
      }
    }
  ]
}
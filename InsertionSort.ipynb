{
  "nbformat": 4,
  "nbformat_minor": 0,
  "metadata": {
    "colab": {
      "provenance": [],
      "collapsed_sections": [],
      "authorship_tag": "ABX9TyNqNd8BhQVJRctWvFDPA3C3",
      "include_colab_link": true
    },
    "kernelspec": {
      "name": "python3",
      "display_name": "Python 3"
    },
    "language_info": {
      "name": "python"
    }
  },
  "cells": [
    {
      "cell_type": "markdown",
      "metadata": {
        "id": "view-in-github",
        "colab_type": "text"
      },
      "source": [
        "<a href=\"https://colab.research.google.com/github/Aranzasuu/ADA-Informes/blob/main/InsertionSort.ipynb\" target=\"_parent\"><img src=\"https://colab.research.google.com/assets/colab-badge.svg\" alt=\"Open In Colab\"/></a>"
      ]
    },
    {
      "cell_type": "markdown",
      "source": [
        "# **1. PROBLEMA DE ORDENAMIENTO**\n",
        "\n",
        "> ![image](https://eloutput.com/app/uploads-eloutput.com/2019/05/uno-cartas.jpg)\n",
        "\n",
        "> **↪ ENTRADA:** Arreglo o lista de $n$ elementos $[a_1, a_2,...,a_n]$, donde $n$ corresponde a la cantidad total.\n",
        ">\n",
        "> **↪ SALIDA:** Intercambio de los datos ordenados sin modificar el contenido de la entrada, donde $[a'_1,a'_2,...,a'_n]$, teniendo en cuenta que $a'_1 ≤ a'_2 ≤ ... ≤ a'_n$.\n",
        "\n",
        "El problema de ordenamiento se ha visto presente tanto en el área de computación e informática, donde los datos son importantes y ordenarlos ya sea de forma ascendente o descendente facilita considerablemente el proceso de procesamiento de estos. Por lo que se comenzó con la búsqueda de algún tipo de algoritmo que diera solución a esta problemática.\n",
        "\n",
        "Actualmente contamos con varios algoritmos que nos ayudan de forma eficiente realizar el ordenamiento de nuestros datos, por lo que analizaremos uno de estos."
      ],
      "metadata": {
        "id": "OFfF6y4VvrdE"
      }
    },
    {
      "cell_type": "markdown",
      "source": [
        "# **2. ALGORITMO INSERTION SORT**\n",
        "\n",
        "Este algoritmo resuleve el problema de ordenar una secuencia de números de forma creciente.\n",
        "\n",
        "> **↪ ENTRADA:** Una secuencia de $n$ números $[a_1,a_2,...,a_n]$, donde $n$ corresponde al total de elementos.\n",
        ">\n",
        "> **↪ SALIDA:** La misma secuencia de entrada ordenada de mayor a menor donde $[a'_1,a'_2,...,a'_3]$,teniendo en cuenta que $a'_1 ≤ a'_2 ≤ ... ≤ a'_n$.\n",
        "\n",
        "Es un algoritmo eficiente para la clasificación de números pequeños de elementos. Su funcionamiento es parecido cuando ordenamos una mano de juego de cartas.\n",
        "\n",
        "**PSEUDOCÓDIGO**\n",
        "\n",
        "> ![image](https://sites.google.com/site/analisisydisenodealgoritmos/_/rsrc/1442353455113/home/02-implementacion/Captura13.PNG)\n",
        "\n",
        "Como vimos anteriormente, el algoritmo recibe una lista o arreglo: $A$. Luego, el proceso de ordenamiento se realiza dentro del mismo arreglo (es decir, sin usar una estructura auxiliar).\n",
        "\n",
        "1. Cuando comenzamos, consideramos que sólo el primer elemento se encuentra ordenado, es decir, $A[0]$, y el resto de elementos son como las cartas boca abajo en la mesa.\n",
        "\n",
        "2. Para cada elemento $A[i]$, recorremos el arreglo de la posición 0 a la $i-1$ para encontrar la posición correcta. Luego, colocamos el elemento en esa posición.\n",
        "> Debemos tener cuidado ya que si trabajamos con un arreglo, debemos correr los elementos de la izquierda una posición hacia la derecha.\n",
        "\n",
        "3. Repetimos el procedimiento para cada una de las posiciones del arreglo hasta llegar a la última $n-1$.\n",
        "\n",
        "## **2.1 IMPLEMENTACIÓN DEL CÓDIGO**"
      ],
      "metadata": {
        "id": "Kd-QO4IuhKqX"
      }
    },
    {
      "cell_type": "code",
      "source": [
        "# Importación de las librerías\n",
        "import matplotlib.pyplot as plt\n",
        "import math\n",
        "import datetime\n",
        "from timeit import repeat\n",
        "import numpy as np\n",
        "import random\n",
        "from termcolor import colored"
      ],
      "metadata": {
        "id": "kVS8xIpLi4HV"
      },
      "execution_count": 1,
      "outputs": []
    },
    {
      "cell_type": "code",
      "source": [
        "def insertionSort(A, verbose):\n",
        "\n",
        "    comp = 0  # Variable contador de las comparaciones en el ciclo for\n",
        "\n",
        "    # Recorremos el arreglo\n",
        "    for i in range(1, len(A)):\n",
        "\n",
        "        flag = False # Variable que indica si se realizó algún cambio en el orden\n",
        "\n",
        "        key = A[i] # Variable que guarda el elemento a ordenar\n",
        "        j = i - 1\n",
        "\n",
        "        if verbose: \n",
        "          print(colored(f\"vuelta >> {str(i)}\",\"red\",\"bold\"))\n",
        "          print(\"-------------------------\\n\")\n",
        "          \n",
        "\n",
        "        # Intercambiamos hasta encontrar la posición correcta\n",
        "        while j >= 0 and key < A[j]:\n",
        "            flag = True\n",
        "            if verbose: \n",
        "              print(\"Elementos a intercambiar >>\",A[j+1],\"-\",A[j])\n",
        "              print(str(A[:i])[1:-1],end=\", \")\n",
        "              print(colored(f\"{str(A[i])}\",\"blue\")+\", \"+str(A[i+1:])[1:-1])\n",
        "\n",
        "            # Realizamos el cambio dentro del mismo arreglo\n",
        "            A[j + 1] = A[j]\n",
        "            j -= 1\n",
        "            comp += 1\n",
        "\n",
        "        if flag == False and verbose: \n",
        "          print(\"!! Los elementos ya están ordenados >>\",A[i-1],\"-\",A[i])\n",
        "\n",
        "        A[j + 1] = key # Seguimos con el siguiente elemento del arreglo\n",
        "\n",
        "        if verbose: print(\"\\nArreglo >>\", A,\"\\n\")\n",
        "    return A, comp\n",
        "\n",
        "\n",
        "# Ejemplo\n",
        "A = random.sample(range(1,100), 6)\n",
        "verbose = False\n",
        "print(\"Entrada >>\", A)\n",
        "A, cont = insertionSort(A, verbose)\n",
        "print(\"Salida >>\",A)\n",
        "print(\"Cantidad de comparaciones >>\",cont)"
      ],
      "metadata": {
        "colab": {
          "base_uri": "https://localhost:8080/"
        },
        "id": "JM212WUdf8Gk",
        "outputId": "31c30f8f-3b0d-47d3-db60-74381bc56557"
      },
      "execution_count": 6,
      "outputs": [
        {
          "output_type": "stream",
          "name": "stdout",
          "text": [
            "Entrada >> [63, 41, 64, 55, 92, 35]\n",
            "Salida >> [35, 41, 55, 63, 64, 92]\n",
            "Cantidad de comparaciones >> 8\n"
          ]
        }
      ]
    },
    {
      "cell_type": "markdown",
      "source": [
        "## **2.2 EJEMPLO DEL ALGORITMO**\n",
        "\n",
        "Para entender de mejor manera el funcionamiento de este algoritmo, veremos un ejemplo paso a paso:\n",
        "\n",
        "Contemplemos este arreglo como entrada.\n",
        "\n",
        "> ![image](https://i.imgur.com/8SzDTi5.png)\n",
        "\n",
        "**Paso 1:**\n",
        "\n",
        "> ![image](https://i.imgur.com/PZtGXC9.png)\n",
        "\n",
        "Consideramos el primer elemento como que ya está ordenado. Por lo que debemos analizar el segundo elemento que debemos almacenar para reposicionarlo.\n",
        "\n",
        "Si el segundo elemento es menor que el primer elemento, debemos intercambiarlos.\n",
        "\n",
        "$$A = [14,20,3,8,7]$$\n",
        "\n",
        "**Paso 2:**\n",
        "\n",
        "> ![image](https://i.imgur.com/WgMO7Dg.png)\n",
        "\n",
        "Los dos primeros datos están ordenados, por lo que debemos comparar respecto al tercer elemento. Si este es más pequeño que los dos elementos ya ordenados, debemos posicionarlo en la primera posición.\n",
        "\n",
        "$$A = [3,14,20,8,7]$$\n",
        "\n",
        "**Paso 3:**\n",
        "\n",
        "> ![image](https://i.imgur.com/vigW6aG.png)\n",
        "\n",
        "Tal como en los pasos anteriores debemos seguir comparando el siguiente elemento, en esta caso el 8. Debemos ir intercambiando hasta encontrar la posición correcta.\n",
        "\n",
        "$$A = [3,8,14,20,7]$$\n",
        "\n",
        "**Paso 4:**\n",
        "\n",
        "> ![image](https://i.imgur.com/ZNE1iCz.png)\n",
        "\n",
        "Por último debemos ordenar el número 7, ya que es menor que el 20, 14 y el 8. Así moviéndolo hasta su posición correspondiente.\n",
        "\n",
        "$$A_{final} = [3,7,8,14,20]$$"
      ],
      "metadata": {
        "id": "xoZ0yr78hHu5"
      }
    },
    {
      "cell_type": "markdown",
      "source": [
        "## **2.3 EJECUCIÓN PASO A PASO (VERBOSE = TRUE)**\n",
        "\n",
        "Usando la opción de `verbose = True` en nuestro código, podremos visualizar de manera más amigable cada paso que realiza el algoritmo."
      ],
      "metadata": {
        "id": "cvKGtiV65lRZ"
      }
    },
    {
      "cell_type": "code",
      "source": [
        "A = random.sample(range(1,100), 6)\n",
        "verbose = True\n",
        "print(\"Entrada >>\", A,\"\\n\")\n",
        "A, cont = insertionSort(A, verbose)\n",
        "print(\"Salida >>\",A)\n",
        "print(\"Cantidad de comparaciones >>\",cont)"
      ],
      "metadata": {
        "colab": {
          "base_uri": "https://localhost:8080/"
        },
        "id": "HBhgBFpBXxio",
        "outputId": "2b3e3299-6c54-4d8e-af0e-e0bcf2026232"
      },
      "execution_count": 8,
      "outputs": [
        {
          "output_type": "stream",
          "name": "stdout",
          "text": [
            "Entrada >> [90, 11, 84, 58, 14, 25] \n",
            "\n",
            "vuelta >> 1\n",
            "-------------------------\n",
            "\n",
            "Elementos a intercambiar >> 11 - 90\n",
            "90, 11, 84, 58, 14, 25\n",
            "\n",
            "Arreglo >> [11, 90, 84, 58, 14, 25] \n",
            "\n",
            "vuelta >> 2\n",
            "-------------------------\n",
            "\n",
            "Elementos a intercambiar >> 84 - 90\n",
            "11, 90, 84, 58, 14, 25\n",
            "\n",
            "Arreglo >> [11, 84, 90, 58, 14, 25] \n",
            "\n",
            "vuelta >> 3\n",
            "-------------------------\n",
            "\n",
            "Elementos a intercambiar >> 58 - 90\n",
            "11, 84, 90, 58, 14, 25\n",
            "Elementos a intercambiar >> 90 - 84\n",
            "11, 84, 90, 90, 14, 25\n",
            "\n",
            "Arreglo >> [11, 58, 84, 90, 14, 25] \n",
            "\n",
            "vuelta >> 4\n",
            "-------------------------\n",
            "\n",
            "Elementos a intercambiar >> 14 - 90\n",
            "11, 58, 84, 90, 14, 25\n",
            "Elementos a intercambiar >> 90 - 84\n",
            "11, 58, 84, 90, 90, 25\n",
            "Elementos a intercambiar >> 84 - 58\n",
            "11, 58, 84, 84, 90, 25\n",
            "\n",
            "Arreglo >> [11, 14, 58, 84, 90, 25] \n",
            "\n",
            "vuelta >> 5\n",
            "-------------------------\n",
            "\n",
            "Elementos a intercambiar >> 25 - 90\n",
            "11, 14, 58, 84, 90, 25, \n",
            "Elementos a intercambiar >> 90 - 84\n",
            "11, 14, 58, 84, 90, 90, \n",
            "Elementos a intercambiar >> 84 - 58\n",
            "11, 14, 58, 84, 84, 90, \n",
            "\n",
            "Arreglo >> [11, 14, 25, 58, 84, 90] \n",
            "\n",
            "Salida >> [11, 14, 25, 58, 84, 90]\n",
            "Cantidad de comparaciones >> 10\n"
          ]
        }
      ]
    },
    {
      "cell_type": "markdown",
      "source": [
        "# **3. TIEMPO DE EJECUCIÓN**\n",
        "\n",
        "**TEOREMA**\n",
        "\n",
        "El algoritmo *Insertion sort* tiene un tiempo de ejecución de $O(n)$ en el mejor caso, mientras que en el promedio y peor caso tiene una complejidad de $O(n^2)$.\n",
        "\n",
        "**PRUEBA DEL TEOREMA**\n",
        "\n",
        "**↪ Mejor Caso:** El mejor caso corresponde a cuando el arreglo ya está ordenado de menor a mayor, por lo que sólo recorrer el arreglo nos tomaría $(n-1)$ veces ya que asumimos en todos los casos que el primer elemento ya está ordenado, por lo que:\n",
        "\n",
        "> $$T(n) = (n - 1)$$\n",
        ">\n",
        "> $$O(n)$$\n",
        "\n",
        "**↪ Caso Promedio:** Este caso corresponde cuando los elementos no están ordenados ni de forma ascendente ni descendente, por lo que debemos recorrer $n-1$ veces para revisar si están ordenados y luego volver a recorrer $n-1$ para realizar el cambio a la posición correspondiente de cada elemento.\n",
        "\n",
        "> $$T(n) = (n-1) ⋅ (n-1)$$\n",
        ">\n",
        "> $$O(n^2)$$\n",
        ">\n",
        "> Cabe destacar que se multiplican ya que son ciclos anidados para realizar el proceso de ordenamiento.\n",
        "\n",
        "**↪ Peor Caso:** El peor caso corresponde cuando el arreglo está ordenado de forma inversa, es decir de mayor a menor, por lo que debemos recorrer $n-1$ veces el arreglo para comparar todos los números y volver a recorrer $n-1$ veces para realizar el cambio, igual que en el caso promedio, por lo que:\n",
        "\n",
        "> $$T(n) = (n-1) ⋅ (n-1)$$\n",
        ">\n",
        "> $$O(n^2)$$"
      ],
      "metadata": {
        "id": "dM1YalGi5301"
      }
    },
    {
      "cell_type": "markdown",
      "source": [
        "# **4. CORRECTITUD DEL ALGORITMO**\n",
        "\n",
        "**TEOREMA**\n",
        "\n",
        "El algoritmo ordena dentro del mismo arreglo de entrada los elementos de manera ascendente, $a'_1 ≤ a'_2 ≤ ... ≤ a'_n$.\n",
        "\n",
        "**PRUEBA DEL TEOREMA**\n",
        "\n",
        "En cada iteración, el arreglo hasta $A[i]$ consiste en los elementos originales de entrada pero ordenados, para poder probar el teorema utilizaremos **la propiedad invariante de bucle**:\n",
        "\n",
        "> **↪ INICIALIZACIÓN:** Al comienzo de la primera iteración ($i = 1$) tomamos el primer elemento para comparar, por lo que por lógica lo consideramos como que ya está ordenado.\n",
        ">\n",
        "> **↪ MANTENCIÓN:** Aplicando inducción, se asume que al comienzo de cada iteración se cumple la propiedad, es decir, que los elementos hasta esa posición están ordenados, ya que, las posiciones a la izquierda ya están ordenadas, solo habiendo que mover dicho valor (elemento en la posición i-ésima) a la posición que le corresponde, así el arreglo manteniendo su propiedad.\n",
        ">\n",
        "> **↪ CORRECTITUD:** Como la propiedad de invariante es verdad tanto como al inicio del bucle como el final en cada iteración, el arreglo quedará con los mismo elementos y ordenados de menor a mayor."
      ],
      "metadata": {
        "id": "nuxNNF-K_Rjr"
      }
    },
    {
      "cell_type": "markdown",
      "source": [
        "# **5. EXPERIMENTACIÓN**\n",
        "\n",
        "## **5.1 Cantidad de comparaciones**\n",
        "\n",
        "En esta sección visualizaremos una comparativa de la cantidad de comparaciones entre el mejor y peor caso del algoritmo."
      ],
      "metadata": {
        "id": "MQLKGBEtVXDv"
      }
    },
    {
      "cell_type": "code",
      "source": [
        "x = [n for n in range(5,50)]\n",
        "y1 = [n * (n-1)/2 for n in range(5,50)] # Peor Caso\n",
        "y2 = [n-1 for n in range(5,50)] # Mejor Caso\n",
        "y = [];\n",
        "\n",
        "for n in range(5,50):\n",
        "  A = random.sample(range(1,100),n)\n",
        "  A, cont = insertionSort(A,False)\n",
        "  y.append(cont)\n",
        "\n",
        "plt.plot(x,y)\n",
        "plt.plot(x,y1)\n",
        "plt.plot(x,y2)\n",
        "plt.legend([\"insertionSort\",\"Peor Caso\",\"Mejor Caso\"])\n",
        "\n",
        "plt.xlabel(\"n elementos\")\n",
        "plt.ylabel(\"numero de comparaciones\")\n",
        "plt.show()"
      ],
      "metadata": {
        "colab": {
          "base_uri": "https://localhost:8080/",
          "height": 279
        },
        "id": "u_yivUusjkkb",
        "outputId": "09819099-0e7c-4dbe-f47a-a096dac9dc71"
      },
      "execution_count": 9,
      "outputs": [
        {
          "output_type": "display_data",
          "data": {
            "text/plain": [
              "<Figure size 432x288 with 1 Axes>"
            ],
            "image/png": "[encoded data removed]"
          },
          "metadata": {
            "needs_background": "light"
          }
        }
      ]
    },
    {
      "cell_type": "markdown",
      "source": [
        "Como podemos observar esta gráfica representa el tiempo de ejecución en el mejor y peor caso, además de casos aleatorios ingresados al algoritmo, con un rango de 5 a 50 elementos.\n",
        "\n",
        "Es por esto que podemos concluir a simple vista que el peor caso toma mucho más tiempo que casos aleatorios o el mejor caso, así probando que la teoría del algoritmo es correcta. Además de probar que para el peor caso es $O(n^2)$ y para el mejor es $O(n)$."
      ],
      "metadata": {
        "id": "hj1I4MIRjno0"
      }
    },
    {
      "cell_type": "markdown",
      "source": [
        "## **5.2 Arreglo semi ordenado**\n",
        "\n",
        "Ahora realizaremos una prueba con el número de comparaciones y el tiempo que toma cuando el arreglo está parcialmente ordenado.\n",
        "\n",
        "En este caso, consideraremos $3/4$ ordenado de su totalidad."
      ],
      "metadata": {
        "id": "yKRTOGiHjp3B"
      }
    },
    {
      "cell_type": "code",
      "source": [
        "# Crearemos el arreglo semi ordenado\n",
        "\n",
        "def semiord(n):\n",
        "  orden = int(3*n/4)\n",
        "  A = []\n",
        "  for i in range(0,n):\n",
        "    if (i < orden): A.append(i)\n",
        "    else: A.append(random.randint(1,100))\n",
        "  \n",
        "  return A"
      ],
      "metadata": {
        "id": "jB8bc78ijtj6"
      },
      "execution_count": 10,
      "outputs": []
    },
    {
      "cell_type": "code",
      "source": [
        "# Graficaremos los casos descritos en el punto 5.1 para este arreglo\n",
        "\n",
        "x = [n for n in range(5,50)]\n",
        "y1 = [n * (n-1)/2 for n in range(5,50)] # Peor Caso\n",
        "y2 = [n-1 for n in range(5,50)] # Mejor Caso\n",
        "y = [];\n",
        "\n",
        "for n in range(5,50):\n",
        "  A = semiord(n)\n",
        "  A, cont = insertionSort(A,False)\n",
        "  y.append(cont)\n",
        "\n",
        "plt.plot(x,y)\n",
        "plt.plot(x,y1)\n",
        "plt.plot(x,y2)\n",
        "plt.legend([\"insertionSort\",\"Peor Caso\",\"Mejor Caso\"])\n",
        "\n",
        "plt.xlabel(\"n elementos\")\n",
        "plt.ylabel(\"numero de comparaciones\")\n",
        "plt.show()"
      ],
      "metadata": {
        "colab": {
          "base_uri": "https://localhost:8080/",
          "height": 279
        },
        "id": "psckxdvKjuEa",
        "outputId": "30cb65b3-db15-4b42-9afa-db5144e73754"
      },
      "execution_count": 11,
      "outputs": [
        {
          "output_type": "display_data",
          "data": {
            "text/plain": [
              "<Figure size 432x288 with 1 Axes>"
            ],
            "image/png": "[encoded data removed]"
          },
          "metadata": {
            "needs_background": "light"
          }
        }
      ]
    },
    {
      "cell_type": "markdown",
      "source": [
        "Observando la gráfica podemos concluir que el caso del arreglo ordenado en un 3/4 de su totalidad se asemeja al mejor caso, especialmente cuando el valor de $n$ es menor.\n",
        "\n",
        "**¿Pero que pasaría si lo analizamos de forma independiente su tiempo de ejecución?**"
      ],
      "metadata": {
        "id": "ErOOJGkhjyAq"
      }
    },
    {
      "cell_type": "code",
      "source": [
        "x=[]; y=[]\n",
        "\n",
        "for n in range(5,300):\n",
        "\n",
        "  A = semiord(n)\n",
        "\n",
        "  t = repeat(setup=\"from __main__ import insertionSort\", stmt=f\"insertionSort({A},{False})\", repeat=1, number=10)\n",
        "  \n",
        "  x.append(n)\n",
        "  y.append(t)\n",
        "\n",
        "\n",
        "plt.plot(x,y)\n",
        "plt.legend([\"InsertionSort\"])\n",
        "\n",
        "plt.xlabel('n elementos')\n",
        "plt.ylabel('time in ms')\n",
        "plt.show()"
      ],
      "metadata": {
        "colab": {
          "base_uri": "https://localhost:8080/",
          "height": 279
        },
        "id": "ZH-QVWiQj0mT",
        "outputId": "fdf41b92-73be-4eae-a1fb-1b4633c3fd5e"
      },
      "execution_count": 12,
      "outputs": [
        {
          "output_type": "display_data",
          "data": {
            "text/plain": [
              "<Figure size 432x288 with 1 Axes>"
            ],
            "image/png": "[encoded data removed]"
          },
          "metadata": {
            "needs_background": "light"
          }
        }
      ]
    },
    {
      "cell_type": "markdown",
      "source": [
        "Aquí podemos observar que mientras más aumenta el valor de $n$, su curva es similar a la asíntota."
      ],
      "metadata": {
        "id": "Ubqt_6REj372"
      }
    },
    {
      "cell_type": "markdown",
      "source": [
        "## **5.3 Tiempo Ejecución BubbleSort v/s InsertionSort**\n",
        "\n",
        "Como último experimento realizaremos una comparativa entre el algoritmo bubblesort e insertionsort entre un rango de 5 a 500 elementos."
      ],
      "metadata": {
        "id": "eoUmmdwaj6R1"
      }
    },
    {
      "cell_type": "code",
      "source": [
        "# Algoritmo BubbleSort\n",
        "\n",
        "def bubble_sort(A):\n",
        "    n = len(A)\n",
        "    cont = 0 # contador de comparaciones\n",
        "\n",
        "    for i in range(1, n + 1):\n",
        "        # Flag que indica si el arreglo ya se encuentra ordenado\n",
        "        already_sorted = True\n",
        "\n",
        "        # Se recorre el arreglo\n",
        "        for j in range(n - i):\n",
        "            cont += 1\n",
        "            if A[j] > A[j + 1]:\n",
        "                # Si el elemento es mayor al siguiente se intercambia\n",
        "                A[j], A[j + 1] = A[j + 1], A[j]\n",
        "                already_sorted = False           \n",
        "\n",
        "        if already_sorted:\n",
        "            break\n",
        "\n",
        "    return A, cont"
      ],
      "metadata": {
        "id": "eZulg6N0j94m"
      },
      "execution_count": 14,
      "outputs": []
    },
    {
      "cell_type": "code",
      "source": [
        "x=[]; y=[]; y1=[]\n",
        "\n",
        "for n in range(5,500):\n",
        "\n",
        "  a = random.sample(range(1, 500), n)\n",
        "  b = a\n",
        "\n",
        "  #la función repeat está ejecutando 20 veces bubble_sort con el arreglo a y retorna el mejor tiepo obtenido.\n",
        "  t =repeat(setup=\"from __main__ import bubble_sort\", stmt=f\"bubble_sort({a})\", repeat=1, number=10)\n",
        "  t1 = repeat(setup=\"from __main__ import insertionSort\", stmt=f\"insertionSort({b},{False})\", repeat=1, number=10)\n",
        "  \n",
        "\n",
        "  x.append(n)\n",
        "  y.append(t)\n",
        "  y1.append(t1)\n",
        "\n",
        "\n",
        "plt.plot(x,y)\n",
        "plt.plot(x,y1)\n",
        "plt.legend([\"BubbleSort\",\"InsertionSort\"])\n",
        "\n",
        "plt.xlabel('n')\n",
        "plt.ylabel('time in ms')\n",
        "plt.show()"
      ],
      "metadata": {
        "colab": {
          "base_uri": "https://localhost:8080/",
          "height": 279
        },
        "id": "2bw69ptskCdN",
        "outputId": "3c22f5a6-1aef-4d8e-af40-5216da8c6642"
      },
      "execution_count": 17,
      "outputs": [
        {
          "output_type": "display_data",
          "data": {
            "text/plain": [
              "<Figure size 432x288 with 1 Axes>"
            ],
            "image/png": "[encoded data removed]"
          },
          "metadata": {
            "needs_background": "light"
          }
        }
      ]
    },
    {
      "cell_type": "markdown",
      "source": [
        "Como podemos observar en la gráfica, para casos aleaotorios, el algoritmo de BubbleSort toma mucho más tiempo en comparación al insertionSort, mientras aumenta la cantidad de elementos del arreglo."
      ],
      "metadata": {
        "id": "nUXa2SmZkFxa"
      }
    }
  ]
}